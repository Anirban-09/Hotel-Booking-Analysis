{
 "cells": [
  {
   "cell_type": "code",
   "execution_count": 287,
   "id": "e980925d",
   "metadata": {},
   "outputs": [],
   "source": [
    "import numpy as np\n",
    "import pandas as pd\n",
    "import seaborn as sns\n",
    "import matplotlib.pyplot as plt"
   ]
  },
  {
   "cell_type": "code",
   "execution_count": 288,
   "id": "a4c81c03",
   "metadata": {},
   "outputs": [],
   "source": [
    "import warnings\n",
    "from warnings import filterwarnings\n",
    "filterwarnings('ignore')"
   ]
  },
  {
   "cell_type": "code",
   "execution_count": 289,
   "id": "442c04d5",
   "metadata": {},
   "outputs": [
    {
     "data": {
      "text/html": [
       "<div>\n",
       "<style scoped>\n",
       "    .dataframe tbody tr th:only-of-type {\n",
       "        vertical-align: middle;\n",
       "    }\n",
       "\n",
       "    .dataframe tbody tr th {\n",
       "        vertical-align: top;\n",
       "    }\n",
       "\n",
       "    .dataframe thead th {\n",
       "        text-align: right;\n",
       "    }\n",
       "</style>\n",
       "<table border=\"1\" class=\"dataframe\">\n",
       "  <thead>\n",
       "    <tr style=\"text-align: right;\">\n",
       "      <th></th>\n",
       "      <th>hotel</th>\n",
       "      <th>is_canceled</th>\n",
       "      <th>lead_time</th>\n",
       "      <th>arrival_date_year</th>\n",
       "      <th>arrival_date_month</th>\n",
       "      <th>arrival_date_week_number</th>\n",
       "      <th>arrival_date_day_of_month</th>\n",
       "      <th>stays_in_weekend_nights</th>\n",
       "      <th>stays_in_week_nights</th>\n",
       "      <th>adults</th>\n",
       "      <th>...</th>\n",
       "      <th>deposit_type</th>\n",
       "      <th>agent</th>\n",
       "      <th>company</th>\n",
       "      <th>days_in_waiting_list</th>\n",
       "      <th>customer_type</th>\n",
       "      <th>adr</th>\n",
       "      <th>required_car_parking_spaces</th>\n",
       "      <th>total_of_special_requests</th>\n",
       "      <th>reservation_status</th>\n",
       "      <th>reservation_status_date</th>\n",
       "    </tr>\n",
       "  </thead>\n",
       "  <tbody>\n",
       "    <tr>\n",
       "      <th>0</th>\n",
       "      <td>Resort Hotel</td>\n",
       "      <td>0</td>\n",
       "      <td>342</td>\n",
       "      <td>2015</td>\n",
       "      <td>July</td>\n",
       "      <td>27</td>\n",
       "      <td>1</td>\n",
       "      <td>0</td>\n",
       "      <td>0</td>\n",
       "      <td>2</td>\n",
       "      <td>...</td>\n",
       "      <td>No Deposit</td>\n",
       "      <td>NaN</td>\n",
       "      <td>NaN</td>\n",
       "      <td>0</td>\n",
       "      <td>Transient</td>\n",
       "      <td>0.0</td>\n",
       "      <td>0</td>\n",
       "      <td>0</td>\n",
       "      <td>Check-Out</td>\n",
       "      <td>7/1/2015</td>\n",
       "    </tr>\n",
       "    <tr>\n",
       "      <th>1</th>\n",
       "      <td>Resort Hotel</td>\n",
       "      <td>0</td>\n",
       "      <td>737</td>\n",
       "      <td>2015</td>\n",
       "      <td>July</td>\n",
       "      <td>27</td>\n",
       "      <td>1</td>\n",
       "      <td>0</td>\n",
       "      <td>0</td>\n",
       "      <td>2</td>\n",
       "      <td>...</td>\n",
       "      <td>No Deposit</td>\n",
       "      <td>NaN</td>\n",
       "      <td>NaN</td>\n",
       "      <td>0</td>\n",
       "      <td>Transient</td>\n",
       "      <td>0.0</td>\n",
       "      <td>0</td>\n",
       "      <td>0</td>\n",
       "      <td>Check-Out</td>\n",
       "      <td>7/1/2015</td>\n",
       "    </tr>\n",
       "    <tr>\n",
       "      <th>2</th>\n",
       "      <td>Resort Hotel</td>\n",
       "      <td>0</td>\n",
       "      <td>7</td>\n",
       "      <td>2015</td>\n",
       "      <td>July</td>\n",
       "      <td>27</td>\n",
       "      <td>1</td>\n",
       "      <td>0</td>\n",
       "      <td>1</td>\n",
       "      <td>1</td>\n",
       "      <td>...</td>\n",
       "      <td>No Deposit</td>\n",
       "      <td>NaN</td>\n",
       "      <td>NaN</td>\n",
       "      <td>0</td>\n",
       "      <td>Transient</td>\n",
       "      <td>75.0</td>\n",
       "      <td>0</td>\n",
       "      <td>0</td>\n",
       "      <td>Check-Out</td>\n",
       "      <td>7/2/2015</td>\n",
       "    </tr>\n",
       "    <tr>\n",
       "      <th>3</th>\n",
       "      <td>Resort Hotel</td>\n",
       "      <td>0</td>\n",
       "      <td>13</td>\n",
       "      <td>2015</td>\n",
       "      <td>July</td>\n",
       "      <td>27</td>\n",
       "      <td>1</td>\n",
       "      <td>0</td>\n",
       "      <td>1</td>\n",
       "      <td>1</td>\n",
       "      <td>...</td>\n",
       "      <td>No Deposit</td>\n",
       "      <td>304.0</td>\n",
       "      <td>NaN</td>\n",
       "      <td>0</td>\n",
       "      <td>Transient</td>\n",
       "      <td>75.0</td>\n",
       "      <td>0</td>\n",
       "      <td>0</td>\n",
       "      <td>Check-Out</td>\n",
       "      <td>7/2/2015</td>\n",
       "    </tr>\n",
       "    <tr>\n",
       "      <th>4</th>\n",
       "      <td>Resort Hotel</td>\n",
       "      <td>0</td>\n",
       "      <td>14</td>\n",
       "      <td>2015</td>\n",
       "      <td>July</td>\n",
       "      <td>27</td>\n",
       "      <td>1</td>\n",
       "      <td>0</td>\n",
       "      <td>2</td>\n",
       "      <td>2</td>\n",
       "      <td>...</td>\n",
       "      <td>No Deposit</td>\n",
       "      <td>240.0</td>\n",
       "      <td>NaN</td>\n",
       "      <td>0</td>\n",
       "      <td>Transient</td>\n",
       "      <td>98.0</td>\n",
       "      <td>0</td>\n",
       "      <td>1</td>\n",
       "      <td>Check-Out</td>\n",
       "      <td>7/3/2015</td>\n",
       "    </tr>\n",
       "  </tbody>\n",
       "</table>\n",
       "<p>5 rows × 32 columns</p>\n",
       "</div>"
      ],
      "text/plain": [
       "          hotel  is_canceled  lead_time  arrival_date_year arrival_date_month  \\\n",
       "0  Resort Hotel            0        342               2015               July   \n",
       "1  Resort Hotel            0        737               2015               July   \n",
       "2  Resort Hotel            0          7               2015               July   \n",
       "3  Resort Hotel            0         13               2015               July   \n",
       "4  Resort Hotel            0         14               2015               July   \n",
       "\n",
       "   arrival_date_week_number  arrival_date_day_of_month  \\\n",
       "0                        27                          1   \n",
       "1                        27                          1   \n",
       "2                        27                          1   \n",
       "3                        27                          1   \n",
       "4                        27                          1   \n",
       "\n",
       "   stays_in_weekend_nights  stays_in_week_nights  adults  ...  deposit_type  \\\n",
       "0                        0                     0       2  ...    No Deposit   \n",
       "1                        0                     0       2  ...    No Deposit   \n",
       "2                        0                     1       1  ...    No Deposit   \n",
       "3                        0                     1       1  ...    No Deposit   \n",
       "4                        0                     2       2  ...    No Deposit   \n",
       "\n",
       "   agent company days_in_waiting_list customer_type   adr  \\\n",
       "0    NaN     NaN                    0     Transient   0.0   \n",
       "1    NaN     NaN                    0     Transient   0.0   \n",
       "2    NaN     NaN                    0     Transient  75.0   \n",
       "3  304.0     NaN                    0     Transient  75.0   \n",
       "4  240.0     NaN                    0     Transient  98.0   \n",
       "\n",
       "   required_car_parking_spaces  total_of_special_requests  reservation_status  \\\n",
       "0                            0                          0           Check-Out   \n",
       "1                            0                          0           Check-Out   \n",
       "2                            0                          0           Check-Out   \n",
       "3                            0                          0           Check-Out   \n",
       "4                            0                          1           Check-Out   \n",
       "\n",
       "  reservation_status_date  \n",
       "0                7/1/2015  \n",
       "1                7/1/2015  \n",
       "2                7/2/2015  \n",
       "3                7/2/2015  \n",
       "4                7/3/2015  \n",
       "\n",
       "[5 rows x 32 columns]"
      ]
     },
     "execution_count": 289,
     "metadata": {},
     "output_type": "execute_result"
    }
   ],
   "source": [
    "df= pd.read_csv(r'hotel_bookings.csv')\n",
    "df.head()"
   ]
  },
  {
   "cell_type": "code",
   "execution_count": 290,
   "id": "09b3aa86",
   "metadata": {},
   "outputs": [
    {
     "data": {
      "text/plain": [
       "pandas.core.frame.DataFrame"
      ]
     },
     "execution_count": 290,
     "metadata": {},
     "output_type": "execute_result"
    }
   ],
   "source": [
    "type(df)"
   ]
  },
  {
   "cell_type": "code",
   "execution_count": 291,
   "id": "7225b3c9",
   "metadata": {},
   "outputs": [
    {
     "data": {
      "text/plain": [
       "(119390, 32)"
      ]
     },
     "execution_count": 291,
     "metadata": {},
     "output_type": "execute_result"
    }
   ],
   "source": [
    "df.shape"
   ]
  },
  {
   "cell_type": "markdown",
   "id": "e9340760",
   "metadata": {},
   "source": [
    "### Checking and Filling the missing value"
   ]
  },
  {
   "cell_type": "code",
   "execution_count": 292,
   "id": "c495037b",
   "metadata": {},
   "outputs": [
    {
     "data": {
      "text/plain": [
       "hotel                                  0\n",
       "is_canceled                            0\n",
       "lead_time                              0\n",
       "arrival_date_year                      0\n",
       "arrival_date_month                     0\n",
       "arrival_date_week_number               0\n",
       "arrival_date_day_of_month              0\n",
       "stays_in_weekend_nights                0\n",
       "stays_in_week_nights                   0\n",
       "adults                                 0\n",
       "children                               4\n",
       "babies                                 0\n",
       "meal                                   0\n",
       "country                              488\n",
       "market_segment                         0\n",
       "distribution_channel                   0\n",
       "is_repeated_guest                      0\n",
       "previous_cancellations                 0\n",
       "previous_bookings_not_canceled         0\n",
       "reserved_room_type                     0\n",
       "assigned_room_type                     0\n",
       "booking_changes                        0\n",
       "deposit_type                           0\n",
       "agent                              16340\n",
       "company                           112593\n",
       "days_in_waiting_list                   0\n",
       "customer_type                          0\n",
       "adr                                    0\n",
       "required_car_parking_spaces            0\n",
       "total_of_special_requests              0\n",
       "reservation_status                     0\n",
       "reservation_status_date                0\n",
       "dtype: int64"
      ]
     },
     "execution_count": 292,
     "metadata": {},
     "output_type": "execute_result"
    }
   ],
   "source": [
    "df.isnull().sum()"
   ]
  },
  {
   "cell_type": "code",
   "execution_count": 293,
   "id": "af3ea1f7",
   "metadata": {},
   "outputs": [],
   "source": [
    "df2= df.drop(['agent','company'],axis=1)"
   ]
  },
  {
   "cell_type": "code",
   "execution_count": 294,
   "id": "75e719cc",
   "metadata": {},
   "outputs": [
    {
     "data": {
      "text/html": [
       "<div>\n",
       "<style scoped>\n",
       "    .dataframe tbody tr th:only-of-type {\n",
       "        vertical-align: middle;\n",
       "    }\n",
       "\n",
       "    .dataframe tbody tr th {\n",
       "        vertical-align: top;\n",
       "    }\n",
       "\n",
       "    .dataframe thead th {\n",
       "        text-align: right;\n",
       "    }\n",
       "</style>\n",
       "<table border=\"1\" class=\"dataframe\">\n",
       "  <thead>\n",
       "    <tr style=\"text-align: right;\">\n",
       "      <th></th>\n",
       "      <th>hotel</th>\n",
       "      <th>is_canceled</th>\n",
       "      <th>lead_time</th>\n",
       "      <th>arrival_date_year</th>\n",
       "      <th>arrival_date_month</th>\n",
       "      <th>arrival_date_week_number</th>\n",
       "      <th>arrival_date_day_of_month</th>\n",
       "      <th>stays_in_weekend_nights</th>\n",
       "      <th>stays_in_week_nights</th>\n",
       "      <th>adults</th>\n",
       "      <th>...</th>\n",
       "      <th>assigned_room_type</th>\n",
       "      <th>booking_changes</th>\n",
       "      <th>deposit_type</th>\n",
       "      <th>days_in_waiting_list</th>\n",
       "      <th>customer_type</th>\n",
       "      <th>adr</th>\n",
       "      <th>required_car_parking_spaces</th>\n",
       "      <th>total_of_special_requests</th>\n",
       "      <th>reservation_status</th>\n",
       "      <th>reservation_status_date</th>\n",
       "    </tr>\n",
       "  </thead>\n",
       "  <tbody>\n",
       "    <tr>\n",
       "      <th>0</th>\n",
       "      <td>Resort Hotel</td>\n",
       "      <td>0</td>\n",
       "      <td>342</td>\n",
       "      <td>2015</td>\n",
       "      <td>July</td>\n",
       "      <td>27</td>\n",
       "      <td>1</td>\n",
       "      <td>0</td>\n",
       "      <td>0</td>\n",
       "      <td>2</td>\n",
       "      <td>...</td>\n",
       "      <td>C</td>\n",
       "      <td>3</td>\n",
       "      <td>No Deposit</td>\n",
       "      <td>0</td>\n",
       "      <td>Transient</td>\n",
       "      <td>0.0</td>\n",
       "      <td>0</td>\n",
       "      <td>0</td>\n",
       "      <td>Check-Out</td>\n",
       "      <td>7/1/2015</td>\n",
       "    </tr>\n",
       "    <tr>\n",
       "      <th>1</th>\n",
       "      <td>Resort Hotel</td>\n",
       "      <td>0</td>\n",
       "      <td>737</td>\n",
       "      <td>2015</td>\n",
       "      <td>July</td>\n",
       "      <td>27</td>\n",
       "      <td>1</td>\n",
       "      <td>0</td>\n",
       "      <td>0</td>\n",
       "      <td>2</td>\n",
       "      <td>...</td>\n",
       "      <td>C</td>\n",
       "      <td>4</td>\n",
       "      <td>No Deposit</td>\n",
       "      <td>0</td>\n",
       "      <td>Transient</td>\n",
       "      <td>0.0</td>\n",
       "      <td>0</td>\n",
       "      <td>0</td>\n",
       "      <td>Check-Out</td>\n",
       "      <td>7/1/2015</td>\n",
       "    </tr>\n",
       "    <tr>\n",
       "      <th>2</th>\n",
       "      <td>Resort Hotel</td>\n",
       "      <td>0</td>\n",
       "      <td>7</td>\n",
       "      <td>2015</td>\n",
       "      <td>July</td>\n",
       "      <td>27</td>\n",
       "      <td>1</td>\n",
       "      <td>0</td>\n",
       "      <td>1</td>\n",
       "      <td>1</td>\n",
       "      <td>...</td>\n",
       "      <td>C</td>\n",
       "      <td>0</td>\n",
       "      <td>No Deposit</td>\n",
       "      <td>0</td>\n",
       "      <td>Transient</td>\n",
       "      <td>75.0</td>\n",
       "      <td>0</td>\n",
       "      <td>0</td>\n",
       "      <td>Check-Out</td>\n",
       "      <td>7/2/2015</td>\n",
       "    </tr>\n",
       "  </tbody>\n",
       "</table>\n",
       "<p>3 rows × 30 columns</p>\n",
       "</div>"
      ],
      "text/plain": [
       "          hotel  is_canceled  lead_time  arrival_date_year arrival_date_month  \\\n",
       "0  Resort Hotel            0        342               2015               July   \n",
       "1  Resort Hotel            0        737               2015               July   \n",
       "2  Resort Hotel            0          7               2015               July   \n",
       "\n",
       "   arrival_date_week_number  arrival_date_day_of_month  \\\n",
       "0                        27                          1   \n",
       "1                        27                          1   \n",
       "2                        27                          1   \n",
       "\n",
       "   stays_in_weekend_nights  stays_in_week_nights  adults  ...  \\\n",
       "0                        0                     0       2  ...   \n",
       "1                        0                     0       2  ...   \n",
       "2                        0                     1       1  ...   \n",
       "\n",
       "   assigned_room_type  booking_changes deposit_type days_in_waiting_list  \\\n",
       "0                   C                3   No Deposit                    0   \n",
       "1                   C                4   No Deposit                    0   \n",
       "2                   C                0   No Deposit                    0   \n",
       "\n",
       "  customer_type   adr  required_car_parking_spaces  total_of_special_requests  \\\n",
       "0     Transient   0.0                            0                          0   \n",
       "1     Transient   0.0                            0                          0   \n",
       "2     Transient  75.0                            0                          0   \n",
       "\n",
       "   reservation_status reservation_status_date  \n",
       "0           Check-Out                7/1/2015  \n",
       "1           Check-Out                7/1/2015  \n",
       "2           Check-Out                7/2/2015  \n",
       "\n",
       "[3 rows x 30 columns]"
      ]
     },
     "execution_count": 294,
     "metadata": {},
     "output_type": "execute_result"
    }
   ],
   "source": [
    "df2.head(3)"
   ]
  },
  {
   "cell_type": "code",
   "execution_count": 295,
   "id": "0eb6172d",
   "metadata": {},
   "outputs": [
    {
     "data": {
      "text/plain": [
       "PRT    48590\n",
       "GBR    12129\n",
       "FRA    10415\n",
       "ESP     8568\n",
       "DEU     7287\n",
       "       ...  \n",
       "DJI        1\n",
       "BWA        1\n",
       "HND        1\n",
       "VGB        1\n",
       "NAM        1\n",
       "Name: country, Length: 177, dtype: int64"
      ]
     },
     "execution_count": 295,
     "metadata": {},
     "output_type": "execute_result"
    }
   ],
   "source": [
    "df2['country'].value_counts()"
   ]
  },
  {
   "cell_type": "code",
   "execution_count": 296,
   "id": "d9955aed",
   "metadata": {},
   "outputs": [],
   "source": [
    "df2['country'].fillna(df['country'].value_counts().index[0],inplace=True)"
   ]
  },
  {
   "cell_type": "code",
   "execution_count": 297,
   "id": "98c89cb0",
   "metadata": {},
   "outputs": [],
   "source": [
    "df2.fillna(0,inplace=True)"
   ]
  },
  {
   "cell_type": "code",
   "execution_count": 298,
   "id": "1c349b98",
   "metadata": {},
   "outputs": [
    {
     "data": {
      "text/plain": [
       "0"
      ]
     },
     "execution_count": 298,
     "metadata": {},
     "output_type": "execute_result"
    }
   ],
   "source": [
    "df2.isnull().sum().sum()"
   ]
  },
  {
   "cell_type": "code",
   "execution_count": 299,
   "id": "21e910d7",
   "metadata": {},
   "outputs": [
    {
     "data": {
      "text/html": [
       "<div>\n",
       "<style scoped>\n",
       "    .dataframe tbody tr th:only-of-type {\n",
       "        vertical-align: middle;\n",
       "    }\n",
       "\n",
       "    .dataframe tbody tr th {\n",
       "        vertical-align: top;\n",
       "    }\n",
       "\n",
       "    .dataframe thead th {\n",
       "        text-align: right;\n",
       "    }\n",
       "</style>\n",
       "<table border=\"1\" class=\"dataframe\">\n",
       "  <thead>\n",
       "    <tr style=\"text-align: right;\">\n",
       "      <th></th>\n",
       "      <th>hotel</th>\n",
       "      <th>is_canceled</th>\n",
       "      <th>lead_time</th>\n",
       "      <th>arrival_date_year</th>\n",
       "      <th>arrival_date_month</th>\n",
       "      <th>arrival_date_week_number</th>\n",
       "      <th>arrival_date_day_of_month</th>\n",
       "      <th>stays_in_weekend_nights</th>\n",
       "      <th>stays_in_week_nights</th>\n",
       "      <th>adults</th>\n",
       "      <th>...</th>\n",
       "      <th>deposit_type</th>\n",
       "      <th>agent</th>\n",
       "      <th>company</th>\n",
       "      <th>days_in_waiting_list</th>\n",
       "      <th>customer_type</th>\n",
       "      <th>adr</th>\n",
       "      <th>required_car_parking_spaces</th>\n",
       "      <th>total_of_special_requests</th>\n",
       "      <th>reservation_status</th>\n",
       "      <th>reservation_status_date</th>\n",
       "    </tr>\n",
       "  </thead>\n",
       "  <tbody>\n",
       "    <tr>\n",
       "      <th>2224</th>\n",
       "      <td>Resort Hotel</td>\n",
       "      <td>0</td>\n",
       "      <td>1</td>\n",
       "      <td>2015</td>\n",
       "      <td>October</td>\n",
       "      <td>41</td>\n",
       "      <td>6</td>\n",
       "      <td>0</td>\n",
       "      <td>3</td>\n",
       "      <td>0</td>\n",
       "      <td>...</td>\n",
       "      <td>No Deposit</td>\n",
       "      <td>NaN</td>\n",
       "      <td>174.0</td>\n",
       "      <td>0</td>\n",
       "      <td>Transient-Party</td>\n",
       "      <td>0.00</td>\n",
       "      <td>0</td>\n",
       "      <td>0</td>\n",
       "      <td>Check-Out</td>\n",
       "      <td>10/6/2015</td>\n",
       "    </tr>\n",
       "    <tr>\n",
       "      <th>2409</th>\n",
       "      <td>Resort Hotel</td>\n",
       "      <td>0</td>\n",
       "      <td>0</td>\n",
       "      <td>2015</td>\n",
       "      <td>October</td>\n",
       "      <td>42</td>\n",
       "      <td>12</td>\n",
       "      <td>0</td>\n",
       "      <td>0</td>\n",
       "      <td>0</td>\n",
       "      <td>...</td>\n",
       "      <td>No Deposit</td>\n",
       "      <td>NaN</td>\n",
       "      <td>174.0</td>\n",
       "      <td>0</td>\n",
       "      <td>Transient</td>\n",
       "      <td>0.00</td>\n",
       "      <td>0</td>\n",
       "      <td>0</td>\n",
       "      <td>Check-Out</td>\n",
       "      <td>10/12/2015</td>\n",
       "    </tr>\n",
       "    <tr>\n",
       "      <th>3181</th>\n",
       "      <td>Resort Hotel</td>\n",
       "      <td>0</td>\n",
       "      <td>36</td>\n",
       "      <td>2015</td>\n",
       "      <td>November</td>\n",
       "      <td>47</td>\n",
       "      <td>20</td>\n",
       "      <td>1</td>\n",
       "      <td>2</td>\n",
       "      <td>0</td>\n",
       "      <td>...</td>\n",
       "      <td>No Deposit</td>\n",
       "      <td>38.0</td>\n",
       "      <td>NaN</td>\n",
       "      <td>0</td>\n",
       "      <td>Transient-Party</td>\n",
       "      <td>0.00</td>\n",
       "      <td>0</td>\n",
       "      <td>0</td>\n",
       "      <td>Check-Out</td>\n",
       "      <td>11/23/2015</td>\n",
       "    </tr>\n",
       "    <tr>\n",
       "      <th>3684</th>\n",
       "      <td>Resort Hotel</td>\n",
       "      <td>0</td>\n",
       "      <td>165</td>\n",
       "      <td>2015</td>\n",
       "      <td>December</td>\n",
       "      <td>53</td>\n",
       "      <td>30</td>\n",
       "      <td>1</td>\n",
       "      <td>4</td>\n",
       "      <td>0</td>\n",
       "      <td>...</td>\n",
       "      <td>No Deposit</td>\n",
       "      <td>308.0</td>\n",
       "      <td>NaN</td>\n",
       "      <td>122</td>\n",
       "      <td>Transient-Party</td>\n",
       "      <td>0.00</td>\n",
       "      <td>0</td>\n",
       "      <td>0</td>\n",
       "      <td>Check-Out</td>\n",
       "      <td>1/4/2016</td>\n",
       "    </tr>\n",
       "    <tr>\n",
       "      <th>3708</th>\n",
       "      <td>Resort Hotel</td>\n",
       "      <td>0</td>\n",
       "      <td>165</td>\n",
       "      <td>2015</td>\n",
       "      <td>December</td>\n",
       "      <td>53</td>\n",
       "      <td>30</td>\n",
       "      <td>2</td>\n",
       "      <td>4</td>\n",
       "      <td>0</td>\n",
       "      <td>...</td>\n",
       "      <td>No Deposit</td>\n",
       "      <td>308.0</td>\n",
       "      <td>NaN</td>\n",
       "      <td>122</td>\n",
       "      <td>Transient-Party</td>\n",
       "      <td>0.00</td>\n",
       "      <td>0</td>\n",
       "      <td>0</td>\n",
       "      <td>Check-Out</td>\n",
       "      <td>1/5/2016</td>\n",
       "    </tr>\n",
       "    <tr>\n",
       "      <th>...</th>\n",
       "      <td>...</td>\n",
       "      <td>...</td>\n",
       "      <td>...</td>\n",
       "      <td>...</td>\n",
       "      <td>...</td>\n",
       "      <td>...</td>\n",
       "      <td>...</td>\n",
       "      <td>...</td>\n",
       "      <td>...</td>\n",
       "      <td>...</td>\n",
       "      <td>...</td>\n",
       "      <td>...</td>\n",
       "      <td>...</td>\n",
       "      <td>...</td>\n",
       "      <td>...</td>\n",
       "      <td>...</td>\n",
       "      <td>...</td>\n",
       "      <td>...</td>\n",
       "      <td>...</td>\n",
       "      <td>...</td>\n",
       "      <td>...</td>\n",
       "    </tr>\n",
       "    <tr>\n",
       "      <th>115029</th>\n",
       "      <td>City Hotel</td>\n",
       "      <td>0</td>\n",
       "      <td>107</td>\n",
       "      <td>2017</td>\n",
       "      <td>June</td>\n",
       "      <td>26</td>\n",
       "      <td>27</td>\n",
       "      <td>0</td>\n",
       "      <td>3</td>\n",
       "      <td>0</td>\n",
       "      <td>...</td>\n",
       "      <td>No Deposit</td>\n",
       "      <td>7.0</td>\n",
       "      <td>NaN</td>\n",
       "      <td>0</td>\n",
       "      <td>Transient</td>\n",
       "      <td>100.80</td>\n",
       "      <td>0</td>\n",
       "      <td>0</td>\n",
       "      <td>Check-Out</td>\n",
       "      <td>6/30/2017</td>\n",
       "    </tr>\n",
       "    <tr>\n",
       "      <th>115091</th>\n",
       "      <td>City Hotel</td>\n",
       "      <td>0</td>\n",
       "      <td>1</td>\n",
       "      <td>2017</td>\n",
       "      <td>June</td>\n",
       "      <td>26</td>\n",
       "      <td>30</td>\n",
       "      <td>0</td>\n",
       "      <td>1</td>\n",
       "      <td>0</td>\n",
       "      <td>...</td>\n",
       "      <td>No Deposit</td>\n",
       "      <td>NaN</td>\n",
       "      <td>NaN</td>\n",
       "      <td>0</td>\n",
       "      <td>Transient</td>\n",
       "      <td>0.00</td>\n",
       "      <td>1</td>\n",
       "      <td>1</td>\n",
       "      <td>Check-Out</td>\n",
       "      <td>7/1/2017</td>\n",
       "    </tr>\n",
       "    <tr>\n",
       "      <th>116251</th>\n",
       "      <td>City Hotel</td>\n",
       "      <td>0</td>\n",
       "      <td>44</td>\n",
       "      <td>2017</td>\n",
       "      <td>July</td>\n",
       "      <td>28</td>\n",
       "      <td>15</td>\n",
       "      <td>1</td>\n",
       "      <td>1</td>\n",
       "      <td>0</td>\n",
       "      <td>...</td>\n",
       "      <td>No Deposit</td>\n",
       "      <td>425.0</td>\n",
       "      <td>NaN</td>\n",
       "      <td>0</td>\n",
       "      <td>Transient</td>\n",
       "      <td>73.80</td>\n",
       "      <td>0</td>\n",
       "      <td>0</td>\n",
       "      <td>Check-Out</td>\n",
       "      <td>7/17/2017</td>\n",
       "    </tr>\n",
       "    <tr>\n",
       "      <th>116534</th>\n",
       "      <td>City Hotel</td>\n",
       "      <td>0</td>\n",
       "      <td>2</td>\n",
       "      <td>2017</td>\n",
       "      <td>July</td>\n",
       "      <td>28</td>\n",
       "      <td>15</td>\n",
       "      <td>2</td>\n",
       "      <td>5</td>\n",
       "      <td>0</td>\n",
       "      <td>...</td>\n",
       "      <td>No Deposit</td>\n",
       "      <td>9.0</td>\n",
       "      <td>NaN</td>\n",
       "      <td>0</td>\n",
       "      <td>Transient-Party</td>\n",
       "      <td>22.86</td>\n",
       "      <td>0</td>\n",
       "      <td>1</td>\n",
       "      <td>Check-Out</td>\n",
       "      <td>7/22/2017</td>\n",
       "    </tr>\n",
       "    <tr>\n",
       "      <th>117087</th>\n",
       "      <td>City Hotel</td>\n",
       "      <td>0</td>\n",
       "      <td>170</td>\n",
       "      <td>2017</td>\n",
       "      <td>July</td>\n",
       "      <td>30</td>\n",
       "      <td>27</td>\n",
       "      <td>0</td>\n",
       "      <td>2</td>\n",
       "      <td>0</td>\n",
       "      <td>...</td>\n",
       "      <td>No Deposit</td>\n",
       "      <td>52.0</td>\n",
       "      <td>NaN</td>\n",
       "      <td>0</td>\n",
       "      <td>Transient</td>\n",
       "      <td>0.00</td>\n",
       "      <td>0</td>\n",
       "      <td>0</td>\n",
       "      <td>Check-Out</td>\n",
       "      <td>7/29/2017</td>\n",
       "    </tr>\n",
       "  </tbody>\n",
       "</table>\n",
       "<p>180 rows × 32 columns</p>\n",
       "</div>"
      ],
      "text/plain": [
       "               hotel  is_canceled  lead_time  arrival_date_year  \\\n",
       "2224    Resort Hotel            0          1               2015   \n",
       "2409    Resort Hotel            0          0               2015   \n",
       "3181    Resort Hotel            0         36               2015   \n",
       "3684    Resort Hotel            0        165               2015   \n",
       "3708    Resort Hotel            0        165               2015   \n",
       "...              ...          ...        ...                ...   \n",
       "115029    City Hotel            0        107               2017   \n",
       "115091    City Hotel            0          1               2017   \n",
       "116251    City Hotel            0         44               2017   \n",
       "116534    City Hotel            0          2               2017   \n",
       "117087    City Hotel            0        170               2017   \n",
       "\n",
       "       arrival_date_month  arrival_date_week_number  \\\n",
       "2224              October                        41   \n",
       "2409              October                        42   \n",
       "3181             November                        47   \n",
       "3684             December                        53   \n",
       "3708             December                        53   \n",
       "...                   ...                       ...   \n",
       "115029               June                        26   \n",
       "115091               June                        26   \n",
       "116251               July                        28   \n",
       "116534               July                        28   \n",
       "117087               July                        30   \n",
       "\n",
       "        arrival_date_day_of_month  stays_in_weekend_nights  \\\n",
       "2224                            6                        0   \n",
       "2409                           12                        0   \n",
       "3181                           20                        1   \n",
       "3684                           30                        1   \n",
       "3708                           30                        2   \n",
       "...                           ...                      ...   \n",
       "115029                         27                        0   \n",
       "115091                         30                        0   \n",
       "116251                         15                        1   \n",
       "116534                         15                        2   \n",
       "117087                         27                        0   \n",
       "\n",
       "        stays_in_week_nights  adults  ...  deposit_type  agent company  \\\n",
       "2224                       3       0  ...    No Deposit    NaN   174.0   \n",
       "2409                       0       0  ...    No Deposit    NaN   174.0   \n",
       "3181                       2       0  ...    No Deposit   38.0     NaN   \n",
       "3684                       4       0  ...    No Deposit  308.0     NaN   \n",
       "3708                       4       0  ...    No Deposit  308.0     NaN   \n",
       "...                      ...     ...  ...           ...    ...     ...   \n",
       "115029                     3       0  ...    No Deposit    7.0     NaN   \n",
       "115091                     1       0  ...    No Deposit    NaN     NaN   \n",
       "116251                     1       0  ...    No Deposit  425.0     NaN   \n",
       "116534                     5       0  ...    No Deposit    9.0     NaN   \n",
       "117087                     2       0  ...    No Deposit   52.0     NaN   \n",
       "\n",
       "       days_in_waiting_list    customer_type     adr  \\\n",
       "2224                      0  Transient-Party    0.00   \n",
       "2409                      0        Transient    0.00   \n",
       "3181                      0  Transient-Party    0.00   \n",
       "3684                    122  Transient-Party    0.00   \n",
       "3708                    122  Transient-Party    0.00   \n",
       "...                     ...              ...     ...   \n",
       "115029                    0        Transient  100.80   \n",
       "115091                    0        Transient    0.00   \n",
       "116251                    0        Transient   73.80   \n",
       "116534                    0  Transient-Party   22.86   \n",
       "117087                    0        Transient    0.00   \n",
       "\n",
       "        required_car_parking_spaces  total_of_special_requests  \\\n",
       "2224                              0                          0   \n",
       "2409                              0                          0   \n",
       "3181                              0                          0   \n",
       "3684                              0                          0   \n",
       "3708                              0                          0   \n",
       "...                             ...                        ...   \n",
       "115029                            0                          0   \n",
       "115091                            1                          1   \n",
       "116251                            0                          0   \n",
       "116534                            0                          1   \n",
       "117087                            0                          0   \n",
       "\n",
       "        reservation_status reservation_status_date  \n",
       "2224             Check-Out               10/6/2015  \n",
       "2409             Check-Out              10/12/2015  \n",
       "3181             Check-Out              11/23/2015  \n",
       "3684             Check-Out                1/4/2016  \n",
       "3708             Check-Out                1/5/2016  \n",
       "...                    ...                     ...  \n",
       "115029           Check-Out               6/30/2017  \n",
       "115091           Check-Out                7/1/2017  \n",
       "116251           Check-Out               7/17/2017  \n",
       "116534           Check-Out               7/22/2017  \n",
       "117087           Check-Out               7/29/2017  \n",
       "\n",
       "[180 rows x 32 columns]"
      ]
     },
     "execution_count": 299,
     "metadata": {},
     "output_type": "execute_result"
    }
   ],
   "source": [
    "filter1= (df['children']==0) & (df['adults']==0) & (df['babies']==0)\n",
    "df[filter1]"
   ]
  },
  {
   "cell_type": "code",
   "execution_count": 300,
   "id": "ee39d1de",
   "metadata": {},
   "outputs": [
    {
     "data": {
      "text/plain": [
       "(119210, 32)"
      ]
     },
     "execution_count": 300,
     "metadata": {},
     "output_type": "execute_result"
    }
   ],
   "source": [
    "data= df[~filter1]\n",
    "data.shape"
   ]
  },
  {
   "cell_type": "code",
   "execution_count": 301,
   "id": "209799db",
   "metadata": {},
   "outputs": [
    {
     "data": {
      "text/plain": [
       "(119390, 32)"
      ]
     },
     "execution_count": 301,
     "metadata": {},
     "output_type": "execute_result"
    }
   ],
   "source": [
    "df.shape"
   ]
  },
  {
   "cell_type": "markdown",
   "id": "3c44832d",
   "metadata": {},
   "source": [
    "### How many guests are from which country"
   ]
  },
  {
   "cell_type": "code",
   "execution_count": 302,
   "id": "ce7ede17",
   "metadata": {},
   "outputs": [
    {
     "data": {
      "text/plain": [
       "array([0, 1], dtype=int64)"
      ]
     },
     "execution_count": 302,
     "metadata": {},
     "output_type": "execute_result"
    }
   ],
   "source": [
    "data['is_canceled'].unique()"
   ]
  },
  {
   "cell_type": "code",
   "execution_count": 303,
   "id": "92e13694",
   "metadata": {},
   "outputs": [
    {
     "data": {
      "text/plain": [
       "75011"
      ]
     },
     "execution_count": 303,
     "metadata": {},
     "output_type": "execute_result"
    }
   ],
   "source": [
    "len(data[data['is_canceled']==0])"
   ]
  },
  {
   "cell_type": "code",
   "execution_count": 304,
   "id": "151b670f",
   "metadata": {},
   "outputs": [
    {
     "data": {
      "text/plain": [
       "PRT    0.279652\n",
       "GBR    0.128888\n",
       "FRA    0.112890\n",
       "ESP    0.085094\n",
       "DEU    0.080881\n",
       "         ...   \n",
       "BHR    0.000013\n",
       "DJI    0.000013\n",
       "MLI    0.000013\n",
       "NPL    0.000013\n",
       "FRO    0.000013\n",
       "Name: country, Length: 165, dtype: float64"
      ]
     },
     "execution_count": 304,
     "metadata": {},
     "output_type": "execute_result"
    }
   ],
   "source": [
    "data[data['is_canceled']==0]['country'].value_counts()/75011"
   ]
  },
  {
   "cell_type": "code",
   "execution_count": 305,
   "id": "d1d0c179",
   "metadata": {},
   "outputs": [
    {
     "data": {
      "text/html": [
       "<div>\n",
       "<style scoped>\n",
       "    .dataframe tbody tr th:only-of-type {\n",
       "        vertical-align: middle;\n",
       "    }\n",
       "\n",
       "    .dataframe tbody tr th {\n",
       "        vertical-align: top;\n",
       "    }\n",
       "\n",
       "    .dataframe thead th {\n",
       "        text-align: right;\n",
       "    }\n",
       "</style>\n",
       "<table border=\"1\" class=\"dataframe\">\n",
       "  <thead>\n",
       "    <tr style=\"text-align: right;\">\n",
       "      <th></th>\n",
       "      <th>country</th>\n",
       "      <th>no_of_guests</th>\n",
       "    </tr>\n",
       "  </thead>\n",
       "  <tbody>\n",
       "    <tr>\n",
       "      <th>0</th>\n",
       "      <td>PRT</td>\n",
       "      <td>20977</td>\n",
       "    </tr>\n",
       "    <tr>\n",
       "      <th>1</th>\n",
       "      <td>GBR</td>\n",
       "      <td>9668</td>\n",
       "    </tr>\n",
       "    <tr>\n",
       "      <th>2</th>\n",
       "      <td>FRA</td>\n",
       "      <td>8468</td>\n",
       "    </tr>\n",
       "    <tr>\n",
       "      <th>3</th>\n",
       "      <td>ESP</td>\n",
       "      <td>6383</td>\n",
       "    </tr>\n",
       "    <tr>\n",
       "      <th>4</th>\n",
       "      <td>DEU</td>\n",
       "      <td>6067</td>\n",
       "    </tr>\n",
       "    <tr>\n",
       "      <th>...</th>\n",
       "      <td>...</td>\n",
       "      <td>...</td>\n",
       "    </tr>\n",
       "    <tr>\n",
       "      <th>160</th>\n",
       "      <td>BHR</td>\n",
       "      <td>1</td>\n",
       "    </tr>\n",
       "    <tr>\n",
       "      <th>161</th>\n",
       "      <td>DJI</td>\n",
       "      <td>1</td>\n",
       "    </tr>\n",
       "    <tr>\n",
       "      <th>162</th>\n",
       "      <td>MLI</td>\n",
       "      <td>1</td>\n",
       "    </tr>\n",
       "    <tr>\n",
       "      <th>163</th>\n",
       "      <td>NPL</td>\n",
       "      <td>1</td>\n",
       "    </tr>\n",
       "    <tr>\n",
       "      <th>164</th>\n",
       "      <td>FRO</td>\n",
       "      <td>1</td>\n",
       "    </tr>\n",
       "  </tbody>\n",
       "</table>\n",
       "<p>165 rows × 2 columns</p>\n",
       "</div>"
      ],
      "text/plain": [
       "    country  no_of_guests\n",
       "0       PRT         20977\n",
       "1       GBR          9668\n",
       "2       FRA          8468\n",
       "3       ESP          6383\n",
       "4       DEU          6067\n",
       "..      ...           ...\n",
       "160     BHR             1\n",
       "161     DJI             1\n",
       "162     MLI             1\n",
       "163     NPL             1\n",
       "164     FRO             1\n",
       "\n",
       "[165 rows x 2 columns]"
      ]
     },
     "execution_count": 305,
     "metadata": {},
     "output_type": "execute_result"
    }
   ],
   "source": [
    "country_wise_data= data[data['is_canceled']==0]['country'].value_counts().reset_index()\n",
    "country_wise_data.columns=['country','no_of_guests']\n",
    "country_wise_data"
   ]
  },
  {
   "cell_type": "code",
   "execution_count": 306,
   "id": "36f17ef4",
   "metadata": {},
   "outputs": [
    {
     "name": "stdout",
     "output_type": "stream",
     "text": [
      "Requirement already satisfied: chart_studio in c:\\users\\soura\\anaconda3\\lib\\site-packages (1.1.0)\n",
      "Requirement already satisfied: plotly in c:\\users\\soura\\anaconda3\\lib\\site-packages (from chart_studio) (5.9.0)\n",
      "Requirement already satisfied: requests in c:\\users\\soura\\anaconda3\\lib\\site-packages (from chart_studio) (2.31.0)\n",
      "Requirement already satisfied: retrying>=1.3.3 in c:\\users\\soura\\anaconda3\\lib\\site-packages (from chart_studio) (1.3.4)\n",
      "Requirement already satisfied: six in c:\\users\\soura\\anaconda3\\lib\\site-packages (from chart_studio) (1.16.0)\n",
      "Requirement already satisfied: tenacity>=6.2.0 in c:\\users\\soura\\anaconda3\\lib\\site-packages (from plotly->chart_studio) (8.2.2)\n",
      "Requirement already satisfied: charset-normalizer<4,>=2 in c:\\users\\soura\\anaconda3\\lib\\site-packages (from requests->chart_studio) (2.0.4)\n",
      "Requirement already satisfied: idna<4,>=2.5 in c:\\users\\soura\\anaconda3\\lib\\site-packages (from requests->chart_studio) (3.4)\n",
      "Requirement already satisfied: urllib3<3,>=1.21.1 in c:\\users\\soura\\anaconda3\\lib\\site-packages (from requests->chart_studio) (1.26.16)\n",
      "Requirement already satisfied: certifi>=2017.4.17 in c:\\users\\soura\\anaconda3\\lib\\site-packages (from requests->chart_studio) (2023.7.22)\n",
      "Note: you may need to restart the kernel to use updated packages.\n"
     ]
    }
   ],
   "source": [
    "pip install chart_studio"
   ]
  },
  {
   "cell_type": "code",
   "execution_count": 307,
   "id": "d6912af8",
   "metadata": {},
   "outputs": [
    {
     "data": {
      "text/html": [
       "        <script type=\"text/javascript\">\n",
       "        window.PlotlyConfig = {MathJaxConfig: 'local'};\n",
       "        if (window.MathJax && window.MathJax.Hub && window.MathJax.Hub.Config) {window.MathJax.Hub.Config({SVG: {font: \"STIX-Web\"}});}\n",
       "        if (typeof require !== 'undefined') {\n",
       "        require.undef(\"plotly\");\n",
       "        requirejs.config({\n",
       "            paths: {\n",
       "                'plotly': ['https://cdn.plot.ly/plotly-2.12.1.min']\n",
       "            }\n",
       "        });\n",
       "        require(['plotly'], function(Plotly) {\n",
       "            window._Plotly = Plotly;\n",
       "        });\n",
       "        }\n",
       "        </script>\n",
       "        "
      ]
     },
     "metadata": {},
     "output_type": "display_data"
    }
   ],
   "source": [
    "import plotly\n",
    "import chart_studio.plotly as py\n",
    "from plotly.offline import download_plotlyjs, init_notebook_mode, plot, iplot\n",
    "init_notebook_mode(connected=True)"
   ]
  },
  {
   "cell_type": "code",
   "execution_count": 308,
   "id": "c863289d",
   "metadata": {},
   "outputs": [],
   "source": [
    "import plotly.express as px"
   ]
  },
  {
   "cell_type": "code",
   "execution_count": 309,
   "id": "f1d6d8c3",
   "metadata": {},
   "outputs": [
    {
     "data": {
      "application/vnd.plotly.v1+json": {
       "config": {
        "plotlyServerURL": "https://plot.ly"
       },
       "data": [
        {
         "coloraxis": "coloraxis",
         "geo": "geo",
         "hovertemplate": "<b>%{hovertext}</b><br><br>country=%{location}<br>no_of_guests=%{z}<extra></extra>",
         "hovertext": [
          "PRT",
          "GBR",
          "FRA",
          "ESP",
          "DEU",
          "IRL",
          "ITA",
          "BEL",
          "NLD",
          "USA",
          "BRA",
          "CHE",
          "AUT",
          "CN",
          "SWE",
          "POL",
          "CHN",
          "ISR",
          "NOR",
          "RUS",
          "FIN",
          "ROU",
          "DNK",
          "AUS",
          "LUX",
          "JPN",
          "ARG",
          "AGO",
          "HUN",
          "MAR",
          "TUR",
          "CZE",
          "IND",
          "SRB",
          "GRC",
          "DZA",
          "KOR",
          "MEX",
          "HRV",
          "LTU",
          "NZL",
          "EST",
          "BGR",
          "IRN",
          "ISL",
          "ZAF",
          "CHL",
          "COL",
          "UKR",
          "MOZ",
          "LVA",
          "SVN",
          "SVK",
          "THA",
          "CYP",
          "TWN",
          "MYS",
          "URY",
          "PER",
          "SGP",
          "LBN",
          "EGY",
          "TUN",
          "ECU",
          "JOR",
          "CRI",
          "BLR",
          "PHL",
          "SAU",
          "OMN",
          "IRQ",
          "VEN",
          "KAZ",
          "NGA",
          "MLT",
          "CPV",
          "IDN",
          "CMR",
          "BIH",
          "PRI",
          "ALB",
          "KWT",
          "BOL",
          "PAN",
          "ARE",
          "GNB",
          "MKD",
          "LBY",
          "CUB",
          "AZE",
          "GEO",
          "GIB",
          "LKA",
          "VNM",
          "MUS",
          "ARM",
          "JAM",
          "DOM",
          "CAF",
          "SUR",
          "PAK",
          "GTM",
          "KEN",
          "BRB",
          "CIV",
          "PRY",
          "QAT",
          "SYR",
          "MCO",
          "SEN",
          "HKG",
          "BGD",
          "MNE",
          "MDV",
          "ABW",
          "RWA",
          "SLV",
          "TZA",
          "GAB",
          "TMP",
          "GHA",
          "ATA",
          "LIE",
          "LAO",
          "MWI",
          "ETH",
          "TGO",
          "ZWE",
          "COM",
          "AND",
          "UZB",
          "UGA",
          "STP",
          "KNA",
          "MAC",
          "MRT",
          "BWA",
          "SMR",
          "ZMB",
          "ASM",
          "NCL",
          "GUY",
          "KIR",
          "SDN",
          "ATF",
          "TJK",
          "SLE",
          "CYM",
          "LCA",
          "PYF",
          "BHS",
          "DMA",
          "MMR",
          "AIA",
          "BDI",
          "BFA",
          "PLW",
          "SYC",
          "MDG",
          "NAM",
          "BHR",
          "DJI",
          "MLI",
          "NPL",
          "FRO"
         ],
         "locations": [
          "PRT",
          "GBR",
          "FRA",
          "ESP",
          "DEU",
          "IRL",
          "ITA",
          "BEL",
          "NLD",
          "USA",
          "BRA",
          "CHE",
          "AUT",
          "CN",
          "SWE",
          "POL",
          "CHN",
          "ISR",
          "NOR",
          "RUS",
          "FIN",
          "ROU",
          "DNK",
          "AUS",
          "LUX",
          "JPN",
          "ARG",
          "AGO",
          "HUN",
          "MAR",
          "TUR",
          "CZE",
          "IND",
          "SRB",
          "GRC",
          "DZA",
          "KOR",
          "MEX",
          "HRV",
          "LTU",
          "NZL",
          "EST",
          "BGR",
          "IRN",
          "ISL",
          "ZAF",
          "CHL",
          "COL",
          "UKR",
          "MOZ",
          "LVA",
          "SVN",
          "SVK",
          "THA",
          "CYP",
          "TWN",
          "MYS",
          "URY",
          "PER",
          "SGP",
          "LBN",
          "EGY",
          "TUN",
          "ECU",
          "JOR",
          "CRI",
          "BLR",
          "PHL",
          "SAU",
          "OMN",
          "IRQ",
          "VEN",
          "KAZ",
          "NGA",
          "MLT",
          "CPV",
          "IDN",
          "CMR",
          "BIH",
          "PRI",
          "ALB",
          "KWT",
          "BOL",
          "PAN",
          "ARE",
          "GNB",
          "MKD",
          "LBY",
          "CUB",
          "AZE",
          "GEO",
          "GIB",
          "LKA",
          "VNM",
          "MUS",
          "ARM",
          "JAM",
          "DOM",
          "CAF",
          "SUR",
          "PAK",
          "GTM",
          "KEN",
          "BRB",
          "CIV",
          "PRY",
          "QAT",
          "SYR",
          "MCO",
          "SEN",
          "HKG",
          "BGD",
          "MNE",
          "MDV",
          "ABW",
          "RWA",
          "SLV",
          "TZA",
          "GAB",
          "TMP",
          "GHA",
          "ATA",
          "LIE",
          "LAO",
          "MWI",
          "ETH",
          "TGO",
          "ZWE",
          "COM",
          "AND",
          "UZB",
          "UGA",
          "STP",
          "KNA",
          "MAC",
          "MRT",
          "BWA",
          "SMR",
          "ZMB",
          "ASM",
          "NCL",
          "GUY",
          "KIR",
          "SDN",
          "ATF",
          "TJK",
          "SLE",
          "CYM",
          "LCA",
          "PYF",
          "BHS",
          "DMA",
          "MMR",
          "AIA",
          "BDI",
          "BFA",
          "PLW",
          "SYC",
          "MDG",
          "NAM",
          "BHR",
          "DJI",
          "MLI",
          "NPL",
          "FRO"
         ],
         "name": "",
         "type": "choropleth",
         "z": [
          20977,
          9668,
          8468,
          6383,
          6067,
          2542,
          2428,
          1868,
          1716,
          1592,
          1392,
          1298,
          1033,
          1025,
          793,
          703,
          537,
          500,
          426,
          391,
          377,
          366,
          326,
          319,
          177,
          169,
          160,
          157,
          153,
          150,
          146,
          134,
          116,
          98,
          93,
          82,
          78,
          75,
          75,
          74,
          68,
          65,
          63,
          59,
          53,
          49,
          49,
          48,
          48,
          48,
          46,
          41,
          41,
          41,
          40,
          37,
          25,
          23,
          23,
          22,
          22,
          21,
          20,
          19,
          18,
          18,
          17,
          15,
          15,
          14,
          14,
          14,
          14,
          13,
          13,
          12,
          11,
          10,
          10,
          10,
          10,
          10,
          10,
          9,
          8,
          8,
          8,
          8,
          8,
          8,
          7,
          7,
          7,
          6,
          6,
          6,
          6,
          6,
          5,
          5,
          5,
          4,
          4,
          4,
          4,
          4,
          4,
          3,
          3,
          3,
          3,
          3,
          3,
          3,
          2,
          2,
          2,
          2,
          2,
          2,
          2,
          2,
          2,
          2,
          2,
          2,
          2,
          2,
          2,
          2,
          2,
          2,
          2,
          2,
          1,
          1,
          1,
          1,
          1,
          1,
          1,
          1,
          1,
          1,
          1,
          1,
          1,
          1,
          1,
          1,
          1,
          1,
          1,
          1,
          1,
          1,
          1,
          1,
          1,
          1,
          1,
          1,
          1,
          1,
          1
         ]
        }
       ],
       "layout": {
        "coloraxis": {
         "colorbar": {
          "title": {
           "text": "no_of_guests"
          }
         },
         "colorscale": [
          [
           0,
           "#0d0887"
          ],
          [
           0.1111111111111111,
           "#46039f"
          ],
          [
           0.2222222222222222,
           "#7201a8"
          ],
          [
           0.3333333333333333,
           "#9c179e"
          ],
          [
           0.4444444444444444,
           "#bd3786"
          ],
          [
           0.5555555555555556,
           "#d8576b"
          ],
          [
           0.6666666666666666,
           "#ed7953"
          ],
          [
           0.7777777777777778,
           "#fb9f3a"
          ],
          [
           0.8888888888888888,
           "#fdca26"
          ],
          [
           1,
           "#f0f921"
          ]
         ]
        },
        "geo": {
         "center": {},
         "domain": {
          "x": [
           0,
           1
          ],
          "y": [
           0,
           1
          ]
         }
        },
        "legend": {
         "tracegroupgap": 0
        },
        "template": {
         "data": {
          "bar": [
           {
            "error_x": {
             "color": "#2a3f5f"
            },
            "error_y": {
             "color": "#2a3f5f"
            },
            "marker": {
             "line": {
              "color": "#E5ECF6",
              "width": 0.5
             },
             "pattern": {
              "fillmode": "overlay",
              "size": 10,
              "solidity": 0.2
             }
            },
            "type": "bar"
           }
          ],
          "barpolar": [
           {
            "marker": {
             "line": {
              "color": "#E5ECF6",
              "width": 0.5
             },
             "pattern": {
              "fillmode": "overlay",
              "size": 10,
              "solidity": 0.2
             }
            },
            "type": "barpolar"
           }
          ],
          "carpet": [
           {
            "aaxis": {
             "endlinecolor": "#2a3f5f",
             "gridcolor": "white",
             "linecolor": "white",
             "minorgridcolor": "white",
             "startlinecolor": "#2a3f5f"
            },
            "baxis": {
             "endlinecolor": "#2a3f5f",
             "gridcolor": "white",
             "linecolor": "white",
             "minorgridcolor": "white",
             "startlinecolor": "#2a3f5f"
            },
            "type": "carpet"
           }
          ],
          "choropleth": [
           {
            "colorbar": {
             "outlinewidth": 0,
             "ticks": ""
            },
            "type": "choropleth"
           }
          ],
          "contour": [
           {
            "colorbar": {
             "outlinewidth": 0,
             "ticks": ""
            },
            "colorscale": [
             [
              0,
              "#0d0887"
             ],
             [
              0.1111111111111111,
              "#46039f"
             ],
             [
              0.2222222222222222,
              "#7201a8"
             ],
             [
              0.3333333333333333,
              "#9c179e"
             ],
             [
              0.4444444444444444,
              "#bd3786"
             ],
             [
              0.5555555555555556,
              "#d8576b"
             ],
             [
              0.6666666666666666,
              "#ed7953"
             ],
             [
              0.7777777777777778,
              "#fb9f3a"
             ],
             [
              0.8888888888888888,
              "#fdca26"
             ],
             [
              1,
              "#f0f921"
             ]
            ],
            "type": "contour"
           }
          ],
          "contourcarpet": [
           {
            "colorbar": {
             "outlinewidth": 0,
             "ticks": ""
            },
            "type": "contourcarpet"
           }
          ],
          "heatmap": [
           {
            "colorbar": {
             "outlinewidth": 0,
             "ticks": ""
            },
            "colorscale": [
             [
              0,
              "#0d0887"
             ],
             [
              0.1111111111111111,
              "#46039f"
             ],
             [
              0.2222222222222222,
              "#7201a8"
             ],
             [
              0.3333333333333333,
              "#9c179e"
             ],
             [
              0.4444444444444444,
              "#bd3786"
             ],
             [
              0.5555555555555556,
              "#d8576b"
             ],
             [
              0.6666666666666666,
              "#ed7953"
             ],
             [
              0.7777777777777778,
              "#fb9f3a"
             ],
             [
              0.8888888888888888,
              "#fdca26"
             ],
             [
              1,
              "#f0f921"
             ]
            ],
            "type": "heatmap"
           }
          ],
          "heatmapgl": [
           {
            "colorbar": {
             "outlinewidth": 0,
             "ticks": ""
            },
            "colorscale": [
             [
              0,
              "#0d0887"
             ],
             [
              0.1111111111111111,
              "#46039f"
             ],
             [
              0.2222222222222222,
              "#7201a8"
             ],
             [
              0.3333333333333333,
              "#9c179e"
             ],
             [
              0.4444444444444444,
              "#bd3786"
             ],
             [
              0.5555555555555556,
              "#d8576b"
             ],
             [
              0.6666666666666666,
              "#ed7953"
             ],
             [
              0.7777777777777778,
              "#fb9f3a"
             ],
             [
              0.8888888888888888,
              "#fdca26"
             ],
             [
              1,
              "#f0f921"
             ]
            ],
            "type": "heatmapgl"
           }
          ],
          "histogram": [
           {
            "marker": {
             "pattern": {
              "fillmode": "overlay",
              "size": 10,
              "solidity": 0.2
             }
            },
            "type": "histogram"
           }
          ],
          "histogram2d": [
           {
            "colorbar": {
             "outlinewidth": 0,
             "ticks": ""
            },
            "colorscale": [
             [
              0,
              "#0d0887"
             ],
             [
              0.1111111111111111,
              "#46039f"
             ],
             [
              0.2222222222222222,
              "#7201a8"
             ],
             [
              0.3333333333333333,
              "#9c179e"
             ],
             [
              0.4444444444444444,
              "#bd3786"
             ],
             [
              0.5555555555555556,
              "#d8576b"
             ],
             [
              0.6666666666666666,
              "#ed7953"
             ],
             [
              0.7777777777777778,
              "#fb9f3a"
             ],
             [
              0.8888888888888888,
              "#fdca26"
             ],
             [
              1,
              "#f0f921"
             ]
            ],
            "type": "histogram2d"
           }
          ],
          "histogram2dcontour": [
           {
            "colorbar": {
             "outlinewidth": 0,
             "ticks": ""
            },
            "colorscale": [
             [
              0,
              "#0d0887"
             ],
             [
              0.1111111111111111,
              "#46039f"
             ],
             [
              0.2222222222222222,
              "#7201a8"
             ],
             [
              0.3333333333333333,
              "#9c179e"
             ],
             [
              0.4444444444444444,
              "#bd3786"
             ],
             [
              0.5555555555555556,
              "#d8576b"
             ],
             [
              0.6666666666666666,
              "#ed7953"
             ],
             [
              0.7777777777777778,
              "#fb9f3a"
             ],
             [
              0.8888888888888888,
              "#fdca26"
             ],
             [
              1,
              "#f0f921"
             ]
            ],
            "type": "histogram2dcontour"
           }
          ],
          "mesh3d": [
           {
            "colorbar": {
             "outlinewidth": 0,
             "ticks": ""
            },
            "type": "mesh3d"
           }
          ],
          "parcoords": [
           {
            "line": {
             "colorbar": {
              "outlinewidth": 0,
              "ticks": ""
             }
            },
            "type": "parcoords"
           }
          ],
          "pie": [
           {
            "automargin": true,
            "type": "pie"
           }
          ],
          "scatter": [
           {
            "fillpattern": {
             "fillmode": "overlay",
             "size": 10,
             "solidity": 0.2
            },
            "type": "scatter"
           }
          ],
          "scatter3d": [
           {
            "line": {
             "colorbar": {
              "outlinewidth": 0,
              "ticks": ""
             }
            },
            "marker": {
             "colorbar": {
              "outlinewidth": 0,
              "ticks": ""
             }
            },
            "type": "scatter3d"
           }
          ],
          "scattercarpet": [
           {
            "marker": {
             "colorbar": {
              "outlinewidth": 0,
              "ticks": ""
             }
            },
            "type": "scattercarpet"
           }
          ],
          "scattergeo": [
           {
            "marker": {
             "colorbar": {
              "outlinewidth": 0,
              "ticks": ""
             }
            },
            "type": "scattergeo"
           }
          ],
          "scattergl": [
           {
            "marker": {
             "colorbar": {
              "outlinewidth": 0,
              "ticks": ""
             }
            },
            "type": "scattergl"
           }
          ],
          "scattermapbox": [
           {
            "marker": {
             "colorbar": {
              "outlinewidth": 0,
              "ticks": ""
             }
            },
            "type": "scattermapbox"
           }
          ],
          "scatterpolar": [
           {
            "marker": {
             "colorbar": {
              "outlinewidth": 0,
              "ticks": ""
             }
            },
            "type": "scatterpolar"
           }
          ],
          "scatterpolargl": [
           {
            "marker": {
             "colorbar": {
              "outlinewidth": 0,
              "ticks": ""
             }
            },
            "type": "scatterpolargl"
           }
          ],
          "scatterternary": [
           {
            "marker": {
             "colorbar": {
              "outlinewidth": 0,
              "ticks": ""
             }
            },
            "type": "scatterternary"
           }
          ],
          "surface": [
           {
            "colorbar": {
             "outlinewidth": 0,
             "ticks": ""
            },
            "colorscale": [
             [
              0,
              "#0d0887"
             ],
             [
              0.1111111111111111,
              "#46039f"
             ],
             [
              0.2222222222222222,
              "#7201a8"
             ],
             [
              0.3333333333333333,
              "#9c179e"
             ],
             [
              0.4444444444444444,
              "#bd3786"
             ],
             [
              0.5555555555555556,
              "#d8576b"
             ],
             [
              0.6666666666666666,
              "#ed7953"
             ],
             [
              0.7777777777777778,
              "#fb9f3a"
             ],
             [
              0.8888888888888888,
              "#fdca26"
             ],
             [
              1,
              "#f0f921"
             ]
            ],
            "type": "surface"
           }
          ],
          "table": [
           {
            "cells": {
             "fill": {
              "color": "#EBF0F8"
             },
             "line": {
              "color": "white"
             }
            },
            "header": {
             "fill": {
              "color": "#C8D4E3"
             },
             "line": {
              "color": "white"
             }
            },
            "type": "table"
           }
          ]
         },
         "layout": {
          "annotationdefaults": {
           "arrowcolor": "#2a3f5f",
           "arrowhead": 0,
           "arrowwidth": 1
          },
          "autotypenumbers": "strict",
          "coloraxis": {
           "colorbar": {
            "outlinewidth": 0,
            "ticks": ""
           }
          },
          "colorscale": {
           "diverging": [
            [
             0,
             "#8e0152"
            ],
            [
             0.1,
             "#c51b7d"
            ],
            [
             0.2,
             "#de77ae"
            ],
            [
             0.3,
             "#f1b6da"
            ],
            [
             0.4,
             "#fde0ef"
            ],
            [
             0.5,
             "#f7f7f7"
            ],
            [
             0.6,
             "#e6f5d0"
            ],
            [
             0.7,
             "#b8e186"
            ],
            [
             0.8,
             "#7fbc41"
            ],
            [
             0.9,
             "#4d9221"
            ],
            [
             1,
             "#276419"
            ]
           ],
           "sequential": [
            [
             0,
             "#0d0887"
            ],
            [
             0.1111111111111111,
             "#46039f"
            ],
            [
             0.2222222222222222,
             "#7201a8"
            ],
            [
             0.3333333333333333,
             "#9c179e"
            ],
            [
             0.4444444444444444,
             "#bd3786"
            ],
            [
             0.5555555555555556,
             "#d8576b"
            ],
            [
             0.6666666666666666,
             "#ed7953"
            ],
            [
             0.7777777777777778,
             "#fb9f3a"
            ],
            [
             0.8888888888888888,
             "#fdca26"
            ],
            [
             1,
             "#f0f921"
            ]
           ],
           "sequentialminus": [
            [
             0,
             "#0d0887"
            ],
            [
             0.1111111111111111,
             "#46039f"
            ],
            [
             0.2222222222222222,
             "#7201a8"
            ],
            [
             0.3333333333333333,
             "#9c179e"
            ],
            [
             0.4444444444444444,
             "#bd3786"
            ],
            [
             0.5555555555555556,
             "#d8576b"
            ],
            [
             0.6666666666666666,
             "#ed7953"
            ],
            [
             0.7777777777777778,
             "#fb9f3a"
            ],
            [
             0.8888888888888888,
             "#fdca26"
            ],
            [
             1,
             "#f0f921"
            ]
           ]
          },
          "colorway": [
           "#636efa",
           "#EF553B",
           "#00cc96",
           "#ab63fa",
           "#FFA15A",
           "#19d3f3",
           "#FF6692",
           "#B6E880",
           "#FF97FF",
           "#FECB52"
          ],
          "font": {
           "color": "#2a3f5f"
          },
          "geo": {
           "bgcolor": "white",
           "lakecolor": "white",
           "landcolor": "#E5ECF6",
           "showlakes": true,
           "showland": true,
           "subunitcolor": "white"
          },
          "hoverlabel": {
           "align": "left"
          },
          "hovermode": "closest",
          "mapbox": {
           "style": "light"
          },
          "paper_bgcolor": "white",
          "plot_bgcolor": "#E5ECF6",
          "polar": {
           "angularaxis": {
            "gridcolor": "white",
            "linecolor": "white",
            "ticks": ""
           },
           "bgcolor": "#E5ECF6",
           "radialaxis": {
            "gridcolor": "white",
            "linecolor": "white",
            "ticks": ""
           }
          },
          "scene": {
           "xaxis": {
            "backgroundcolor": "#E5ECF6",
            "gridcolor": "white",
            "gridwidth": 2,
            "linecolor": "white",
            "showbackground": true,
            "ticks": "",
            "zerolinecolor": "white"
           },
           "yaxis": {
            "backgroundcolor": "#E5ECF6",
            "gridcolor": "white",
            "gridwidth": 2,
            "linecolor": "white",
            "showbackground": true,
            "ticks": "",
            "zerolinecolor": "white"
           },
           "zaxis": {
            "backgroundcolor": "#E5ECF6",
            "gridcolor": "white",
            "gridwidth": 2,
            "linecolor": "white",
            "showbackground": true,
            "ticks": "",
            "zerolinecolor": "white"
           }
          },
          "shapedefaults": {
           "line": {
            "color": "#2a3f5f"
           }
          },
          "ternary": {
           "aaxis": {
            "gridcolor": "white",
            "linecolor": "white",
            "ticks": ""
           },
           "baxis": {
            "gridcolor": "white",
            "linecolor": "white",
            "ticks": ""
           },
           "bgcolor": "#E5ECF6",
           "caxis": {
            "gridcolor": "white",
            "linecolor": "white",
            "ticks": ""
           }
          },
          "title": {
           "x": 0.05
          },
          "xaxis": {
           "automargin": true,
           "gridcolor": "white",
           "linecolor": "white",
           "ticks": "",
           "title": {
            "standoff": 15
           },
           "zerolinecolor": "white",
           "zerolinewidth": 2
          },
          "yaxis": {
           "automargin": true,
           "gridcolor": "white",
           "linecolor": "white",
           "ticks": "",
           "title": {
            "standoff": 15
           },
           "zerolinecolor": "white",
           "zerolinewidth": 2
          }
         }
        },
        "title": {
         "text": "Home country of guests"
        }
       }
      },
      "text/html": [
       "<div>                            <div id=\"c920af9c-3844-4f62-9b34-47e19b2c098d\" class=\"plotly-graph-div\" style=\"height:525px; width:100%;\"></div>            <script type=\"text/javascript\">                require([\"plotly\"], function(Plotly) {                    window.PLOTLYENV=window.PLOTLYENV || {};                                    if (document.getElementById(\"c920af9c-3844-4f62-9b34-47e19b2c098d\")) {                    Plotly.newPlot(                        \"c920af9c-3844-4f62-9b34-47e19b2c098d\",                        [{\"coloraxis\":\"coloraxis\",\"geo\":\"geo\",\"hovertemplate\":\"<b>%{hovertext}</b><br><br>country=%{location}<br>no_of_guests=%{z}<extra></extra>\",\"hovertext\":[\"PRT\",\"GBR\",\"FRA\",\"ESP\",\"DEU\",\"IRL\",\"ITA\",\"BEL\",\"NLD\",\"USA\",\"BRA\",\"CHE\",\"AUT\",\"CN\",\"SWE\",\"POL\",\"CHN\",\"ISR\",\"NOR\",\"RUS\",\"FIN\",\"ROU\",\"DNK\",\"AUS\",\"LUX\",\"JPN\",\"ARG\",\"AGO\",\"HUN\",\"MAR\",\"TUR\",\"CZE\",\"IND\",\"SRB\",\"GRC\",\"DZA\",\"KOR\",\"MEX\",\"HRV\",\"LTU\",\"NZL\",\"EST\",\"BGR\",\"IRN\",\"ISL\",\"ZAF\",\"CHL\",\"COL\",\"UKR\",\"MOZ\",\"LVA\",\"SVN\",\"SVK\",\"THA\",\"CYP\",\"TWN\",\"MYS\",\"URY\",\"PER\",\"SGP\",\"LBN\",\"EGY\",\"TUN\",\"ECU\",\"JOR\",\"CRI\",\"BLR\",\"PHL\",\"SAU\",\"OMN\",\"IRQ\",\"VEN\",\"KAZ\",\"NGA\",\"MLT\",\"CPV\",\"IDN\",\"CMR\",\"BIH\",\"PRI\",\"ALB\",\"KWT\",\"BOL\",\"PAN\",\"ARE\",\"GNB\",\"MKD\",\"LBY\",\"CUB\",\"AZE\",\"GEO\",\"GIB\",\"LKA\",\"VNM\",\"MUS\",\"ARM\",\"JAM\",\"DOM\",\"CAF\",\"SUR\",\"PAK\",\"GTM\",\"KEN\",\"BRB\",\"CIV\",\"PRY\",\"QAT\",\"SYR\",\"MCO\",\"SEN\",\"HKG\",\"BGD\",\"MNE\",\"MDV\",\"ABW\",\"RWA\",\"SLV\",\"TZA\",\"GAB\",\"TMP\",\"GHA\",\"ATA\",\"LIE\",\"LAO\",\"MWI\",\"ETH\",\"TGO\",\"ZWE\",\"COM\",\"AND\",\"UZB\",\"UGA\",\"STP\",\"KNA\",\"MAC\",\"MRT\",\"BWA\",\"SMR\",\"ZMB\",\"ASM\",\"NCL\",\"GUY\",\"KIR\",\"SDN\",\"ATF\",\"TJK\",\"SLE\",\"CYM\",\"LCA\",\"PYF\",\"BHS\",\"DMA\",\"MMR\",\"AIA\",\"BDI\",\"BFA\",\"PLW\",\"SYC\",\"MDG\",\"NAM\",\"BHR\",\"DJI\",\"MLI\",\"NPL\",\"FRO\"],\"locations\":[\"PRT\",\"GBR\",\"FRA\",\"ESP\",\"DEU\",\"IRL\",\"ITA\",\"BEL\",\"NLD\",\"USA\",\"BRA\",\"CHE\",\"AUT\",\"CN\",\"SWE\",\"POL\",\"CHN\",\"ISR\",\"NOR\",\"RUS\",\"FIN\",\"ROU\",\"DNK\",\"AUS\",\"LUX\",\"JPN\",\"ARG\",\"AGO\",\"HUN\",\"MAR\",\"TUR\",\"CZE\",\"IND\",\"SRB\",\"GRC\",\"DZA\",\"KOR\",\"MEX\",\"HRV\",\"LTU\",\"NZL\",\"EST\",\"BGR\",\"IRN\",\"ISL\",\"ZAF\",\"CHL\",\"COL\",\"UKR\",\"MOZ\",\"LVA\",\"SVN\",\"SVK\",\"THA\",\"CYP\",\"TWN\",\"MYS\",\"URY\",\"PER\",\"SGP\",\"LBN\",\"EGY\",\"TUN\",\"ECU\",\"JOR\",\"CRI\",\"BLR\",\"PHL\",\"SAU\",\"OMN\",\"IRQ\",\"VEN\",\"KAZ\",\"NGA\",\"MLT\",\"CPV\",\"IDN\",\"CMR\",\"BIH\",\"PRI\",\"ALB\",\"KWT\",\"BOL\",\"PAN\",\"ARE\",\"GNB\",\"MKD\",\"LBY\",\"CUB\",\"AZE\",\"GEO\",\"GIB\",\"LKA\",\"VNM\",\"MUS\",\"ARM\",\"JAM\",\"DOM\",\"CAF\",\"SUR\",\"PAK\",\"GTM\",\"KEN\",\"BRB\",\"CIV\",\"PRY\",\"QAT\",\"SYR\",\"MCO\",\"SEN\",\"HKG\",\"BGD\",\"MNE\",\"MDV\",\"ABW\",\"RWA\",\"SLV\",\"TZA\",\"GAB\",\"TMP\",\"GHA\",\"ATA\",\"LIE\",\"LAO\",\"MWI\",\"ETH\",\"TGO\",\"ZWE\",\"COM\",\"AND\",\"UZB\",\"UGA\",\"STP\",\"KNA\",\"MAC\",\"MRT\",\"BWA\",\"SMR\",\"ZMB\",\"ASM\",\"NCL\",\"GUY\",\"KIR\",\"SDN\",\"ATF\",\"TJK\",\"SLE\",\"CYM\",\"LCA\",\"PYF\",\"BHS\",\"DMA\",\"MMR\",\"AIA\",\"BDI\",\"BFA\",\"PLW\",\"SYC\",\"MDG\",\"NAM\",\"BHR\",\"DJI\",\"MLI\",\"NPL\",\"FRO\"],\"name\":\"\",\"z\":[20977,9668,8468,6383,6067,2542,2428,1868,1716,1592,1392,1298,1033,1025,793,703,537,500,426,391,377,366,326,319,177,169,160,157,153,150,146,134,116,98,93,82,78,75,75,74,68,65,63,59,53,49,49,48,48,48,46,41,41,41,40,37,25,23,23,22,22,21,20,19,18,18,17,15,15,14,14,14,14,13,13,12,11,10,10,10,10,10,10,9,8,8,8,8,8,8,7,7,7,6,6,6,6,6,5,5,5,4,4,4,4,4,4,3,3,3,3,3,3,3,2,2,2,2,2,2,2,2,2,2,2,2,2,2,2,2,2,2,2,2,1,1,1,1,1,1,1,1,1,1,1,1,1,1,1,1,1,1,1,1,1,1,1,1,1,1,1,1,1,1,1],\"type\":\"choropleth\"}],                        {\"template\":{\"data\":{\"histogram2dcontour\":[{\"type\":\"histogram2dcontour\",\"colorbar\":{\"outlinewidth\":0,\"ticks\":\"\"},\"colorscale\":[[0.0,\"#0d0887\"],[0.1111111111111111,\"#46039f\"],[0.2222222222222222,\"#7201a8\"],[0.3333333333333333,\"#9c179e\"],[0.4444444444444444,\"#bd3786\"],[0.5555555555555556,\"#d8576b\"],[0.6666666666666666,\"#ed7953\"],[0.7777777777777778,\"#fb9f3a\"],[0.8888888888888888,\"#fdca26\"],[1.0,\"#f0f921\"]]}],\"choropleth\":[{\"type\":\"choropleth\",\"colorbar\":{\"outlinewidth\":0,\"ticks\":\"\"}}],\"histogram2d\":[{\"type\":\"histogram2d\",\"colorbar\":{\"outlinewidth\":0,\"ticks\":\"\"},\"colorscale\":[[0.0,\"#0d0887\"],[0.1111111111111111,\"#46039f\"],[0.2222222222222222,\"#7201a8\"],[0.3333333333333333,\"#9c179e\"],[0.4444444444444444,\"#bd3786\"],[0.5555555555555556,\"#d8576b\"],[0.6666666666666666,\"#ed7953\"],[0.7777777777777778,\"#fb9f3a\"],[0.8888888888888888,\"#fdca26\"],[1.0,\"#f0f921\"]]}],\"heatmap\":[{\"type\":\"heatmap\",\"colorbar\":{\"outlinewidth\":0,\"ticks\":\"\"},\"colorscale\":[[0.0,\"#0d0887\"],[0.1111111111111111,\"#46039f\"],[0.2222222222222222,\"#7201a8\"],[0.3333333333333333,\"#9c179e\"],[0.4444444444444444,\"#bd3786\"],[0.5555555555555556,\"#d8576b\"],[0.6666666666666666,\"#ed7953\"],[0.7777777777777778,\"#fb9f3a\"],[0.8888888888888888,\"#fdca26\"],[1.0,\"#f0f921\"]]}],\"heatmapgl\":[{\"type\":\"heatmapgl\",\"colorbar\":{\"outlinewidth\":0,\"ticks\":\"\"},\"colorscale\":[[0.0,\"#0d0887\"],[0.1111111111111111,\"#46039f\"],[0.2222222222222222,\"#7201a8\"],[0.3333333333333333,\"#9c179e\"],[0.4444444444444444,\"#bd3786\"],[0.5555555555555556,\"#d8576b\"],[0.6666666666666666,\"#ed7953\"],[0.7777777777777778,\"#fb9f3a\"],[0.8888888888888888,\"#fdca26\"],[1.0,\"#f0f921\"]]}],\"contourcarpet\":[{\"type\":\"contourcarpet\",\"colorbar\":{\"outlinewidth\":0,\"ticks\":\"\"}}],\"contour\":[{\"type\":\"contour\",\"colorbar\":{\"outlinewidth\":0,\"ticks\":\"\"},\"colorscale\":[[0.0,\"#0d0887\"],[0.1111111111111111,\"#46039f\"],[0.2222222222222222,\"#7201a8\"],[0.3333333333333333,\"#9c179e\"],[0.4444444444444444,\"#bd3786\"],[0.5555555555555556,\"#d8576b\"],[0.6666666666666666,\"#ed7953\"],[0.7777777777777778,\"#fb9f3a\"],[0.8888888888888888,\"#fdca26\"],[1.0,\"#f0f921\"]]}],\"surface\":[{\"type\":\"surface\",\"colorbar\":{\"outlinewidth\":0,\"ticks\":\"\"},\"colorscale\":[[0.0,\"#0d0887\"],[0.1111111111111111,\"#46039f\"],[0.2222222222222222,\"#7201a8\"],[0.3333333333333333,\"#9c179e\"],[0.4444444444444444,\"#bd3786\"],[0.5555555555555556,\"#d8576b\"],[0.6666666666666666,\"#ed7953\"],[0.7777777777777778,\"#fb9f3a\"],[0.8888888888888888,\"#fdca26\"],[1.0,\"#f0f921\"]]}],\"mesh3d\":[{\"type\":\"mesh3d\",\"colorbar\":{\"outlinewidth\":0,\"ticks\":\"\"}}],\"scatter\":[{\"fillpattern\":{\"fillmode\":\"overlay\",\"size\":10,\"solidity\":0.2},\"type\":\"scatter\"}],\"parcoords\":[{\"type\":\"parcoords\",\"line\":{\"colorbar\":{\"outlinewidth\":0,\"ticks\":\"\"}}}],\"scatterpolargl\":[{\"type\":\"scatterpolargl\",\"marker\":{\"colorbar\":{\"outlinewidth\":0,\"ticks\":\"\"}}}],\"bar\":[{\"error_x\":{\"color\":\"#2a3f5f\"},\"error_y\":{\"color\":\"#2a3f5f\"},\"marker\":{\"line\":{\"color\":\"#E5ECF6\",\"width\":0.5},\"pattern\":{\"fillmode\":\"overlay\",\"size\":10,\"solidity\":0.2}},\"type\":\"bar\"}],\"scattergeo\":[{\"type\":\"scattergeo\",\"marker\":{\"colorbar\":{\"outlinewidth\":0,\"ticks\":\"\"}}}],\"scatterpolar\":[{\"type\":\"scatterpolar\",\"marker\":{\"colorbar\":{\"outlinewidth\":0,\"ticks\":\"\"}}}],\"histogram\":[{\"marker\":{\"pattern\":{\"fillmode\":\"overlay\",\"size\":10,\"solidity\":0.2}},\"type\":\"histogram\"}],\"scattergl\":[{\"type\":\"scattergl\",\"marker\":{\"colorbar\":{\"outlinewidth\":0,\"ticks\":\"\"}}}],\"scatter3d\":[{\"type\":\"scatter3d\",\"line\":{\"colorbar\":{\"outlinewidth\":0,\"ticks\":\"\"}},\"marker\":{\"colorbar\":{\"outlinewidth\":0,\"ticks\":\"\"}}}],\"scattermapbox\":[{\"type\":\"scattermapbox\",\"marker\":{\"colorbar\":{\"outlinewidth\":0,\"ticks\":\"\"}}}],\"scatterternary\":[{\"type\":\"scatterternary\",\"marker\":{\"colorbar\":{\"outlinewidth\":0,\"ticks\":\"\"}}}],\"scattercarpet\":[{\"type\":\"scattercarpet\",\"marker\":{\"colorbar\":{\"outlinewidth\":0,\"ticks\":\"\"}}}],\"carpet\":[{\"aaxis\":{\"endlinecolor\":\"#2a3f5f\",\"gridcolor\":\"white\",\"linecolor\":\"white\",\"minorgridcolor\":\"white\",\"startlinecolor\":\"#2a3f5f\"},\"baxis\":{\"endlinecolor\":\"#2a3f5f\",\"gridcolor\":\"white\",\"linecolor\":\"white\",\"minorgridcolor\":\"white\",\"startlinecolor\":\"#2a3f5f\"},\"type\":\"carpet\"}],\"table\":[{\"cells\":{\"fill\":{\"color\":\"#EBF0F8\"},\"line\":{\"color\":\"white\"}},\"header\":{\"fill\":{\"color\":\"#C8D4E3\"},\"line\":{\"color\":\"white\"}},\"type\":\"table\"}],\"barpolar\":[{\"marker\":{\"line\":{\"color\":\"#E5ECF6\",\"width\":0.5},\"pattern\":{\"fillmode\":\"overlay\",\"size\":10,\"solidity\":0.2}},\"type\":\"barpolar\"}],\"pie\":[{\"automargin\":true,\"type\":\"pie\"}]},\"layout\":{\"autotypenumbers\":\"strict\",\"colorway\":[\"#636efa\",\"#EF553B\",\"#00cc96\",\"#ab63fa\",\"#FFA15A\",\"#19d3f3\",\"#FF6692\",\"#B6E880\",\"#FF97FF\",\"#FECB52\"],\"font\":{\"color\":\"#2a3f5f\"},\"hovermode\":\"closest\",\"hoverlabel\":{\"align\":\"left\"},\"paper_bgcolor\":\"white\",\"plot_bgcolor\":\"#E5ECF6\",\"polar\":{\"bgcolor\":\"#E5ECF6\",\"angularaxis\":{\"gridcolor\":\"white\",\"linecolor\":\"white\",\"ticks\":\"\"},\"radialaxis\":{\"gridcolor\":\"white\",\"linecolor\":\"white\",\"ticks\":\"\"}},\"ternary\":{\"bgcolor\":\"#E5ECF6\",\"aaxis\":{\"gridcolor\":\"white\",\"linecolor\":\"white\",\"ticks\":\"\"},\"baxis\":{\"gridcolor\":\"white\",\"linecolor\":\"white\",\"ticks\":\"\"},\"caxis\":{\"gridcolor\":\"white\",\"linecolor\":\"white\",\"ticks\":\"\"}},\"coloraxis\":{\"colorbar\":{\"outlinewidth\":0,\"ticks\":\"\"}},\"colorscale\":{\"sequential\":[[0.0,\"#0d0887\"],[0.1111111111111111,\"#46039f\"],[0.2222222222222222,\"#7201a8\"],[0.3333333333333333,\"#9c179e\"],[0.4444444444444444,\"#bd3786\"],[0.5555555555555556,\"#d8576b\"],[0.6666666666666666,\"#ed7953\"],[0.7777777777777778,\"#fb9f3a\"],[0.8888888888888888,\"#fdca26\"],[1.0,\"#f0f921\"]],\"sequentialminus\":[[0.0,\"#0d0887\"],[0.1111111111111111,\"#46039f\"],[0.2222222222222222,\"#7201a8\"],[0.3333333333333333,\"#9c179e\"],[0.4444444444444444,\"#bd3786\"],[0.5555555555555556,\"#d8576b\"],[0.6666666666666666,\"#ed7953\"],[0.7777777777777778,\"#fb9f3a\"],[0.8888888888888888,\"#fdca26\"],[1.0,\"#f0f921\"]],\"diverging\":[[0,\"#8e0152\"],[0.1,\"#c51b7d\"],[0.2,\"#de77ae\"],[0.3,\"#f1b6da\"],[0.4,\"#fde0ef\"],[0.5,\"#f7f7f7\"],[0.6,\"#e6f5d0\"],[0.7,\"#b8e186\"],[0.8,\"#7fbc41\"],[0.9,\"#4d9221\"],[1,\"#276419\"]]},\"xaxis\":{\"gridcolor\":\"white\",\"linecolor\":\"white\",\"ticks\":\"\",\"title\":{\"standoff\":15},\"zerolinecolor\":\"white\",\"automargin\":true,\"zerolinewidth\":2},\"yaxis\":{\"gridcolor\":\"white\",\"linecolor\":\"white\",\"ticks\":\"\",\"title\":{\"standoff\":15},\"zerolinecolor\":\"white\",\"automargin\":true,\"zerolinewidth\":2},\"scene\":{\"xaxis\":{\"backgroundcolor\":\"#E5ECF6\",\"gridcolor\":\"white\",\"linecolor\":\"white\",\"showbackground\":true,\"ticks\":\"\",\"zerolinecolor\":\"white\",\"gridwidth\":2},\"yaxis\":{\"backgroundcolor\":\"#E5ECF6\",\"gridcolor\":\"white\",\"linecolor\":\"white\",\"showbackground\":true,\"ticks\":\"\",\"zerolinecolor\":\"white\",\"gridwidth\":2},\"zaxis\":{\"backgroundcolor\":\"#E5ECF6\",\"gridcolor\":\"white\",\"linecolor\":\"white\",\"showbackground\":true,\"ticks\":\"\",\"zerolinecolor\":\"white\",\"gridwidth\":2}},\"shapedefaults\":{\"line\":{\"color\":\"#2a3f5f\"}},\"annotationdefaults\":{\"arrowcolor\":\"#2a3f5f\",\"arrowhead\":0,\"arrowwidth\":1},\"geo\":{\"bgcolor\":\"white\",\"landcolor\":\"#E5ECF6\",\"subunitcolor\":\"white\",\"showland\":true,\"showlakes\":true,\"lakecolor\":\"white\"},\"title\":{\"x\":0.05},\"mapbox\":{\"style\":\"light\"}}},\"geo\":{\"domain\":{\"x\":[0.0,1.0],\"y\":[0.0,1.0]},\"center\":{}},\"coloraxis\":{\"colorbar\":{\"title\":{\"text\":\"no_of_guests\"}},\"colorscale\":[[0.0,\"#0d0887\"],[0.1111111111111111,\"#46039f\"],[0.2222222222222222,\"#7201a8\"],[0.3333333333333333,\"#9c179e\"],[0.4444444444444444,\"#bd3786\"],[0.5555555555555556,\"#d8576b\"],[0.6666666666666666,\"#ed7953\"],[0.7777777777777778,\"#fb9f3a\"],[0.8888888888888888,\"#fdca26\"],[1.0,\"#f0f921\"]]},\"legend\":{\"tracegroupgap\":0},\"title\":{\"text\":\"Home country of guests\"}},                        {\"responsive\": true}                    ).then(function(){\n",
       "                            \n",
       "var gd = document.getElementById('c920af9c-3844-4f62-9b34-47e19b2c098d');\n",
       "var x = new MutationObserver(function (mutations, observer) {{\n",
       "        var display = window.getComputedStyle(gd).display;\n",
       "        if (!display || display === 'none') {{\n",
       "            console.log([gd, 'removed!']);\n",
       "            Plotly.purge(gd);\n",
       "            observer.disconnect();\n",
       "        }}\n",
       "}});\n",
       "\n",
       "// Listen for the removal of the full notebook cells\n",
       "var notebookContainer = gd.closest('#notebook-container');\n",
       "if (notebookContainer) {{\n",
       "    x.observe(notebookContainer, {childList: true});\n",
       "}}\n",
       "\n",
       "// Listen for the clearing of the current output cell\n",
       "var outputEl = gd.closest('.output');\n",
       "if (outputEl) {{\n",
       "    x.observe(outputEl, {childList: true});\n",
       "}}\n",
       "\n",
       "                        })                };                });            </script>        </div>"
      ]
     },
     "metadata": {},
     "output_type": "display_data"
    }
   ],
   "source": [
    "px.choropleth(country_wise_data,\n",
    "             locations=country_wise_data['country'],\n",
    "             color=country_wise_data['no_of_guests'],\n",
    "             hover_name=country_wise_data['country'],\n",
    "             title='Home country of guests'\n",
    "             )"
   ]
  },
  {
   "cell_type": "markdown",
   "id": "b5f802cd",
   "metadata": {},
   "source": [
    "### How much do guests pay for a room per night"
   ]
  },
  {
   "cell_type": "code",
   "execution_count": 310,
   "id": "1bfe46fa",
   "metadata": {},
   "outputs": [],
   "source": [
    "data2= data[data['is_canceled']==0]"
   ]
  },
  {
   "cell_type": "code",
   "execution_count": 311,
   "id": "3c0649d1",
   "metadata": {},
   "outputs": [
    {
     "data": {
      "text/plain": [
       "Index(['hotel', 'is_canceled', 'lead_time', 'arrival_date_year',\n",
       "       'arrival_date_month', 'arrival_date_week_number',\n",
       "       'arrival_date_day_of_month', 'stays_in_weekend_nights',\n",
       "       'stays_in_week_nights', 'adults', 'children', 'babies', 'meal',\n",
       "       'country', 'market_segment', 'distribution_channel',\n",
       "       'is_repeated_guest', 'previous_cancellations',\n",
       "       'previous_bookings_not_canceled', 'reserved_room_type',\n",
       "       'assigned_room_type', 'booking_changes', 'deposit_type', 'agent',\n",
       "       'company', 'days_in_waiting_list', 'customer_type', 'adr',\n",
       "       'required_car_parking_spaces', 'total_of_special_requests',\n",
       "       'reservation_status', 'reservation_status_date'],\n",
       "      dtype='object')"
      ]
     },
     "execution_count": 311,
     "metadata": {},
     "output_type": "execute_result"
    }
   ],
   "source": [
    "data2.columns"
   ]
  },
  {
   "cell_type": "code",
   "execution_count": 312,
   "id": "b5d472fc",
   "metadata": {},
   "outputs": [
    {
     "data": {
      "text/plain": [
       "Text(0.5, 1.0, 'Price of room type per night and per person')"
      ]
     },
     "execution_count": 312,
     "metadata": {},
     "output_type": "execute_result"
    },
    {
     "data": {
      "image/png": "[encoded data removed]",
      "text/plain": [
       "<Figure size 1000x500 with 1 Axes>"
      ]
     },
     "metadata": {},
     "output_type": "display_data"
    }
   ],
   "source": [
    "plt.figure(figsize=(10,5))\n",
    "sns.boxplot(x='reserved_room_type', y='adr', hue='hotel', data= data2)\n",
    "plt.title('Price of room type per night and per person')"
   ]
  },
  {
   "cell_type": "markdown",
   "id": "77ccecda",
   "metadata": {},
   "source": [
    "### Which are the most busy month?"
   ]
  },
  {
   "cell_type": "code",
   "execution_count": 313,
   "id": "7c712f37",
   "metadata": {},
   "outputs": [
    {
     "data": {
      "text/plain": [
       "array(['Resort Hotel', 'City Hotel'], dtype=object)"
      ]
     },
     "execution_count": 313,
     "metadata": {},
     "output_type": "execute_result"
    }
   ],
   "source": [
    "data['hotel'].unique()"
   ]
  },
  {
   "cell_type": "code",
   "execution_count": 314,
   "id": "93f93829",
   "metadata": {},
   "outputs": [],
   "source": [
    "data_resort= data[(data['hotel']=='Resort Hotel') & (data['is_canceled']==0)]\n",
    "data_city= data[(data['hotel']=='City Hotel') & (data['is_canceled']==0)]"
   ]
  },
  {
   "cell_type": "code",
   "execution_count": 315,
   "id": "c26a559c",
   "metadata": {},
   "outputs": [
    {
     "data": {
      "text/html": [
       "<div>\n",
       "<style scoped>\n",
       "    .dataframe tbody tr th:only-of-type {\n",
       "        vertical-align: middle;\n",
       "    }\n",
       "\n",
       "    .dataframe tbody tr th {\n",
       "        vertical-align: top;\n",
       "    }\n",
       "\n",
       "    .dataframe thead th {\n",
       "        text-align: right;\n",
       "    }\n",
       "</style>\n",
       "<table border=\"1\" class=\"dataframe\">\n",
       "  <thead>\n",
       "    <tr style=\"text-align: right;\">\n",
       "      <th></th>\n",
       "      <th>hotel</th>\n",
       "      <th>is_canceled</th>\n",
       "      <th>lead_time</th>\n",
       "      <th>arrival_date_year</th>\n",
       "      <th>arrival_date_month</th>\n",
       "      <th>arrival_date_week_number</th>\n",
       "      <th>arrival_date_day_of_month</th>\n",
       "      <th>stays_in_weekend_nights</th>\n",
       "      <th>stays_in_week_nights</th>\n",
       "      <th>adults</th>\n",
       "      <th>...</th>\n",
       "      <th>deposit_type</th>\n",
       "      <th>agent</th>\n",
       "      <th>company</th>\n",
       "      <th>days_in_waiting_list</th>\n",
       "      <th>customer_type</th>\n",
       "      <th>adr</th>\n",
       "      <th>required_car_parking_spaces</th>\n",
       "      <th>total_of_special_requests</th>\n",
       "      <th>reservation_status</th>\n",
       "      <th>reservation_status_date</th>\n",
       "    </tr>\n",
       "  </thead>\n",
       "  <tbody>\n",
       "    <tr>\n",
       "      <th>0</th>\n",
       "      <td>Resort Hotel</td>\n",
       "      <td>0</td>\n",
       "      <td>342</td>\n",
       "      <td>2015</td>\n",
       "      <td>July</td>\n",
       "      <td>27</td>\n",
       "      <td>1</td>\n",
       "      <td>0</td>\n",
       "      <td>0</td>\n",
       "      <td>2</td>\n",
       "      <td>...</td>\n",
       "      <td>No Deposit</td>\n",
       "      <td>NaN</td>\n",
       "      <td>NaN</td>\n",
       "      <td>0</td>\n",
       "      <td>Transient</td>\n",
       "      <td>0.0</td>\n",
       "      <td>0</td>\n",
       "      <td>0</td>\n",
       "      <td>Check-Out</td>\n",
       "      <td>7/1/2015</td>\n",
       "    </tr>\n",
       "    <tr>\n",
       "      <th>1</th>\n",
       "      <td>Resort Hotel</td>\n",
       "      <td>0</td>\n",
       "      <td>737</td>\n",
       "      <td>2015</td>\n",
       "      <td>July</td>\n",
       "      <td>27</td>\n",
       "      <td>1</td>\n",
       "      <td>0</td>\n",
       "      <td>0</td>\n",
       "      <td>2</td>\n",
       "      <td>...</td>\n",
       "      <td>No Deposit</td>\n",
       "      <td>NaN</td>\n",
       "      <td>NaN</td>\n",
       "      <td>0</td>\n",
       "      <td>Transient</td>\n",
       "      <td>0.0</td>\n",
       "      <td>0</td>\n",
       "      <td>0</td>\n",
       "      <td>Check-Out</td>\n",
       "      <td>7/1/2015</td>\n",
       "    </tr>\n",
       "    <tr>\n",
       "      <th>2</th>\n",
       "      <td>Resort Hotel</td>\n",
       "      <td>0</td>\n",
       "      <td>7</td>\n",
       "      <td>2015</td>\n",
       "      <td>July</td>\n",
       "      <td>27</td>\n",
       "      <td>1</td>\n",
       "      <td>0</td>\n",
       "      <td>1</td>\n",
       "      <td>1</td>\n",
       "      <td>...</td>\n",
       "      <td>No Deposit</td>\n",
       "      <td>NaN</td>\n",
       "      <td>NaN</td>\n",
       "      <td>0</td>\n",
       "      <td>Transient</td>\n",
       "      <td>75.0</td>\n",
       "      <td>0</td>\n",
       "      <td>0</td>\n",
       "      <td>Check-Out</td>\n",
       "      <td>7/2/2015</td>\n",
       "    </tr>\n",
       "  </tbody>\n",
       "</table>\n",
       "<p>3 rows × 32 columns</p>\n",
       "</div>"
      ],
      "text/plain": [
       "          hotel  is_canceled  lead_time  arrival_date_year arrival_date_month  \\\n",
       "0  Resort Hotel            0        342               2015               July   \n",
       "1  Resort Hotel            0        737               2015               July   \n",
       "2  Resort Hotel            0          7               2015               July   \n",
       "\n",
       "   arrival_date_week_number  arrival_date_day_of_month  \\\n",
       "0                        27                          1   \n",
       "1                        27                          1   \n",
       "2                        27                          1   \n",
       "\n",
       "   stays_in_weekend_nights  stays_in_week_nights  adults  ...  deposit_type  \\\n",
       "0                        0                     0       2  ...    No Deposit   \n",
       "1                        0                     0       2  ...    No Deposit   \n",
       "2                        0                     1       1  ...    No Deposit   \n",
       "\n",
       "   agent company days_in_waiting_list customer_type   adr  \\\n",
       "0    NaN     NaN                    0     Transient   0.0   \n",
       "1    NaN     NaN                    0     Transient   0.0   \n",
       "2    NaN     NaN                    0     Transient  75.0   \n",
       "\n",
       "   required_car_parking_spaces  total_of_special_requests  reservation_status  \\\n",
       "0                            0                          0           Check-Out   \n",
       "1                            0                          0           Check-Out   \n",
       "2                            0                          0           Check-Out   \n",
       "\n",
       "  reservation_status_date  \n",
       "0                7/1/2015  \n",
       "1                7/1/2015  \n",
       "2                7/2/2015  \n",
       "\n",
       "[3 rows x 32 columns]"
      ]
     },
     "execution_count": 315,
     "metadata": {},
     "output_type": "execute_result"
    }
   ],
   "source": [
    "data_resort.head(3)"
   ]
  },
  {
   "cell_type": "code",
   "execution_count": 316,
   "id": "776af823",
   "metadata": {},
   "outputs": [
    {
     "data": {
      "text/html": [
       "<div>\n",
       "<style scoped>\n",
       "    .dataframe tbody tr th:only-of-type {\n",
       "        vertical-align: middle;\n",
       "    }\n",
       "\n",
       "    .dataframe tbody tr th {\n",
       "        vertical-align: top;\n",
       "    }\n",
       "\n",
       "    .dataframe thead th {\n",
       "        text-align: right;\n",
       "    }\n",
       "</style>\n",
       "<table border=\"1\" class=\"dataframe\">\n",
       "  <thead>\n",
       "    <tr style=\"text-align: right;\">\n",
       "      <th></th>\n",
       "      <th>month</th>\n",
       "      <th>no_of_guests</th>\n",
       "    </tr>\n",
       "  </thead>\n",
       "  <tbody>\n",
       "    <tr>\n",
       "      <th>0</th>\n",
       "      <td>August</td>\n",
       "      <td>3257</td>\n",
       "    </tr>\n",
       "    <tr>\n",
       "      <th>1</th>\n",
       "      <td>July</td>\n",
       "      <td>3137</td>\n",
       "    </tr>\n",
       "    <tr>\n",
       "      <th>2</th>\n",
       "      <td>October</td>\n",
       "      <td>2575</td>\n",
       "    </tr>\n",
       "    <tr>\n",
       "      <th>3</th>\n",
       "      <td>March</td>\n",
       "      <td>2571</td>\n",
       "    </tr>\n",
       "    <tr>\n",
       "      <th>4</th>\n",
       "      <td>April</td>\n",
       "      <td>2550</td>\n",
       "    </tr>\n",
       "    <tr>\n",
       "      <th>5</th>\n",
       "      <td>May</td>\n",
       "      <td>2535</td>\n",
       "    </tr>\n",
       "    <tr>\n",
       "      <th>6</th>\n",
       "      <td>February</td>\n",
       "      <td>2308</td>\n",
       "    </tr>\n",
       "    <tr>\n",
       "      <th>7</th>\n",
       "      <td>September</td>\n",
       "      <td>2102</td>\n",
       "    </tr>\n",
       "    <tr>\n",
       "      <th>8</th>\n",
       "      <td>June</td>\n",
       "      <td>2037</td>\n",
       "    </tr>\n",
       "    <tr>\n",
       "      <th>9</th>\n",
       "      <td>December</td>\n",
       "      <td>2014</td>\n",
       "    </tr>\n",
       "    <tr>\n",
       "      <th>10</th>\n",
       "      <td>November</td>\n",
       "      <td>1975</td>\n",
       "    </tr>\n",
       "    <tr>\n",
       "      <th>11</th>\n",
       "      <td>January</td>\n",
       "      <td>1866</td>\n",
       "    </tr>\n",
       "  </tbody>\n",
       "</table>\n",
       "</div>"
      ],
      "text/plain": [
       "        month  no_of_guests\n",
       "0      August          3257\n",
       "1        July          3137\n",
       "2     October          2575\n",
       "3       March          2571\n",
       "4       April          2550\n",
       "5         May          2535\n",
       "6    February          2308\n",
       "7   September          2102\n",
       "8        June          2037\n",
       "9    December          2014\n",
       "10   November          1975\n",
       "11    January          1866"
      ]
     },
     "execution_count": 316,
     "metadata": {},
     "output_type": "execute_result"
    }
   ],
   "source": [
    "rush_resort= data_resort['arrival_date_month'].value_counts().reset_index()\n",
    "rush_resort.columns=['month','no_of_guests']\n",
    "rush_resort"
   ]
  },
  {
   "cell_type": "code",
   "execution_count": 317,
   "id": "838b0691",
   "metadata": {},
   "outputs": [
    {
     "data": {
      "text/html": [
       "<div>\n",
       "<style scoped>\n",
       "    .dataframe tbody tr th:only-of-type {\n",
       "        vertical-align: middle;\n",
       "    }\n",
       "\n",
       "    .dataframe tbody tr th {\n",
       "        vertical-align: top;\n",
       "    }\n",
       "\n",
       "    .dataframe thead th {\n",
       "        text-align: right;\n",
       "    }\n",
       "</style>\n",
       "<table border=\"1\" class=\"dataframe\">\n",
       "  <thead>\n",
       "    <tr style=\"text-align: right;\">\n",
       "      <th></th>\n",
       "      <th>month</th>\n",
       "      <th>no_of_guests</th>\n",
       "    </tr>\n",
       "  </thead>\n",
       "  <tbody>\n",
       "    <tr>\n",
       "      <th>0</th>\n",
       "      <td>August</td>\n",
       "      <td>5367</td>\n",
       "    </tr>\n",
       "    <tr>\n",
       "      <th>1</th>\n",
       "      <td>July</td>\n",
       "      <td>4770</td>\n",
       "    </tr>\n",
       "    <tr>\n",
       "      <th>2</th>\n",
       "      <td>May</td>\n",
       "      <td>4568</td>\n",
       "    </tr>\n",
       "    <tr>\n",
       "      <th>3</th>\n",
       "      <td>June</td>\n",
       "      <td>4358</td>\n",
       "    </tr>\n",
       "    <tr>\n",
       "      <th>4</th>\n",
       "      <td>October</td>\n",
       "      <td>4326</td>\n",
       "    </tr>\n",
       "    <tr>\n",
       "      <th>5</th>\n",
       "      <td>September</td>\n",
       "      <td>4283</td>\n",
       "    </tr>\n",
       "    <tr>\n",
       "      <th>6</th>\n",
       "      <td>March</td>\n",
       "      <td>4049</td>\n",
       "    </tr>\n",
       "    <tr>\n",
       "      <th>7</th>\n",
       "      <td>April</td>\n",
       "      <td>4010</td>\n",
       "    </tr>\n",
       "    <tr>\n",
       "      <th>8</th>\n",
       "      <td>February</td>\n",
       "      <td>3051</td>\n",
       "    </tr>\n",
       "    <tr>\n",
       "      <th>9</th>\n",
       "      <td>November</td>\n",
       "      <td>2676</td>\n",
       "    </tr>\n",
       "    <tr>\n",
       "      <th>10</th>\n",
       "      <td>December</td>\n",
       "      <td>2377</td>\n",
       "    </tr>\n",
       "    <tr>\n",
       "      <th>11</th>\n",
       "      <td>January</td>\n",
       "      <td>2249</td>\n",
       "    </tr>\n",
       "  </tbody>\n",
       "</table>\n",
       "</div>"
      ],
      "text/plain": [
       "        month  no_of_guests\n",
       "0      August          5367\n",
       "1        July          4770\n",
       "2         May          4568\n",
       "3        June          4358\n",
       "4     October          4326\n",
       "5   September          4283\n",
       "6       March          4049\n",
       "7       April          4010\n",
       "8    February          3051\n",
       "9    November          2676\n",
       "10   December          2377\n",
       "11    January          2249"
      ]
     },
     "execution_count": 317,
     "metadata": {},
     "output_type": "execute_result"
    }
   ],
   "source": [
    "rush_city= data_city['arrival_date_month'].value_counts().reset_index()\n",
    "rush_city.columns=['month','no_of_guests']\n",
    "rush_city"
   ]
  },
  {
   "cell_type": "code",
   "execution_count": 318,
   "id": "e00d4917",
   "metadata": {},
   "outputs": [],
   "source": [
    "final_rush= rush_resort.merge(rush_city, on='month')"
   ]
  },
  {
   "cell_type": "code",
   "execution_count": 319,
   "id": "2f365eca",
   "metadata": {},
   "outputs": [
    {
     "data": {
      "text/html": [
       "<div>\n",
       "<style scoped>\n",
       "    .dataframe tbody tr th:only-of-type {\n",
       "        vertical-align: middle;\n",
       "    }\n",
       "\n",
       "    .dataframe tbody tr th {\n",
       "        vertical-align: top;\n",
       "    }\n",
       "\n",
       "    .dataframe thead th {\n",
       "        text-align: right;\n",
       "    }\n",
       "</style>\n",
       "<table border=\"1\" class=\"dataframe\">\n",
       "  <thead>\n",
       "    <tr style=\"text-align: right;\">\n",
       "      <th></th>\n",
       "      <th>month</th>\n",
       "      <th>no_of_guests_x</th>\n",
       "      <th>no_of_guests_y</th>\n",
       "    </tr>\n",
       "  </thead>\n",
       "  <tbody>\n",
       "    <tr>\n",
       "      <th>0</th>\n",
       "      <td>August</td>\n",
       "      <td>3257</td>\n",
       "      <td>5367</td>\n",
       "    </tr>\n",
       "    <tr>\n",
       "      <th>1</th>\n",
       "      <td>July</td>\n",
       "      <td>3137</td>\n",
       "      <td>4770</td>\n",
       "    </tr>\n",
       "    <tr>\n",
       "      <th>2</th>\n",
       "      <td>October</td>\n",
       "      <td>2575</td>\n",
       "      <td>4326</td>\n",
       "    </tr>\n",
       "    <tr>\n",
       "      <th>3</th>\n",
       "      <td>March</td>\n",
       "      <td>2571</td>\n",
       "      <td>4049</td>\n",
       "    </tr>\n",
       "    <tr>\n",
       "      <th>4</th>\n",
       "      <td>April</td>\n",
       "      <td>2550</td>\n",
       "      <td>4010</td>\n",
       "    </tr>\n",
       "    <tr>\n",
       "      <th>5</th>\n",
       "      <td>May</td>\n",
       "      <td>2535</td>\n",
       "      <td>4568</td>\n",
       "    </tr>\n",
       "    <tr>\n",
       "      <th>6</th>\n",
       "      <td>February</td>\n",
       "      <td>2308</td>\n",
       "      <td>3051</td>\n",
       "    </tr>\n",
       "    <tr>\n",
       "      <th>7</th>\n",
       "      <td>September</td>\n",
       "      <td>2102</td>\n",
       "      <td>4283</td>\n",
       "    </tr>\n",
       "    <tr>\n",
       "      <th>8</th>\n",
       "      <td>June</td>\n",
       "      <td>2037</td>\n",
       "      <td>4358</td>\n",
       "    </tr>\n",
       "    <tr>\n",
       "      <th>9</th>\n",
       "      <td>December</td>\n",
       "      <td>2014</td>\n",
       "      <td>2377</td>\n",
       "    </tr>\n",
       "    <tr>\n",
       "      <th>10</th>\n",
       "      <td>November</td>\n",
       "      <td>1975</td>\n",
       "      <td>2676</td>\n",
       "    </tr>\n",
       "    <tr>\n",
       "      <th>11</th>\n",
       "      <td>January</td>\n",
       "      <td>1866</td>\n",
       "      <td>2249</td>\n",
       "    </tr>\n",
       "  </tbody>\n",
       "</table>\n",
       "</div>"
      ],
      "text/plain": [
       "        month  no_of_guests_x  no_of_guests_y\n",
       "0      August            3257            5367\n",
       "1        July            3137            4770\n",
       "2     October            2575            4326\n",
       "3       March            2571            4049\n",
       "4       April            2550            4010\n",
       "5         May            2535            4568\n",
       "6    February            2308            3051\n",
       "7   September            2102            4283\n",
       "8        June            2037            4358\n",
       "9    December            2014            2377\n",
       "10   November            1975            2676\n",
       "11    January            1866            2249"
      ]
     },
     "execution_count": 319,
     "metadata": {},
     "output_type": "execute_result"
    }
   ],
   "source": [
    "final_rush.columns=['month','no_of_guests_x','no_of_guests_y']\n",
    "final_rush"
   ]
  },
  {
   "cell_type": "code",
   "execution_count": 320,
   "id": "0b26714d",
   "metadata": {},
   "outputs": [
    {
     "data": {
      "application/vnd.plotly.v1+json": {
       "config": {
        "plotlyServerURL": "https://plot.ly"
       },
       "data": [
        {
         "hovertemplate": "variable=no_of_guests_x<br>month=%{x}<br>value=%{y}<extra></extra>",
         "legendgroup": "no_of_guests_x",
         "line": {
          "color": "#636efa",
          "dash": "solid"
         },
         "marker": {
          "symbol": "circle"
         },
         "mode": "lines",
         "name": "no_of_guests_x",
         "orientation": "v",
         "showlegend": true,
         "type": "scatter",
         "x": [
          "August",
          "July",
          "October",
          "March",
          "April",
          "May",
          "February",
          "September",
          "June",
          "December",
          "November",
          "January"
         ],
         "xaxis": "x",
         "y": [
          3257,
          3137,
          2575,
          2571,
          2550,
          2535,
          2308,
          2102,
          2037,
          2014,
          1975,
          1866
         ],
         "yaxis": "y"
        },
        {
         "hovertemplate": "variable=no_of_guests_y<br>month=%{x}<br>value=%{y}<extra></extra>",
         "legendgroup": "no_of_guests_y",
         "line": {
          "color": "#EF553B",
          "dash": "solid"
         },
         "marker": {
          "symbol": "circle"
         },
         "mode": "lines",
         "name": "no_of_guests_y",
         "orientation": "v",
         "showlegend": true,
         "type": "scatter",
         "x": [
          "August",
          "July",
          "October",
          "March",
          "April",
          "May",
          "February",
          "September",
          "June",
          "December",
          "November",
          "January"
         ],
         "xaxis": "x",
         "y": [
          5367,
          4770,
          4326,
          4049,
          4010,
          4568,
          3051,
          4283,
          4358,
          2377,
          2676,
          2249
         ],
         "yaxis": "y"
        }
       ],
       "layout": {
        "legend": {
         "title": {
          "text": "variable"
         },
         "tracegroupgap": 0
        },
        "margin": {
         "t": 60
        },
        "template": {
         "data": {
          "bar": [
           {
            "error_x": {
             "color": "#2a3f5f"
            },
            "error_y": {
             "color": "#2a3f5f"
            },
            "marker": {
             "line": {
              "color": "#E5ECF6",
              "width": 0.5
             },
             "pattern": {
              "fillmode": "overlay",
              "size": 10,
              "solidity": 0.2
             }
            },
            "type": "bar"
           }
          ],
          "barpolar": [
           {
            "marker": {
             "line": {
              "color": "#E5ECF6",
              "width": 0.5
             },
             "pattern": {
              "fillmode": "overlay",
              "size": 10,
              "solidity": 0.2
             }
            },
            "type": "barpolar"
           }
          ],
          "carpet": [
           {
            "aaxis": {
             "endlinecolor": "#2a3f5f",
             "gridcolor": "white",
             "linecolor": "white",
             "minorgridcolor": "white",
             "startlinecolor": "#2a3f5f"
            },
            "baxis": {
             "endlinecolor": "#2a3f5f",
             "gridcolor": "white",
             "linecolor": "white",
             "minorgridcolor": "white",
             "startlinecolor": "#2a3f5f"
            },
            "type": "carpet"
           }
          ],
          "choropleth": [
           {
            "colorbar": {
             "outlinewidth": 0,
             "ticks": ""
            },
            "type": "choropleth"
           }
          ],
          "contour": [
           {
            "colorbar": {
             "outlinewidth": 0,
             "ticks": ""
            },
            "colorscale": [
             [
              0,
              "#0d0887"
             ],
             [
              0.1111111111111111,
              "#46039f"
             ],
             [
              0.2222222222222222,
              "#7201a8"
             ],
             [
              0.3333333333333333,
              "#9c179e"
             ],
             [
              0.4444444444444444,
              "#bd3786"
             ],
             [
              0.5555555555555556,
              "#d8576b"
             ],
             [
              0.6666666666666666,
              "#ed7953"
             ],
             [
              0.7777777777777778,
              "#fb9f3a"
             ],
             [
              0.8888888888888888,
              "#fdca26"
             ],
             [
              1,
              "#f0f921"
             ]
            ],
            "type": "contour"
           }
          ],
          "contourcarpet": [
           {
            "colorbar": {
             "outlinewidth": 0,
             "ticks": ""
            },
            "type": "contourcarpet"
           }
          ],
          "heatmap": [
           {
            "colorbar": {
             "outlinewidth": 0,
             "ticks": ""
            },
            "colorscale": [
             [
              0,
              "#0d0887"
             ],
             [
              0.1111111111111111,
              "#46039f"
             ],
             [
              0.2222222222222222,
              "#7201a8"
             ],
             [
              0.3333333333333333,
              "#9c179e"
             ],
             [
              0.4444444444444444,
              "#bd3786"
             ],
             [
              0.5555555555555556,
              "#d8576b"
             ],
             [
              0.6666666666666666,
              "#ed7953"
             ],
             [
              0.7777777777777778,
              "#fb9f3a"
             ],
             [
              0.8888888888888888,
              "#fdca26"
             ],
             [
              1,
              "#f0f921"
             ]
            ],
            "type": "heatmap"
           }
          ],
          "heatmapgl": [
           {
            "colorbar": {
             "outlinewidth": 0,
             "ticks": ""
            },
            "colorscale": [
             [
              0,
              "#0d0887"
             ],
             [
              0.1111111111111111,
              "#46039f"
             ],
             [
              0.2222222222222222,
              "#7201a8"
             ],
             [
              0.3333333333333333,
              "#9c179e"
             ],
             [
              0.4444444444444444,
              "#bd3786"
             ],
             [
              0.5555555555555556,
              "#d8576b"
             ],
             [
              0.6666666666666666,
              "#ed7953"
             ],
             [
              0.7777777777777778,
              "#fb9f3a"
             ],
             [
              0.8888888888888888,
              "#fdca26"
             ],
             [
              1,
              "#f0f921"
             ]
            ],
            "type": "heatmapgl"
           }
          ],
          "histogram": [
           {
            "marker": {
             "pattern": {
              "fillmode": "overlay",
              "size": 10,
              "solidity": 0.2
             }
            },
            "type": "histogram"
           }
          ],
          "histogram2d": [
           {
            "colorbar": {
             "outlinewidth": 0,
             "ticks": ""
            },
            "colorscale": [
             [
              0,
              "#0d0887"
             ],
             [
              0.1111111111111111,
              "#46039f"
             ],
             [
              0.2222222222222222,
              "#7201a8"
             ],
             [
              0.3333333333333333,
              "#9c179e"
             ],
             [
              0.4444444444444444,
              "#bd3786"
             ],
             [
              0.5555555555555556,
              "#d8576b"
             ],
             [
              0.6666666666666666,
              "#ed7953"
             ],
             [
              0.7777777777777778,
              "#fb9f3a"
             ],
             [
              0.8888888888888888,
              "#fdca26"
             ],
             [
              1,
              "#f0f921"
             ]
            ],
            "type": "histogram2d"
           }
          ],
          "histogram2dcontour": [
           {
            "colorbar": {
             "outlinewidth": 0,
             "ticks": ""
            },
            "colorscale": [
             [
              0,
              "#0d0887"
             ],
             [
              0.1111111111111111,
              "#46039f"
             ],
             [
              0.2222222222222222,
              "#7201a8"
             ],
             [
              0.3333333333333333,
              "#9c179e"
             ],
             [
              0.4444444444444444,
              "#bd3786"
             ],
             [
              0.5555555555555556,
              "#d8576b"
             ],
             [
              0.6666666666666666,
              "#ed7953"
             ],
             [
              0.7777777777777778,
              "#fb9f3a"
             ],
             [
              0.8888888888888888,
              "#fdca26"
             ],
             [
              1,
              "#f0f921"
             ]
            ],
            "type": "histogram2dcontour"
           }
          ],
          "mesh3d": [
           {
            "colorbar": {
             "outlinewidth": 0,
             "ticks": ""
            },
            "type": "mesh3d"
           }
          ],
          "parcoords": [
           {
            "line": {
             "colorbar": {
              "outlinewidth": 0,
              "ticks": ""
             }
            },
            "type": "parcoords"
           }
          ],
          "pie": [
           {
            "automargin": true,
            "type": "pie"
           }
          ],
          "scatter": [
           {
            "fillpattern": {
             "fillmode": "overlay",
             "size": 10,
             "solidity": 0.2
            },
            "type": "scatter"
           }
          ],
          "scatter3d": [
           {
            "line": {
             "colorbar": {
              "outlinewidth": 0,
              "ticks": ""
             }
            },
            "marker": {
             "colorbar": {
              "outlinewidth": 0,
              "ticks": ""
             }
            },
            "type": "scatter3d"
           }
          ],
          "scattercarpet": [
           {
            "marker": {
             "colorbar": {
              "outlinewidth": 0,
              "ticks": ""
             }
            },
            "type": "scattercarpet"
           }
          ],
          "scattergeo": [
           {
            "marker": {
             "colorbar": {
              "outlinewidth": 0,
              "ticks": ""
             }
            },
            "type": "scattergeo"
           }
          ],
          "scattergl": [
           {
            "marker": {
             "colorbar": {
              "outlinewidth": 0,
              "ticks": ""
             }
            },
            "type": "scattergl"
           }
          ],
          "scattermapbox": [
           {
            "marker": {
             "colorbar": {
              "outlinewidth": 0,
              "ticks": ""
             }
            },
            "type": "scattermapbox"
           }
          ],
          "scatterpolar": [
           {
            "marker": {
             "colorbar": {
              "outlinewidth": 0,
              "ticks": ""
             }
            },
            "type": "scatterpolar"
           }
          ],
          "scatterpolargl": [
           {
            "marker": {
             "colorbar": {
              "outlinewidth": 0,
              "ticks": ""
             }
            },
            "type": "scatterpolargl"
           }
          ],
          "scatterternary": [
           {
            "marker": {
             "colorbar": {
              "outlinewidth": 0,
              "ticks": ""
             }
            },
            "type": "scatterternary"
           }
          ],
          "surface": [
           {
            "colorbar": {
             "outlinewidth": 0,
             "ticks": ""
            },
            "colorscale": [
             [
              0,
              "#0d0887"
             ],
             [
              0.1111111111111111,
              "#46039f"
             ],
             [
              0.2222222222222222,
              "#7201a8"
             ],
             [
              0.3333333333333333,
              "#9c179e"
             ],
             [
              0.4444444444444444,
              "#bd3786"
             ],
             [
              0.5555555555555556,
              "#d8576b"
             ],
             [
              0.6666666666666666,
              "#ed7953"
             ],
             [
              0.7777777777777778,
              "#fb9f3a"
             ],
             [
              0.8888888888888888,
              "#fdca26"
             ],
             [
              1,
              "#f0f921"
             ]
            ],
            "type": "surface"
           }
          ],
          "table": [
           {
            "cells": {
             "fill": {
              "color": "#EBF0F8"
             },
             "line": {
              "color": "white"
             }
            },
            "header": {
             "fill": {
              "color": "#C8D4E3"
             },
             "line": {
              "color": "white"
             }
            },
            "type": "table"
           }
          ]
         },
         "layout": {
          "annotationdefaults": {
           "arrowcolor": "#2a3f5f",
           "arrowhead": 0,
           "arrowwidth": 1
          },
          "autotypenumbers": "strict",
          "coloraxis": {
           "colorbar": {
            "outlinewidth": 0,
            "ticks": ""
           }
          },
          "colorscale": {
           "diverging": [
            [
             0,
             "#8e0152"
            ],
            [
             0.1,
             "#c51b7d"
            ],
            [
             0.2,
             "#de77ae"
            ],
            [
             0.3,
             "#f1b6da"
            ],
            [
             0.4,
             "#fde0ef"
            ],
            [
             0.5,
             "#f7f7f7"
            ],
            [
             0.6,
             "#e6f5d0"
            ],
            [
             0.7,
             "#b8e186"
            ],
            [
             0.8,
             "#7fbc41"
            ],
            [
             0.9,
             "#4d9221"
            ],
            [
             1,
             "#276419"
            ]
           ],
           "sequential": [
            [
             0,
             "#0d0887"
            ],
            [
             0.1111111111111111,
             "#46039f"
            ],
            [
             0.2222222222222222,
             "#7201a8"
            ],
            [
             0.3333333333333333,
             "#9c179e"
            ],
            [
             0.4444444444444444,
             "#bd3786"
            ],
            [
             0.5555555555555556,
             "#d8576b"
            ],
            [
             0.6666666666666666,
             "#ed7953"
            ],
            [
             0.7777777777777778,
             "#fb9f3a"
            ],
            [
             0.8888888888888888,
             "#fdca26"
            ],
            [
             1,
             "#f0f921"
            ]
           ],
           "sequentialminus": [
            [
             0,
             "#0d0887"
            ],
            [
             0.1111111111111111,
             "#46039f"
            ],
            [
             0.2222222222222222,
             "#7201a8"
            ],
            [
             0.3333333333333333,
             "#9c179e"
            ],
            [
             0.4444444444444444,
             "#bd3786"
            ],
            [
             0.5555555555555556,
             "#d8576b"
            ],
            [
             0.6666666666666666,
             "#ed7953"
            ],
            [
             0.7777777777777778,
             "#fb9f3a"
            ],
            [
             0.8888888888888888,
             "#fdca26"
            ],
            [
             1,
             "#f0f921"
            ]
           ]
          },
          "colorway": [
           "#636efa",
           "#EF553B",
           "#00cc96",
           "#ab63fa",
           "#FFA15A",
           "#19d3f3",
           "#FF6692",
           "#B6E880",
           "#FF97FF",
           "#FECB52"
          ],
          "font": {
           "color": "#2a3f5f"
          },
          "geo": {
           "bgcolor": "white",
           "lakecolor": "white",
           "landcolor": "#E5ECF6",
           "showlakes": true,
           "showland": true,
           "subunitcolor": "white"
          },
          "hoverlabel": {
           "align": "left"
          },
          "hovermode": "closest",
          "mapbox": {
           "style": "light"
          },
          "paper_bgcolor": "white",
          "plot_bgcolor": "#E5ECF6",
          "polar": {
           "angularaxis": {
            "gridcolor": "white",
            "linecolor": "white",
            "ticks": ""
           },
           "bgcolor": "#E5ECF6",
           "radialaxis": {
            "gridcolor": "white",
            "linecolor": "white",
            "ticks": ""
           }
          },
          "scene": {
           "xaxis": {
            "backgroundcolor": "#E5ECF6",
            "gridcolor": "white",
            "gridwidth": 2,
            "linecolor": "white",
            "showbackground": true,
            "ticks": "",
            "zerolinecolor": "white"
           },
           "yaxis": {
            "backgroundcolor": "#E5ECF6",
            "gridcolor": "white",
            "gridwidth": 2,
            "linecolor": "white",
            "showbackground": true,
            "ticks": "",
            "zerolinecolor": "white"
           },
           "zaxis": {
            "backgroundcolor": "#E5ECF6",
            "gridcolor": "white",
            "gridwidth": 2,
            "linecolor": "white",
            "showbackground": true,
            "ticks": "",
            "zerolinecolor": "white"
           }
          },
          "shapedefaults": {
           "line": {
            "color": "#2a3f5f"
           }
          },
          "ternary": {
           "aaxis": {
            "gridcolor": "white",
            "linecolor": "white",
            "ticks": ""
           },
           "baxis": {
            "gridcolor": "white",
            "linecolor": "white",
            "ticks": ""
           },
           "bgcolor": "#E5ECF6",
           "caxis": {
            "gridcolor": "white",
            "linecolor": "white",
            "ticks": ""
           }
          },
          "title": {
           "x": 0.05
          },
          "xaxis": {
           "automargin": true,
           "gridcolor": "white",
           "linecolor": "white",
           "ticks": "",
           "title": {
            "standoff": 15
           },
           "zerolinecolor": "white",
           "zerolinewidth": 2
          },
          "yaxis": {
           "automargin": true,
           "gridcolor": "white",
           "linecolor": "white",
           "ticks": "",
           "title": {
            "standoff": 15
           },
           "zerolinecolor": "white",
           "zerolinewidth": 2
          }
         }
        },
        "xaxis": {
         "anchor": "y",
         "domain": [
          0,
          1
         ],
         "title": {
          "text": "month"
         }
        },
        "yaxis": {
         "anchor": "x",
         "domain": [
          0,
          1
         ],
         "title": {
          "text": "value"
         }
        }
       }
      },
      "text/html": [
       "<div>                            <div id=\"a763efad-f4ce-485e-998c-ef5c6f7ce6d8\" class=\"plotly-graph-div\" style=\"height:525px; width:100%;\"></div>            <script type=\"text/javascript\">                require([\"plotly\"], function(Plotly) {                    window.PLOTLYENV=window.PLOTLYENV || {};                                    if (document.getElementById(\"a763efad-f4ce-485e-998c-ef5c6f7ce6d8\")) {                    Plotly.newPlot(                        \"a763efad-f4ce-485e-998c-ef5c6f7ce6d8\",                        [{\"hovertemplate\":\"variable=no_of_guests_x<br>month=%{x}<br>value=%{y}<extra></extra>\",\"legendgroup\":\"no_of_guests_x\",\"line\":{\"color\":\"#636efa\",\"dash\":\"solid\"},\"marker\":{\"symbol\":\"circle\"},\"mode\":\"lines\",\"name\":\"no_of_guests_x\",\"orientation\":\"v\",\"showlegend\":true,\"x\":[\"August\",\"July\",\"October\",\"March\",\"April\",\"May\",\"February\",\"September\",\"June\",\"December\",\"November\",\"January\"],\"xaxis\":\"x\",\"y\":[3257,3137,2575,2571,2550,2535,2308,2102,2037,2014,1975,1866],\"yaxis\":\"y\",\"type\":\"scatter\"},{\"hovertemplate\":\"variable=no_of_guests_y<br>month=%{x}<br>value=%{y}<extra></extra>\",\"legendgroup\":\"no_of_guests_y\",\"line\":{\"color\":\"#EF553B\",\"dash\":\"solid\"},\"marker\":{\"symbol\":\"circle\"},\"mode\":\"lines\",\"name\":\"no_of_guests_y\",\"orientation\":\"v\",\"showlegend\":true,\"x\":[\"August\",\"July\",\"October\",\"March\",\"April\",\"May\",\"February\",\"September\",\"June\",\"December\",\"November\",\"January\"],\"xaxis\":\"x\",\"y\":[5367,4770,4326,4049,4010,4568,3051,4283,4358,2377,2676,2249],\"yaxis\":\"y\",\"type\":\"scatter\"}],                        {\"template\":{\"data\":{\"histogram2dcontour\":[{\"type\":\"histogram2dcontour\",\"colorbar\":{\"outlinewidth\":0,\"ticks\":\"\"},\"colorscale\":[[0.0,\"#0d0887\"],[0.1111111111111111,\"#46039f\"],[0.2222222222222222,\"#7201a8\"],[0.3333333333333333,\"#9c179e\"],[0.4444444444444444,\"#bd3786\"],[0.5555555555555556,\"#d8576b\"],[0.6666666666666666,\"#ed7953\"],[0.7777777777777778,\"#fb9f3a\"],[0.8888888888888888,\"#fdca26\"],[1.0,\"#f0f921\"]]}],\"choropleth\":[{\"type\":\"choropleth\",\"colorbar\":{\"outlinewidth\":0,\"ticks\":\"\"}}],\"histogram2d\":[{\"type\":\"histogram2d\",\"colorbar\":{\"outlinewidth\":0,\"ticks\":\"\"},\"colorscale\":[[0.0,\"#0d0887\"],[0.1111111111111111,\"#46039f\"],[0.2222222222222222,\"#7201a8\"],[0.3333333333333333,\"#9c179e\"],[0.4444444444444444,\"#bd3786\"],[0.5555555555555556,\"#d8576b\"],[0.6666666666666666,\"#ed7953\"],[0.7777777777777778,\"#fb9f3a\"],[0.8888888888888888,\"#fdca26\"],[1.0,\"#f0f921\"]]}],\"heatmap\":[{\"type\":\"heatmap\",\"colorbar\":{\"outlinewidth\":0,\"ticks\":\"\"},\"colorscale\":[[0.0,\"#0d0887\"],[0.1111111111111111,\"#46039f\"],[0.2222222222222222,\"#7201a8\"],[0.3333333333333333,\"#9c179e\"],[0.4444444444444444,\"#bd3786\"],[0.5555555555555556,\"#d8576b\"],[0.6666666666666666,\"#ed7953\"],[0.7777777777777778,\"#fb9f3a\"],[0.8888888888888888,\"#fdca26\"],[1.0,\"#f0f921\"]]}],\"heatmapgl\":[{\"type\":\"heatmapgl\",\"colorbar\":{\"outlinewidth\":0,\"ticks\":\"\"},\"colorscale\":[[0.0,\"#0d0887\"],[0.1111111111111111,\"#46039f\"],[0.2222222222222222,\"#7201a8\"],[0.3333333333333333,\"#9c179e\"],[0.4444444444444444,\"#bd3786\"],[0.5555555555555556,\"#d8576b\"],[0.6666666666666666,\"#ed7953\"],[0.7777777777777778,\"#fb9f3a\"],[0.8888888888888888,\"#fdca26\"],[1.0,\"#f0f921\"]]}],\"contourcarpet\":[{\"type\":\"contourcarpet\",\"colorbar\":{\"outlinewidth\":0,\"ticks\":\"\"}}],\"contour\":[{\"type\":\"contour\",\"colorbar\":{\"outlinewidth\":0,\"ticks\":\"\"},\"colorscale\":[[0.0,\"#0d0887\"],[0.1111111111111111,\"#46039f\"],[0.2222222222222222,\"#7201a8\"],[0.3333333333333333,\"#9c179e\"],[0.4444444444444444,\"#bd3786\"],[0.5555555555555556,\"#d8576b\"],[0.6666666666666666,\"#ed7953\"],[0.7777777777777778,\"#fb9f3a\"],[0.8888888888888888,\"#fdca26\"],[1.0,\"#f0f921\"]]}],\"surface\":[{\"type\":\"surface\",\"colorbar\":{\"outlinewidth\":0,\"ticks\":\"\"},\"colorscale\":[[0.0,\"#0d0887\"],[0.1111111111111111,\"#46039f\"],[0.2222222222222222,\"#7201a8\"],[0.3333333333333333,\"#9c179e\"],[0.4444444444444444,\"#bd3786\"],[0.5555555555555556,\"#d8576b\"],[0.6666666666666666,\"#ed7953\"],[0.7777777777777778,\"#fb9f3a\"],[0.8888888888888888,\"#fdca26\"],[1.0,\"#f0f921\"]]}],\"mesh3d\":[{\"type\":\"mesh3d\",\"colorbar\":{\"outlinewidth\":0,\"ticks\":\"\"}}],\"scatter\":[{\"fillpattern\":{\"fillmode\":\"overlay\",\"size\":10,\"solidity\":0.2},\"type\":\"scatter\"}],\"parcoords\":[{\"type\":\"parcoords\",\"line\":{\"colorbar\":{\"outlinewidth\":0,\"ticks\":\"\"}}}],\"scatterpolargl\":[{\"type\":\"scatterpolargl\",\"marker\":{\"colorbar\":{\"outlinewidth\":0,\"ticks\":\"\"}}}],\"bar\":[{\"error_x\":{\"color\":\"#2a3f5f\"},\"error_y\":{\"color\":\"#2a3f5f\"},\"marker\":{\"line\":{\"color\":\"#E5ECF6\",\"width\":0.5},\"pattern\":{\"fillmode\":\"overlay\",\"size\":10,\"solidity\":0.2}},\"type\":\"bar\"}],\"scattergeo\":[{\"type\":\"scattergeo\",\"marker\":{\"colorbar\":{\"outlinewidth\":0,\"ticks\":\"\"}}}],\"scatterpolar\":[{\"type\":\"scatterpolar\",\"marker\":{\"colorbar\":{\"outlinewidth\":0,\"ticks\":\"\"}}}],\"histogram\":[{\"marker\":{\"pattern\":{\"fillmode\":\"overlay\",\"size\":10,\"solidity\":0.2}},\"type\":\"histogram\"}],\"scattergl\":[{\"type\":\"scattergl\",\"marker\":{\"colorbar\":{\"outlinewidth\":0,\"ticks\":\"\"}}}],\"scatter3d\":[{\"type\":\"scatter3d\",\"line\":{\"colorbar\":{\"outlinewidth\":0,\"ticks\":\"\"}},\"marker\":{\"colorbar\":{\"outlinewidth\":0,\"ticks\":\"\"}}}],\"scattermapbox\":[{\"type\":\"scattermapbox\",\"marker\":{\"colorbar\":{\"outlinewidth\":0,\"ticks\":\"\"}}}],\"scatterternary\":[{\"type\":\"scatterternary\",\"marker\":{\"colorbar\":{\"outlinewidth\":0,\"ticks\":\"\"}}}],\"scattercarpet\":[{\"type\":\"scattercarpet\",\"marker\":{\"colorbar\":{\"outlinewidth\":0,\"ticks\":\"\"}}}],\"carpet\":[{\"aaxis\":{\"endlinecolor\":\"#2a3f5f\",\"gridcolor\":\"white\",\"linecolor\":\"white\",\"minorgridcolor\":\"white\",\"startlinecolor\":\"#2a3f5f\"},\"baxis\":{\"endlinecolor\":\"#2a3f5f\",\"gridcolor\":\"white\",\"linecolor\":\"white\",\"minorgridcolor\":\"white\",\"startlinecolor\":\"#2a3f5f\"},\"type\":\"carpet\"}],\"table\":[{\"cells\":{\"fill\":{\"color\":\"#EBF0F8\"},\"line\":{\"color\":\"white\"}},\"header\":{\"fill\":{\"color\":\"#C8D4E3\"},\"line\":{\"color\":\"white\"}},\"type\":\"table\"}],\"barpolar\":[{\"marker\":{\"line\":{\"color\":\"#E5ECF6\",\"width\":0.5},\"pattern\":{\"fillmode\":\"overlay\",\"size\":10,\"solidity\":0.2}},\"type\":\"barpolar\"}],\"pie\":[{\"automargin\":true,\"type\":\"pie\"}]},\"layout\":{\"autotypenumbers\":\"strict\",\"colorway\":[\"#636efa\",\"#EF553B\",\"#00cc96\",\"#ab63fa\",\"#FFA15A\",\"#19d3f3\",\"#FF6692\",\"#B6E880\",\"#FF97FF\",\"#FECB52\"],\"font\":{\"color\":\"#2a3f5f\"},\"hovermode\":\"closest\",\"hoverlabel\":{\"align\":\"left\"},\"paper_bgcolor\":\"white\",\"plot_bgcolor\":\"#E5ECF6\",\"polar\":{\"bgcolor\":\"#E5ECF6\",\"angularaxis\":{\"gridcolor\":\"white\",\"linecolor\":\"white\",\"ticks\":\"\"},\"radialaxis\":{\"gridcolor\":\"white\",\"linecolor\":\"white\",\"ticks\":\"\"}},\"ternary\":{\"bgcolor\":\"#E5ECF6\",\"aaxis\":{\"gridcolor\":\"white\",\"linecolor\":\"white\",\"ticks\":\"\"},\"baxis\":{\"gridcolor\":\"white\",\"linecolor\":\"white\",\"ticks\":\"\"},\"caxis\":{\"gridcolor\":\"white\",\"linecolor\":\"white\",\"ticks\":\"\"}},\"coloraxis\":{\"colorbar\":{\"outlinewidth\":0,\"ticks\":\"\"}},\"colorscale\":{\"sequential\":[[0.0,\"#0d0887\"],[0.1111111111111111,\"#46039f\"],[0.2222222222222222,\"#7201a8\"],[0.3333333333333333,\"#9c179e\"],[0.4444444444444444,\"#bd3786\"],[0.5555555555555556,\"#d8576b\"],[0.6666666666666666,\"#ed7953\"],[0.7777777777777778,\"#fb9f3a\"],[0.8888888888888888,\"#fdca26\"],[1.0,\"#f0f921\"]],\"sequentialminus\":[[0.0,\"#0d0887\"],[0.1111111111111111,\"#46039f\"],[0.2222222222222222,\"#7201a8\"],[0.3333333333333333,\"#9c179e\"],[0.4444444444444444,\"#bd3786\"],[0.5555555555555556,\"#d8576b\"],[0.6666666666666666,\"#ed7953\"],[0.7777777777777778,\"#fb9f3a\"],[0.8888888888888888,\"#fdca26\"],[1.0,\"#f0f921\"]],\"diverging\":[[0,\"#8e0152\"],[0.1,\"#c51b7d\"],[0.2,\"#de77ae\"],[0.3,\"#f1b6da\"],[0.4,\"#fde0ef\"],[0.5,\"#f7f7f7\"],[0.6,\"#e6f5d0\"],[0.7,\"#b8e186\"],[0.8,\"#7fbc41\"],[0.9,\"#4d9221\"],[1,\"#276419\"]]},\"xaxis\":{\"gridcolor\":\"white\",\"linecolor\":\"white\",\"ticks\":\"\",\"title\":{\"standoff\":15},\"zerolinecolor\":\"white\",\"automargin\":true,\"zerolinewidth\":2},\"yaxis\":{\"gridcolor\":\"white\",\"linecolor\":\"white\",\"ticks\":\"\",\"title\":{\"standoff\":15},\"zerolinecolor\":\"white\",\"automargin\":true,\"zerolinewidth\":2},\"scene\":{\"xaxis\":{\"backgroundcolor\":\"#E5ECF6\",\"gridcolor\":\"white\",\"linecolor\":\"white\",\"showbackground\":true,\"ticks\":\"\",\"zerolinecolor\":\"white\",\"gridwidth\":2},\"yaxis\":{\"backgroundcolor\":\"#E5ECF6\",\"gridcolor\":\"white\",\"linecolor\":\"white\",\"showbackground\":true,\"ticks\":\"\",\"zerolinecolor\":\"white\",\"gridwidth\":2},\"zaxis\":{\"backgroundcolor\":\"#E5ECF6\",\"gridcolor\":\"white\",\"linecolor\":\"white\",\"showbackground\":true,\"ticks\":\"\",\"zerolinecolor\":\"white\",\"gridwidth\":2}},\"shapedefaults\":{\"line\":{\"color\":\"#2a3f5f\"}},\"annotationdefaults\":{\"arrowcolor\":\"#2a3f5f\",\"arrowhead\":0,\"arrowwidth\":1},\"geo\":{\"bgcolor\":\"white\",\"landcolor\":\"#E5ECF6\",\"subunitcolor\":\"white\",\"showland\":true,\"showlakes\":true,\"lakecolor\":\"white\"},\"title\":{\"x\":0.05},\"mapbox\":{\"style\":\"light\"}}},\"xaxis\":{\"anchor\":\"y\",\"domain\":[0.0,1.0],\"title\":{\"text\":\"month\"}},\"yaxis\":{\"anchor\":\"x\",\"domain\":[0.0,1.0],\"title\":{\"text\":\"value\"}},\"legend\":{\"title\":{\"text\":\"variable\"},\"tracegroupgap\":0},\"margin\":{\"t\":60}},                        {\"responsive\": true}                    ).then(function(){\n",
       "                            \n",
       "var gd = document.getElementById('a763efad-f4ce-485e-998c-ef5c6f7ce6d8');\n",
       "var x = new MutationObserver(function (mutations, observer) {{\n",
       "        var display = window.getComputedStyle(gd).display;\n",
       "        if (!display || display === 'none') {{\n",
       "            console.log([gd, 'removed!']);\n",
       "            Plotly.purge(gd);\n",
       "            observer.disconnect();\n",
       "        }}\n",
       "}});\n",
       "\n",
       "// Listen for the removal of the full notebook cells\n",
       "var notebookContainer = gd.closest('#notebook-container');\n",
       "if (notebookContainer) {{\n",
       "    x.observe(notebookContainer, {childList: true});\n",
       "}}\n",
       "\n",
       "// Listen for the clearing of the current output cell\n",
       "var outputEl = gd.closest('.output');\n",
       "if (outputEl) {{\n",
       "    x.observe(outputEl, {childList: true});\n",
       "}}\n",
       "\n",
       "                        })                };                });            </script>        </div>"
      ]
     },
     "metadata": {},
     "output_type": "display_data"
    }
   ],
   "source": [
    "px.line(data_frame=final_rush, x='month', y=['no_of_guests_x','no_of_guests_y'])"
   ]
  },
  {
   "cell_type": "markdown",
   "id": "24fc28cd",
   "metadata": {},
   "source": [
    "### Which month has highest adr?"
   ]
  },
  {
   "cell_type": "code",
   "execution_count": 321,
   "id": "ba544e57",
   "metadata": {},
   "outputs": [
    {
     "data": {
      "image/png": "[encoded data removed]",
      "text/plain": [
       "<Figure size 640x480 with 1 Axes>"
      ]
     },
     "metadata": {},
     "output_type": "display_data"
    }
   ],
   "source": [
    "sns.barplot(x='arrival_date_month', y='adr', data=data, hue='is_canceled')\n",
    "plt.xticks(rotation='vertical')\n",
    "plt.show()"
   ]
  },
  {
   "cell_type": "markdown",
   "id": "b9519951",
   "metadata": {},
   "source": [
    "### How to create more feature"
   ]
  },
  {
   "cell_type": "code",
   "execution_count": 322,
   "id": "fc14c687",
   "metadata": {},
   "outputs": [
    {
     "data": {
      "text/plain": [
       "Index(['hotel', 'is_canceled', 'lead_time', 'arrival_date_year',\n",
       "       'arrival_date_month', 'arrival_date_week_number',\n",
       "       'arrival_date_day_of_month', 'stays_in_weekend_nights',\n",
       "       'stays_in_week_nights', 'adults', 'children', 'babies', 'meal',\n",
       "       'country', 'market_segment', 'distribution_channel',\n",
       "       'is_repeated_guest', 'previous_cancellations',\n",
       "       'previous_bookings_not_canceled', 'reserved_room_type',\n",
       "       'assigned_room_type', 'booking_changes', 'deposit_type', 'agent',\n",
       "       'company', 'days_in_waiting_list', 'customer_type', 'adr',\n",
       "       'required_car_parking_spaces', 'total_of_special_requests',\n",
       "       'reservation_status', 'reservation_status_date'],\n",
       "      dtype='object')"
      ]
     },
     "execution_count": 322,
     "metadata": {},
     "output_type": "execute_result"
    }
   ],
   "source": [
    "data2.columns"
   ]
  },
  {
   "cell_type": "code",
   "execution_count": 323,
   "id": "4ae62e20",
   "metadata": {},
   "outputs": [],
   "source": [
    "def family(row):\n",
    "    if (row['adults']>0) & (row['children']>0 & row['babies']>0):\n",
    "        return 1\n",
    "    else:\n",
    "        return 0"
   ]
  },
  {
   "cell_type": "code",
   "execution_count": 324,
   "id": "2ad7cf7e",
   "metadata": {},
   "outputs": [],
   "source": [
    "data['is_family'] = data.apply(family, axis=1)"
   ]
  },
  {
   "cell_type": "code",
   "execution_count": 325,
   "id": "7b6ecdb7",
   "metadata": {},
   "outputs": [],
   "source": [
    "data['total_customer']= data['adults'] + data['babies'] + data['children']"
   ]
  },
  {
   "cell_type": "code",
   "execution_count": 326,
   "id": "3482faf2",
   "metadata": {},
   "outputs": [],
   "source": [
    "data['total_nights'] = data['stays_in_week_nights'] + data['stays_in_weekend_nights']"
   ]
  },
  {
   "cell_type": "code",
   "execution_count": 327,
   "id": "4e71acda",
   "metadata": {},
   "outputs": [
    {
     "data": {
      "text/html": [
       "<div>\n",
       "<style scoped>\n",
       "    .dataframe tbody tr th:only-of-type {\n",
       "        vertical-align: middle;\n",
       "    }\n",
       "\n",
       "    .dataframe tbody tr th {\n",
       "        vertical-align: top;\n",
       "    }\n",
       "\n",
       "    .dataframe thead th {\n",
       "        text-align: right;\n",
       "    }\n",
       "</style>\n",
       "<table border=\"1\" class=\"dataframe\">\n",
       "  <thead>\n",
       "    <tr style=\"text-align: right;\">\n",
       "      <th></th>\n",
       "      <th>hotel</th>\n",
       "      <th>is_canceled</th>\n",
       "      <th>lead_time</th>\n",
       "      <th>arrival_date_year</th>\n",
       "      <th>arrival_date_month</th>\n",
       "      <th>arrival_date_week_number</th>\n",
       "      <th>arrival_date_day_of_month</th>\n",
       "      <th>stays_in_weekend_nights</th>\n",
       "      <th>stays_in_week_nights</th>\n",
       "      <th>adults</th>\n",
       "      <th>...</th>\n",
       "      <th>days_in_waiting_list</th>\n",
       "      <th>customer_type</th>\n",
       "      <th>adr</th>\n",
       "      <th>required_car_parking_spaces</th>\n",
       "      <th>total_of_special_requests</th>\n",
       "      <th>reservation_status</th>\n",
       "      <th>reservation_status_date</th>\n",
       "      <th>is_family</th>\n",
       "      <th>total_customer</th>\n",
       "      <th>total_nights</th>\n",
       "    </tr>\n",
       "  </thead>\n",
       "  <tbody>\n",
       "    <tr>\n",
       "      <th>0</th>\n",
       "      <td>Resort Hotel</td>\n",
       "      <td>0</td>\n",
       "      <td>342</td>\n",
       "      <td>2015</td>\n",
       "      <td>July</td>\n",
       "      <td>27</td>\n",
       "      <td>1</td>\n",
       "      <td>0</td>\n",
       "      <td>0</td>\n",
       "      <td>2</td>\n",
       "      <td>...</td>\n",
       "      <td>0</td>\n",
       "      <td>Transient</td>\n",
       "      <td>0.0</td>\n",
       "      <td>0</td>\n",
       "      <td>0</td>\n",
       "      <td>Check-Out</td>\n",
       "      <td>7/1/2015</td>\n",
       "      <td>0</td>\n",
       "      <td>2.0</td>\n",
       "      <td>0</td>\n",
       "    </tr>\n",
       "    <tr>\n",
       "      <th>1</th>\n",
       "      <td>Resort Hotel</td>\n",
       "      <td>0</td>\n",
       "      <td>737</td>\n",
       "      <td>2015</td>\n",
       "      <td>July</td>\n",
       "      <td>27</td>\n",
       "      <td>1</td>\n",
       "      <td>0</td>\n",
       "      <td>0</td>\n",
       "      <td>2</td>\n",
       "      <td>...</td>\n",
       "      <td>0</td>\n",
       "      <td>Transient</td>\n",
       "      <td>0.0</td>\n",
       "      <td>0</td>\n",
       "      <td>0</td>\n",
       "      <td>Check-Out</td>\n",
       "      <td>7/1/2015</td>\n",
       "      <td>0</td>\n",
       "      <td>2.0</td>\n",
       "      <td>0</td>\n",
       "    </tr>\n",
       "    <tr>\n",
       "      <th>2</th>\n",
       "      <td>Resort Hotel</td>\n",
       "      <td>0</td>\n",
       "      <td>7</td>\n",
       "      <td>2015</td>\n",
       "      <td>July</td>\n",
       "      <td>27</td>\n",
       "      <td>1</td>\n",
       "      <td>0</td>\n",
       "      <td>1</td>\n",
       "      <td>1</td>\n",
       "      <td>...</td>\n",
       "      <td>0</td>\n",
       "      <td>Transient</td>\n",
       "      <td>75.0</td>\n",
       "      <td>0</td>\n",
       "      <td>0</td>\n",
       "      <td>Check-Out</td>\n",
       "      <td>7/2/2015</td>\n",
       "      <td>0</td>\n",
       "      <td>1.0</td>\n",
       "      <td>1</td>\n",
       "    </tr>\n",
       "  </tbody>\n",
       "</table>\n",
       "<p>3 rows × 35 columns</p>\n",
       "</div>"
      ],
      "text/plain": [
       "          hotel  is_canceled  lead_time  arrival_date_year arrival_date_month  \\\n",
       "0  Resort Hotel            0        342               2015               July   \n",
       "1  Resort Hotel            0        737               2015               July   \n",
       "2  Resort Hotel            0          7               2015               July   \n",
       "\n",
       "   arrival_date_week_number  arrival_date_day_of_month  \\\n",
       "0                        27                          1   \n",
       "1                        27                          1   \n",
       "2                        27                          1   \n",
       "\n",
       "   stays_in_weekend_nights  stays_in_week_nights  adults  ...  \\\n",
       "0                        0                     0       2  ...   \n",
       "1                        0                     0       2  ...   \n",
       "2                        0                     1       1  ...   \n",
       "\n",
       "   days_in_waiting_list  customer_type   adr required_car_parking_spaces  \\\n",
       "0                     0      Transient   0.0                           0   \n",
       "1                     0      Transient   0.0                           0   \n",
       "2                     0      Transient  75.0                           0   \n",
       "\n",
       "  total_of_special_requests reservation_status  reservation_status_date  \\\n",
       "0                         0          Check-Out                 7/1/2015   \n",
       "1                         0          Check-Out                 7/1/2015   \n",
       "2                         0          Check-Out                 7/2/2015   \n",
       "\n",
       "   is_family  total_customer total_nights  \n",
       "0          0             2.0            0  \n",
       "1          0             2.0            0  \n",
       "2          0             1.0            1  \n",
       "\n",
       "[3 rows x 35 columns]"
      ]
     },
     "execution_count": 327,
     "metadata": {},
     "output_type": "execute_result"
    }
   ],
   "source": [
    "data.head(3)"
   ]
  },
  {
   "cell_type": "code",
   "execution_count": 328,
   "id": "1676758f",
   "metadata": {},
   "outputs": [
    {
     "data": {
      "text/plain": [
       "array(['No Deposit', 'Refundable', 'Non Refund'], dtype=object)"
      ]
     },
     "execution_count": 328,
     "metadata": {},
     "output_type": "execute_result"
    }
   ],
   "source": [
    "data['deposit_type'].unique()"
   ]
  },
  {
   "cell_type": "code",
   "execution_count": 329,
   "id": "78184b5a",
   "metadata": {},
   "outputs": [],
   "source": [
    "dict= {'No Deposit': 0, 'Refundable': 0, 'Non Refund': 1}"
   ]
  },
  {
   "cell_type": "code",
   "execution_count": 330,
   "id": "aedf2828",
   "metadata": {},
   "outputs": [],
   "source": [
    "data['deposit_given']= data['deposit_type'].map(dict)"
   ]
  },
  {
   "cell_type": "code",
   "execution_count": 331,
   "id": "6810796c",
   "metadata": {},
   "outputs": [
    {
     "data": {
      "text/plain": [
       "Index(['hotel', 'is_canceled', 'lead_time', 'arrival_date_year',\n",
       "       'arrival_date_month', 'arrival_date_week_number',\n",
       "       'arrival_date_day_of_month', 'stays_in_weekend_nights',\n",
       "       'stays_in_week_nights', 'adults', 'children', 'babies', 'meal',\n",
       "       'country', 'market_segment', 'distribution_channel',\n",
       "       'is_repeated_guest', 'previous_cancellations',\n",
       "       'previous_bookings_not_canceled', 'reserved_room_type',\n",
       "       'assigned_room_type', 'booking_changes', 'deposit_type', 'agent',\n",
       "       'company', 'days_in_waiting_list', 'customer_type', 'adr',\n",
       "       'required_car_parking_spaces', 'total_of_special_requests',\n",
       "       'reservation_status', 'reservation_status_date', 'is_family',\n",
       "       'total_customer', 'total_nights', 'deposit_given'],\n",
       "      dtype='object')"
      ]
     },
     "execution_count": 331,
     "metadata": {},
     "output_type": "execute_result"
    }
   ],
   "source": [
    "data.columns"
   ]
  },
  {
   "cell_type": "code",
   "execution_count": 332,
   "id": "3c427363",
   "metadata": {},
   "outputs": [],
   "source": [
    "data.drop(columns=['adults','children','babies','deposit_type',],axis=1,inplace=True)"
   ]
  },
  {
   "cell_type": "code",
   "execution_count": 333,
   "id": "d55ed64e",
   "metadata": {},
   "outputs": [
    {
     "data": {
      "text/plain": [
       "Index(['hotel', 'is_canceled', 'lead_time', 'arrival_date_year',\n",
       "       'arrival_date_month', 'arrival_date_week_number',\n",
       "       'arrival_date_day_of_month', 'stays_in_weekend_nights',\n",
       "       'stays_in_week_nights', 'meal', 'country', 'market_segment',\n",
       "       'distribution_channel', 'is_repeated_guest', 'previous_cancellations',\n",
       "       'previous_bookings_not_canceled', 'reserved_room_type',\n",
       "       'assigned_room_type', 'booking_changes', 'agent', 'company',\n",
       "       'days_in_waiting_list', 'customer_type', 'adr',\n",
       "       'required_car_parking_spaces', 'total_of_special_requests',\n",
       "       'reservation_status', 'reservation_status_date', 'is_family',\n",
       "       'total_customer', 'total_nights', 'deposit_given'],\n",
       "      dtype='object')"
      ]
     },
     "execution_count": 333,
     "metadata": {},
     "output_type": "execute_result"
    }
   ],
   "source": [
    "data.columns"
   ]
  },
  {
   "cell_type": "markdown",
   "id": "22f39499",
   "metadata": {},
   "source": [
    "### How to apply feature encoding on data"
   ]
  },
  {
   "cell_type": "code",
   "execution_count": 334,
   "id": "de5b350d",
   "metadata": {},
   "outputs": [
    {
     "data": {
      "text/plain": [
       "hotel                              object\n",
       "is_canceled                         int64\n",
       "lead_time                           int64\n",
       "arrival_date_year                   int64\n",
       "arrival_date_month                 object\n",
       "arrival_date_week_number            int64\n",
       "arrival_date_day_of_month           int64\n",
       "stays_in_weekend_nights             int64\n",
       "stays_in_week_nights                int64\n",
       "meal                               object\n",
       "country                            object\n",
       "market_segment                     object\n",
       "distribution_channel               object\n",
       "is_repeated_guest                   int64\n",
       "previous_cancellations              int64\n",
       "previous_bookings_not_canceled      int64\n",
       "reserved_room_type                 object\n",
       "assigned_room_type                 object\n",
       "booking_changes                     int64\n",
       "agent                             float64\n",
       "company                           float64\n",
       "days_in_waiting_list                int64\n",
       "customer_type                      object\n",
       "adr                               float64\n",
       "required_car_parking_spaces         int64\n",
       "total_of_special_requests           int64\n",
       "reservation_status                 object\n",
       "reservation_status_date            object\n",
       "is_family                           int64\n",
       "total_customer                    float64\n",
       "total_nights                        int64\n",
       "deposit_given                       int64\n",
       "dtype: object"
      ]
     },
     "execution_count": 334,
     "metadata": {},
     "output_type": "execute_result"
    }
   ],
   "source": [
    "data.dtypes"
   ]
  },
  {
   "cell_type": "code",
   "execution_count": 335,
   "id": "365bbf78",
   "metadata": {},
   "outputs": [
    {
     "data": {
      "text/plain": [
       "['hotel',\n",
       " 'arrival_date_month',\n",
       " 'meal',\n",
       " 'country',\n",
       " 'market_segment',\n",
       " 'distribution_channel',\n",
       " 'reserved_room_type',\n",
       " 'assigned_room_type',\n",
       " 'customer_type',\n",
       " 'reservation_status',\n",
       " 'reservation_status_date']"
      ]
     },
     "execution_count": 335,
     "metadata": {},
     "output_type": "execute_result"
    }
   ],
   "source": [
    "cate_features= [col for col in data.columns if data[col].dtypes=='object']\n",
    "cate_features"
   ]
  },
  {
   "cell_type": "code",
   "execution_count": 336,
   "id": "7dfd4519",
   "metadata": {},
   "outputs": [
    {
     "data": {
      "text/plain": [
       "['is_canceled',\n",
       " 'lead_time',\n",
       " 'arrival_date_year',\n",
       " 'arrival_date_week_number',\n",
       " 'arrival_date_day_of_month',\n",
       " 'stays_in_weekend_nights',\n",
       " 'stays_in_week_nights',\n",
       " 'is_repeated_guest',\n",
       " 'previous_cancellations',\n",
       " 'previous_bookings_not_canceled',\n",
       " 'booking_changes',\n",
       " 'agent',\n",
       " 'company',\n",
       " 'days_in_waiting_list',\n",
       " 'adr',\n",
       " 'required_car_parking_spaces',\n",
       " 'total_of_special_requests',\n",
       " 'is_family',\n",
       " 'total_customer',\n",
       " 'total_nights',\n",
       " 'deposit_given']"
      ]
     },
     "execution_count": 336,
     "metadata": {},
     "output_type": "execute_result"
    }
   ],
   "source": [
    "num_features= [col for col in data.columns if data[col].dtypes!='object']\n",
    "num_features"
   ]
  },
  {
   "cell_type": "code",
   "execution_count": 337,
   "id": "a7ea3c46",
   "metadata": {},
   "outputs": [
    {
     "data": {
      "text/plain": [
       "{'City Hotel': 0.4178593534858457, 'Resort Hotel': 0.27767373336329815}"
      ]
     },
     "execution_count": 337,
     "metadata": {},
     "output_type": "execute_result"
    }
   ],
   "source": [
    "data.groupby(['hotel'])['is_canceled'].mean().to_dict()"
   ]
  },
  {
   "cell_type": "code",
   "execution_count": 338,
   "id": "63cc8ab5",
   "metadata": {},
   "outputs": [
    {
     "data": {
      "text/html": [
       "<div>\n",
       "<style scoped>\n",
       "    .dataframe tbody tr th:only-of-type {\n",
       "        vertical-align: middle;\n",
       "    }\n",
       "\n",
       "    .dataframe tbody tr th {\n",
       "        vertical-align: top;\n",
       "    }\n",
       "\n",
       "    .dataframe thead th {\n",
       "        text-align: right;\n",
       "    }\n",
       "</style>\n",
       "<table border=\"1\" class=\"dataframe\">\n",
       "  <thead>\n",
       "    <tr style=\"text-align: right;\">\n",
       "      <th></th>\n",
       "      <th>hotel</th>\n",
       "      <th>arrival_date_month</th>\n",
       "      <th>meal</th>\n",
       "      <th>country</th>\n",
       "      <th>market_segment</th>\n",
       "      <th>distribution_channel</th>\n",
       "      <th>reserved_room_type</th>\n",
       "      <th>assigned_room_type</th>\n",
       "      <th>customer_type</th>\n",
       "      <th>reservation_status</th>\n",
       "      <th>reservation_status_date</th>\n",
       "    </tr>\n",
       "  </thead>\n",
       "  <tbody>\n",
       "    <tr>\n",
       "      <th>0</th>\n",
       "      <td>Resort Hotel</td>\n",
       "      <td>July</td>\n",
       "      <td>BB</td>\n",
       "      <td>PRT</td>\n",
       "      <td>Direct</td>\n",
       "      <td>Direct</td>\n",
       "      <td>C</td>\n",
       "      <td>C</td>\n",
       "      <td>Transient</td>\n",
       "      <td>Check-Out</td>\n",
       "      <td>7/1/2015</td>\n",
       "    </tr>\n",
       "    <tr>\n",
       "      <th>1</th>\n",
       "      <td>Resort Hotel</td>\n",
       "      <td>July</td>\n",
       "      <td>BB</td>\n",
       "      <td>PRT</td>\n",
       "      <td>Direct</td>\n",
       "      <td>Direct</td>\n",
       "      <td>C</td>\n",
       "      <td>C</td>\n",
       "      <td>Transient</td>\n",
       "      <td>Check-Out</td>\n",
       "      <td>7/1/2015</td>\n",
       "    </tr>\n",
       "    <tr>\n",
       "      <th>2</th>\n",
       "      <td>Resort Hotel</td>\n",
       "      <td>July</td>\n",
       "      <td>BB</td>\n",
       "      <td>GBR</td>\n",
       "      <td>Direct</td>\n",
       "      <td>Direct</td>\n",
       "      <td>A</td>\n",
       "      <td>C</td>\n",
       "      <td>Transient</td>\n",
       "      <td>Check-Out</td>\n",
       "      <td>7/2/2015</td>\n",
       "    </tr>\n",
       "    <tr>\n",
       "      <th>3</th>\n",
       "      <td>Resort Hotel</td>\n",
       "      <td>July</td>\n",
       "      <td>BB</td>\n",
       "      <td>GBR</td>\n",
       "      <td>Corporate</td>\n",
       "      <td>Corporate</td>\n",
       "      <td>A</td>\n",
       "      <td>A</td>\n",
       "      <td>Transient</td>\n",
       "      <td>Check-Out</td>\n",
       "      <td>7/2/2015</td>\n",
       "    </tr>\n",
       "    <tr>\n",
       "      <th>4</th>\n",
       "      <td>Resort Hotel</td>\n",
       "      <td>July</td>\n",
       "      <td>BB</td>\n",
       "      <td>GBR</td>\n",
       "      <td>Online TA</td>\n",
       "      <td>TA/TO</td>\n",
       "      <td>A</td>\n",
       "      <td>A</td>\n",
       "      <td>Transient</td>\n",
       "      <td>Check-Out</td>\n",
       "      <td>7/3/2015</td>\n",
       "    </tr>\n",
       "  </tbody>\n",
       "</table>\n",
       "</div>"
      ],
      "text/plain": [
       "          hotel arrival_date_month meal country market_segment  \\\n",
       "0  Resort Hotel               July   BB     PRT         Direct   \n",
       "1  Resort Hotel               July   BB     PRT         Direct   \n",
       "2  Resort Hotel               July   BB     GBR         Direct   \n",
       "3  Resort Hotel               July   BB     GBR      Corporate   \n",
       "4  Resort Hotel               July   BB     GBR      Online TA   \n",
       "\n",
       "  distribution_channel reserved_room_type assigned_room_type customer_type  \\\n",
       "0               Direct                  C                  C     Transient   \n",
       "1               Direct                  C                  C     Transient   \n",
       "2               Direct                  A                  C     Transient   \n",
       "3            Corporate                  A                  A     Transient   \n",
       "4                TA/TO                  A                  A     Transient   \n",
       "\n",
       "  reservation_status reservation_status_date  \n",
       "0          Check-Out                7/1/2015  \n",
       "1          Check-Out                7/1/2015  \n",
       "2          Check-Out                7/2/2015  \n",
       "3          Check-Out                7/2/2015  \n",
       "4          Check-Out                7/3/2015  "
      ]
     },
     "execution_count": 338,
     "metadata": {},
     "output_type": "execute_result"
    }
   ],
   "source": [
    "data_cate= data[cate_features]\n",
    "data_cate.head()"
   ]
  },
  {
   "cell_type": "code",
   "execution_count": 339,
   "id": "1972cbc0",
   "metadata": {},
   "outputs": [],
   "source": [
    "data_cate['cancellation']= data['is_canceled']"
   ]
  },
  {
   "cell_type": "code",
   "execution_count": 340,
   "id": "312c6930",
   "metadata": {},
   "outputs": [
    {
     "data": {
      "text/plain": [
       "Index(['hotel', 'arrival_date_month', 'meal', 'country', 'market_segment',\n",
       "       'distribution_channel', 'reserved_room_type', 'assigned_room_type',\n",
       "       'customer_type', 'reservation_status', 'reservation_status_date'],\n",
       "      dtype='object')"
      ]
     },
     "execution_count": 340,
     "metadata": {},
     "output_type": "execute_result"
    }
   ],
   "source": [
    "cols= data_cate.columns\n",
    "cols= cols[0:-1]\n",
    "cols"
   ]
  },
  {
   "cell_type": "code",
   "execution_count": 341,
   "id": "c8309af3",
   "metadata": {},
   "outputs": [],
   "source": [
    "for col in cols:\n",
    "    dict2= data_cate.groupby([col])['cancellation'].mean().to_dict()\n",
    "    data_cate[col]=data_cate[col].map(dict2)"
   ]
  },
  {
   "cell_type": "code",
   "execution_count": 342,
   "id": "da0b4551",
   "metadata": {},
   "outputs": [
    {
     "data": {
      "text/html": [
       "<div>\n",
       "<style scoped>\n",
       "    .dataframe tbody tr th:only-of-type {\n",
       "        vertical-align: middle;\n",
       "    }\n",
       "\n",
       "    .dataframe tbody tr th {\n",
       "        vertical-align: top;\n",
       "    }\n",
       "\n",
       "    .dataframe thead th {\n",
       "        text-align: right;\n",
       "    }\n",
       "</style>\n",
       "<table border=\"1\" class=\"dataframe\">\n",
       "  <thead>\n",
       "    <tr style=\"text-align: right;\">\n",
       "      <th></th>\n",
       "      <th>hotel</th>\n",
       "      <th>arrival_date_month</th>\n",
       "      <th>meal</th>\n",
       "      <th>country</th>\n",
       "      <th>market_segment</th>\n",
       "      <th>distribution_channel</th>\n",
       "      <th>reserved_room_type</th>\n",
       "      <th>assigned_room_type</th>\n",
       "      <th>customer_type</th>\n",
       "      <th>reservation_status</th>\n",
       "      <th>reservation_status_date</th>\n",
       "      <th>cancellation</th>\n",
       "    </tr>\n",
       "  </thead>\n",
       "  <tbody>\n",
       "    <tr>\n",
       "      <th>0</th>\n",
       "      <td>0.277674</td>\n",
       "      <td>0.374644</td>\n",
       "      <td>0.374106</td>\n",
       "      <td>0.567333</td>\n",
       "      <td>0.153712</td>\n",
       "      <td>0.174868</td>\n",
       "      <td>0.330827</td>\n",
       "      <td>0.188186</td>\n",
       "      <td>0.407864</td>\n",
       "      <td>0.0</td>\n",
       "      <td>0.800000</td>\n",
       "      <td>0</td>\n",
       "    </tr>\n",
       "    <tr>\n",
       "      <th>1</th>\n",
       "      <td>0.277674</td>\n",
       "      <td>0.374644</td>\n",
       "      <td>0.374106</td>\n",
       "      <td>0.567333</td>\n",
       "      <td>0.153712</td>\n",
       "      <td>0.174868</td>\n",
       "      <td>0.330827</td>\n",
       "      <td>0.188186</td>\n",
       "      <td>0.407864</td>\n",
       "      <td>0.0</td>\n",
       "      <td>0.800000</td>\n",
       "      <td>0</td>\n",
       "    </tr>\n",
       "    <tr>\n",
       "      <th>2</th>\n",
       "      <td>0.277674</td>\n",
       "      <td>0.374644</td>\n",
       "      <td>0.374106</td>\n",
       "      <td>0.202310</td>\n",
       "      <td>0.153712</td>\n",
       "      <td>0.174868</td>\n",
       "      <td>0.391567</td>\n",
       "      <td>0.188186</td>\n",
       "      <td>0.407864</td>\n",
       "      <td>0.0</td>\n",
       "      <td>0.985075</td>\n",
       "      <td>0</td>\n",
       "    </tr>\n",
       "    <tr>\n",
       "      <th>3</th>\n",
       "      <td>0.277674</td>\n",
       "      <td>0.374644</td>\n",
       "      <td>0.374106</td>\n",
       "      <td>0.202310</td>\n",
       "      <td>0.187618</td>\n",
       "      <td>0.220568</td>\n",
       "      <td>0.391567</td>\n",
       "      <td>0.445055</td>\n",
       "      <td>0.407864</td>\n",
       "      <td>0.0</td>\n",
       "      <td>0.985075</td>\n",
       "      <td>0</td>\n",
       "    </tr>\n",
       "    <tr>\n",
       "      <th>4</th>\n",
       "      <td>0.277674</td>\n",
       "      <td>0.374644</td>\n",
       "      <td>0.374106</td>\n",
       "      <td>0.202310</td>\n",
       "      <td>0.367590</td>\n",
       "      <td>0.410598</td>\n",
       "      <td>0.391567</td>\n",
       "      <td>0.445055</td>\n",
       "      <td>0.407864</td>\n",
       "      <td>0.0</td>\n",
       "      <td>0.522876</td>\n",
       "      <td>0</td>\n",
       "    </tr>\n",
       "  </tbody>\n",
       "</table>\n",
       "</div>"
      ],
      "text/plain": [
       "      hotel  arrival_date_month      meal   country  market_segment  \\\n",
       "0  0.277674            0.374644  0.374106  0.567333        0.153712   \n",
       "1  0.277674            0.374644  0.374106  0.567333        0.153712   \n",
       "2  0.277674            0.374644  0.374106  0.202310        0.153712   \n",
       "3  0.277674            0.374644  0.374106  0.202310        0.187618   \n",
       "4  0.277674            0.374644  0.374106  0.202310        0.367590   \n",
       "\n",
       "   distribution_channel  reserved_room_type  assigned_room_type  \\\n",
       "0              0.174868            0.330827            0.188186   \n",
       "1              0.174868            0.330827            0.188186   \n",
       "2              0.174868            0.391567            0.188186   \n",
       "3              0.220568            0.391567            0.445055   \n",
       "4              0.410598            0.391567            0.445055   \n",
       "\n",
       "   customer_type  reservation_status  reservation_status_date  cancellation  \n",
       "0       0.407864                 0.0                 0.800000             0  \n",
       "1       0.407864                 0.0                 0.800000             0  \n",
       "2       0.407864                 0.0                 0.985075             0  \n",
       "3       0.407864                 0.0                 0.985075             0  \n",
       "4       0.407864                 0.0                 0.522876             0  "
      ]
     },
     "execution_count": 342,
     "metadata": {},
     "output_type": "execute_result"
    }
   ],
   "source": [
    "data_cate.head()"
   ]
  },
  {
   "cell_type": "markdown",
   "id": "a77922ed",
   "metadata": {},
   "source": [
    "### How to handle outliers"
   ]
  },
  {
   "cell_type": "code",
   "execution_count": 343,
   "id": "b12c1719",
   "metadata": {},
   "outputs": [
    {
     "data": {
      "text/html": [
       "<div>\n",
       "<style scoped>\n",
       "    .dataframe tbody tr th:only-of-type {\n",
       "        vertical-align: middle;\n",
       "    }\n",
       "\n",
       "    .dataframe tbody tr th {\n",
       "        vertical-align: top;\n",
       "    }\n",
       "\n",
       "    .dataframe thead th {\n",
       "        text-align: right;\n",
       "    }\n",
       "</style>\n",
       "<table border=\"1\" class=\"dataframe\">\n",
       "  <thead>\n",
       "    <tr style=\"text-align: right;\">\n",
       "      <th></th>\n",
       "      <th>hotel</th>\n",
       "      <th>arrival_date_month</th>\n",
       "      <th>meal</th>\n",
       "      <th>country</th>\n",
       "      <th>market_segment</th>\n",
       "      <th>distribution_channel</th>\n",
       "      <th>reserved_room_type</th>\n",
       "      <th>assigned_room_type</th>\n",
       "      <th>customer_type</th>\n",
       "      <th>reservation_status</th>\n",
       "      <th>...</th>\n",
       "      <th>agent</th>\n",
       "      <th>company</th>\n",
       "      <th>days_in_waiting_list</th>\n",
       "      <th>adr</th>\n",
       "      <th>required_car_parking_spaces</th>\n",
       "      <th>total_of_special_requests</th>\n",
       "      <th>is_family</th>\n",
       "      <th>total_customer</th>\n",
       "      <th>total_nights</th>\n",
       "      <th>deposit_given</th>\n",
       "    </tr>\n",
       "  </thead>\n",
       "  <tbody>\n",
       "    <tr>\n",
       "      <th>0</th>\n",
       "      <td>0.277674</td>\n",
       "      <td>0.374644</td>\n",
       "      <td>0.374106</td>\n",
       "      <td>0.567333</td>\n",
       "      <td>0.153712</td>\n",
       "      <td>0.174868</td>\n",
       "      <td>0.330827</td>\n",
       "      <td>0.188186</td>\n",
       "      <td>0.407864</td>\n",
       "      <td>0.0</td>\n",
       "      <td>...</td>\n",
       "      <td>NaN</td>\n",
       "      <td>NaN</td>\n",
       "      <td>0</td>\n",
       "      <td>0.0</td>\n",
       "      <td>0</td>\n",
       "      <td>0</td>\n",
       "      <td>0</td>\n",
       "      <td>2.0</td>\n",
       "      <td>0</td>\n",
       "      <td>0</td>\n",
       "    </tr>\n",
       "    <tr>\n",
       "      <th>1</th>\n",
       "      <td>0.277674</td>\n",
       "      <td>0.374644</td>\n",
       "      <td>0.374106</td>\n",
       "      <td>0.567333</td>\n",
       "      <td>0.153712</td>\n",
       "      <td>0.174868</td>\n",
       "      <td>0.330827</td>\n",
       "      <td>0.188186</td>\n",
       "      <td>0.407864</td>\n",
       "      <td>0.0</td>\n",
       "      <td>...</td>\n",
       "      <td>NaN</td>\n",
       "      <td>NaN</td>\n",
       "      <td>0</td>\n",
       "      <td>0.0</td>\n",
       "      <td>0</td>\n",
       "      <td>0</td>\n",
       "      <td>0</td>\n",
       "      <td>2.0</td>\n",
       "      <td>0</td>\n",
       "      <td>0</td>\n",
       "    </tr>\n",
       "    <tr>\n",
       "      <th>2</th>\n",
       "      <td>0.277674</td>\n",
       "      <td>0.374644</td>\n",
       "      <td>0.374106</td>\n",
       "      <td>0.202310</td>\n",
       "      <td>0.153712</td>\n",
       "      <td>0.174868</td>\n",
       "      <td>0.391567</td>\n",
       "      <td>0.188186</td>\n",
       "      <td>0.407864</td>\n",
       "      <td>0.0</td>\n",
       "      <td>...</td>\n",
       "      <td>NaN</td>\n",
       "      <td>NaN</td>\n",
       "      <td>0</td>\n",
       "      <td>75.0</td>\n",
       "      <td>0</td>\n",
       "      <td>0</td>\n",
       "      <td>0</td>\n",
       "      <td>1.0</td>\n",
       "      <td>1</td>\n",
       "      <td>0</td>\n",
       "    </tr>\n",
       "    <tr>\n",
       "      <th>3</th>\n",
       "      <td>0.277674</td>\n",
       "      <td>0.374644</td>\n",
       "      <td>0.374106</td>\n",
       "      <td>0.202310</td>\n",
       "      <td>0.187618</td>\n",
       "      <td>0.220568</td>\n",
       "      <td>0.391567</td>\n",
       "      <td>0.445055</td>\n",
       "      <td>0.407864</td>\n",
       "      <td>0.0</td>\n",
       "      <td>...</td>\n",
       "      <td>304.0</td>\n",
       "      <td>NaN</td>\n",
       "      <td>0</td>\n",
       "      <td>75.0</td>\n",
       "      <td>0</td>\n",
       "      <td>0</td>\n",
       "      <td>0</td>\n",
       "      <td>1.0</td>\n",
       "      <td>1</td>\n",
       "      <td>0</td>\n",
       "    </tr>\n",
       "    <tr>\n",
       "      <th>4</th>\n",
       "      <td>0.277674</td>\n",
       "      <td>0.374644</td>\n",
       "      <td>0.374106</td>\n",
       "      <td>0.202310</td>\n",
       "      <td>0.367590</td>\n",
       "      <td>0.410598</td>\n",
       "      <td>0.391567</td>\n",
       "      <td>0.445055</td>\n",
       "      <td>0.407864</td>\n",
       "      <td>0.0</td>\n",
       "      <td>...</td>\n",
       "      <td>240.0</td>\n",
       "      <td>NaN</td>\n",
       "      <td>0</td>\n",
       "      <td>98.0</td>\n",
       "      <td>0</td>\n",
       "      <td>1</td>\n",
       "      <td>0</td>\n",
       "      <td>2.0</td>\n",
       "      <td>2</td>\n",
       "      <td>0</td>\n",
       "    </tr>\n",
       "  </tbody>\n",
       "</table>\n",
       "<p>5 rows × 33 columns</p>\n",
       "</div>"
      ],
      "text/plain": [
       "      hotel  arrival_date_month      meal   country  market_segment  \\\n",
       "0  0.277674            0.374644  0.374106  0.567333        0.153712   \n",
       "1  0.277674            0.374644  0.374106  0.567333        0.153712   \n",
       "2  0.277674            0.374644  0.374106  0.202310        0.153712   \n",
       "3  0.277674            0.374644  0.374106  0.202310        0.187618   \n",
       "4  0.277674            0.374644  0.374106  0.202310        0.367590   \n",
       "\n",
       "   distribution_channel  reserved_room_type  assigned_room_type  \\\n",
       "0              0.174868            0.330827            0.188186   \n",
       "1              0.174868            0.330827            0.188186   \n",
       "2              0.174868            0.391567            0.188186   \n",
       "3              0.220568            0.391567            0.445055   \n",
       "4              0.410598            0.391567            0.445055   \n",
       "\n",
       "   customer_type  reservation_status  ...  agent  company  \\\n",
       "0       0.407864                 0.0  ...    NaN      NaN   \n",
       "1       0.407864                 0.0  ...    NaN      NaN   \n",
       "2       0.407864                 0.0  ...    NaN      NaN   \n",
       "3       0.407864                 0.0  ...  304.0      NaN   \n",
       "4       0.407864                 0.0  ...  240.0      NaN   \n",
       "\n",
       "   days_in_waiting_list   adr  required_car_parking_spaces  \\\n",
       "0                     0   0.0                            0   \n",
       "1                     0   0.0                            0   \n",
       "2                     0  75.0                            0   \n",
       "3                     0  75.0                            0   \n",
       "4                     0  98.0                            0   \n",
       "\n",
       "   total_of_special_requests  is_family  total_customer  total_nights  \\\n",
       "0                          0          0             2.0             0   \n",
       "1                          0          0             2.0             0   \n",
       "2                          0          0             1.0             1   \n",
       "3                          0          0             1.0             1   \n",
       "4                          1          0             2.0             2   \n",
       "\n",
       "   deposit_given  \n",
       "0              0  \n",
       "1              0  \n",
       "2              0  \n",
       "3              0  \n",
       "4              0  \n",
       "\n",
       "[5 rows x 33 columns]"
      ]
     },
     "execution_count": 343,
     "metadata": {},
     "output_type": "execute_result"
    }
   ],
   "source": [
    "dataframe= pd.concat([data_cate,data[num_features]],axis=1)\n",
    "dataframe.head()"
   ]
  },
  {
   "cell_type": "code",
   "execution_count": 344,
   "id": "8b9b61e4",
   "metadata": {},
   "outputs": [],
   "source": [
    "dataframe.drop(['cancellation'],axis=1,inplace=True)"
   ]
  },
  {
   "cell_type": "code",
   "execution_count": 345,
   "id": "59745894",
   "metadata": {},
   "outputs": [
    {
     "data": {
      "text/plain": [
       "Index(['hotel', 'arrival_date_month', 'meal', 'country', 'market_segment',\n",
       "       'distribution_channel', 'reserved_room_type', 'assigned_room_type',\n",
       "       'customer_type', 'reservation_status', 'reservation_status_date',\n",
       "       'is_canceled', 'lead_time', 'arrival_date_year',\n",
       "       'arrival_date_week_number', 'arrival_date_day_of_month',\n",
       "       'stays_in_weekend_nights', 'stays_in_week_nights', 'is_repeated_guest',\n",
       "       'previous_cancellations', 'previous_bookings_not_canceled',\n",
       "       'booking_changes', 'agent', 'company', 'days_in_waiting_list', 'adr',\n",
       "       'required_car_parking_spaces', 'total_of_special_requests', 'is_family',\n",
       "       'total_customer', 'total_nights', 'deposit_given'],\n",
       "      dtype='object')"
      ]
     },
     "execution_count": 345,
     "metadata": {},
     "output_type": "execute_result"
    }
   ],
   "source": [
    "dataframe.columns"
   ]
  },
  {
   "cell_type": "code",
   "execution_count": 346,
   "id": "ab3f3cb9",
   "metadata": {},
   "outputs": [
    {
     "data": {
      "text/plain": [
       "<Axes: xlabel='lead_time', ylabel='Density'>"
      ]
     },
     "execution_count": 346,
     "metadata": {},
     "output_type": "execute_result"
    },
    {
     "data": {
      "image/png": "[encoded data removed]",
      "text/plain": [
       "<Figure size 640x480 with 1 Axes>"
      ]
     },
     "metadata": {},
     "output_type": "display_data"
    }
   ],
   "source": [
    "sns.distplot(dataframe['lead_time'])"
   ]
  },
  {
   "cell_type": "code",
   "execution_count": 347,
   "id": "89d5ee83",
   "metadata": {},
   "outputs": [],
   "source": [
    "def handle_outlier(col):\n",
    "    dataframe[col]= np.log1p(dataframe[col])"
   ]
  },
  {
   "cell_type": "code",
   "execution_count": 348,
   "id": "47ef6d4d",
   "metadata": {},
   "outputs": [],
   "source": [
    "handle_outlier('lead_time')"
   ]
  },
  {
   "cell_type": "code",
   "execution_count": 349,
   "id": "6e534296",
   "metadata": {},
   "outputs": [
    {
     "data": {
      "text/plain": [
       "<Axes: xlabel='lead_time', ylabel='Density'>"
      ]
     },
     "execution_count": 349,
     "metadata": {},
     "output_type": "execute_result"
    },
    {
     "data": {
      "image/png": "[encoded data removed]",
      "text/plain": [
       "<Figure size 640x480 with 1 Axes>"
      ]
     },
     "metadata": {},
     "output_type": "display_data"
    }
   ],
   "source": [
    "sns.distplot(dataframe['lead_time'])"
   ]
  },
  {
   "cell_type": "code",
   "execution_count": 350,
   "id": "0e706e7d",
   "metadata": {},
   "outputs": [
    {
     "data": {
      "text/plain": [
       "<Axes: xlabel='adr', ylabel='Density'>"
      ]
     },
     "execution_count": 350,
     "metadata": {},
     "output_type": "execute_result"
    },
    {
     "data": {
      "image/png": "[encoded data removed]",
      "text/plain": [
       "<Figure size 640x480 with 1 Axes>"
      ]
     },
     "metadata": {},
     "output_type": "display_data"
    }
   ],
   "source": [
    "sns.distplot(dataframe['adr'])"
   ]
  },
  {
   "cell_type": "code",
   "execution_count": 351,
   "id": "4c0f15b8",
   "metadata": {},
   "outputs": [
    {
     "data": {
      "text/html": [
       "<div>\n",
       "<style scoped>\n",
       "    .dataframe tbody tr th:only-of-type {\n",
       "        vertical-align: middle;\n",
       "    }\n",
       "\n",
       "    .dataframe tbody tr th {\n",
       "        vertical-align: top;\n",
       "    }\n",
       "\n",
       "    .dataframe thead th {\n",
       "        text-align: right;\n",
       "    }\n",
       "</style>\n",
       "<table border=\"1\" class=\"dataframe\">\n",
       "  <thead>\n",
       "    <tr style=\"text-align: right;\">\n",
       "      <th></th>\n",
       "      <th>hotel</th>\n",
       "      <th>arrival_date_month</th>\n",
       "      <th>meal</th>\n",
       "      <th>country</th>\n",
       "      <th>market_segment</th>\n",
       "      <th>distribution_channel</th>\n",
       "      <th>reserved_room_type</th>\n",
       "      <th>assigned_room_type</th>\n",
       "      <th>customer_type</th>\n",
       "      <th>reservation_status</th>\n",
       "      <th>...</th>\n",
       "      <th>agent</th>\n",
       "      <th>company</th>\n",
       "      <th>days_in_waiting_list</th>\n",
       "      <th>adr</th>\n",
       "      <th>required_car_parking_spaces</th>\n",
       "      <th>total_of_special_requests</th>\n",
       "      <th>is_family</th>\n",
       "      <th>total_customer</th>\n",
       "      <th>total_nights</th>\n",
       "      <th>deposit_given</th>\n",
       "    </tr>\n",
       "  </thead>\n",
       "  <tbody>\n",
       "    <tr>\n",
       "      <th>14969</th>\n",
       "      <td>0.277674</td>\n",
       "      <td>0.322277</td>\n",
       "      <td>0.374106</td>\n",
       "      <td>0.20231</td>\n",
       "      <td>0.611086</td>\n",
       "      <td>0.174868</td>\n",
       "      <td>0.391567</td>\n",
       "      <td>0.352528</td>\n",
       "      <td>0.254504</td>\n",
       "      <td>0.0</td>\n",
       "      <td>...</td>\n",
       "      <td>273.0</td>\n",
       "      <td>NaN</td>\n",
       "      <td>0</td>\n",
       "      <td>-6.38</td>\n",
       "      <td>0</td>\n",
       "      <td>0</td>\n",
       "      <td>0</td>\n",
       "      <td>2.0</td>\n",
       "      <td>10</td>\n",
       "      <td>0</td>\n",
       "    </tr>\n",
       "  </tbody>\n",
       "</table>\n",
       "<p>1 rows × 32 columns</p>\n",
       "</div>"
      ],
      "text/plain": [
       "          hotel  arrival_date_month      meal  country  market_segment  \\\n",
       "14969  0.277674            0.322277  0.374106  0.20231        0.611086   \n",
       "\n",
       "       distribution_channel  reserved_room_type  assigned_room_type  \\\n",
       "14969              0.174868            0.391567            0.352528   \n",
       "\n",
       "       customer_type  reservation_status  ...  agent  company  \\\n",
       "14969       0.254504                 0.0  ...  273.0      NaN   \n",
       "\n",
       "       days_in_waiting_list   adr  required_car_parking_spaces  \\\n",
       "14969                     0 -6.38                            0   \n",
       "\n",
       "       total_of_special_requests  is_family  total_customer  total_nights  \\\n",
       "14969                          0          0             2.0            10   \n",
       "\n",
       "       deposit_given  \n",
       "14969              0  \n",
       "\n",
       "[1 rows x 32 columns]"
      ]
     },
     "execution_count": 351,
     "metadata": {},
     "output_type": "execute_result"
    }
   ],
   "source": [
    "dataframe[dataframe['adr']<0]"
   ]
  },
  {
   "cell_type": "code",
   "execution_count": 352,
   "id": "3271c47e",
   "metadata": {},
   "outputs": [
    {
     "data": {
      "text/plain": [
       "<Axes: xlabel='adr', ylabel='Density'>"
      ]
     },
     "execution_count": 352,
     "metadata": {},
     "output_type": "execute_result"
    },
    {
     "data": {
      "image/png": "[encoded data removed]",
      "text/plain": [
       "<Figure size 640x480 with 1 Axes>"
      ]
     },
     "metadata": {},
     "output_type": "display_data"
    }
   ],
   "source": [
    "sns.distplot(dataframe['adr'].dropna())"
   ]
  },
  {
   "cell_type": "markdown",
   "id": "81f4f070",
   "metadata": {},
   "source": [
    "### Select important features using corel;ation & univariate"
   ]
  },
  {
   "cell_type": "code",
   "execution_count": 353,
   "id": "353caf17",
   "metadata": {},
   "outputs": [
    {
     "data": {
      "text/plain": [
       "<seaborn.axisgrid.FacetGrid at 0x1a6014a4890>"
      ]
     },
     "execution_count": 353,
     "metadata": {},
     "output_type": "execute_result"
    },
    {
     "data": {
      "image/png": "[encoded data removed]",
      "text/plain": [
       "<Figure size 391.486x300 with 1 Axes>"
      ]
     },
     "metadata": {},
     "output_type": "display_data"
    }
   ],
   "source": [
    "sns.FacetGrid(data, hue='is_canceled', xlim=(0,500)).map(sns.kdeplot, 'lead_time', shade=True).add_legend()"
   ]
  },
  {
   "cell_type": "code",
   "execution_count": 354,
   "id": "b9f522a0",
   "metadata": {},
   "outputs": [
    {
     "data": {
      "text/html": [
       "<div>\n",
       "<style scoped>\n",
       "    .dataframe tbody tr th:only-of-type {\n",
       "        vertical-align: middle;\n",
       "    }\n",
       "\n",
       "    .dataframe tbody tr th {\n",
       "        vertical-align: top;\n",
       "    }\n",
       "\n",
       "    .dataframe thead th {\n",
       "        text-align: right;\n",
       "    }\n",
       "</style>\n",
       "<table border=\"1\" class=\"dataframe\">\n",
       "  <thead>\n",
       "    <tr style=\"text-align: right;\">\n",
       "      <th></th>\n",
       "      <th>hotel</th>\n",
       "      <th>arrival_date_month</th>\n",
       "      <th>meal</th>\n",
       "      <th>country</th>\n",
       "      <th>market_segment</th>\n",
       "      <th>distribution_channel</th>\n",
       "      <th>reserved_room_type</th>\n",
       "      <th>assigned_room_type</th>\n",
       "      <th>customer_type</th>\n",
       "      <th>reservation_status</th>\n",
       "      <th>...</th>\n",
       "      <th>agent</th>\n",
       "      <th>company</th>\n",
       "      <th>days_in_waiting_list</th>\n",
       "      <th>adr</th>\n",
       "      <th>required_car_parking_spaces</th>\n",
       "      <th>total_of_special_requests</th>\n",
       "      <th>is_family</th>\n",
       "      <th>total_customer</th>\n",
       "      <th>total_nights</th>\n",
       "      <th>deposit_given</th>\n",
       "    </tr>\n",
       "  </thead>\n",
       "  <tbody>\n",
       "    <tr>\n",
       "      <th>hotel</th>\n",
       "      <td>1.000000</td>\n",
       "      <td>0.051197</td>\n",
       "      <td>0.061782</td>\n",
       "      <td>-0.035098</td>\n",
       "      <td>0.102592</td>\n",
       "      <td>0.182266</td>\n",
       "      <td>0.198171</td>\n",
       "      <td>0.280884</td>\n",
       "      <td>-0.008378</td>\n",
       "      <td>0.137082</td>\n",
       "      <td>...</td>\n",
       "      <td>-0.790482</td>\n",
       "      <td>-0.364682</td>\n",
       "      <td>0.072725</td>\n",
       "      <td>0.098522</td>\n",
       "      <td>-0.218961</td>\n",
       "      <td>-0.043478</td>\n",
       "      <td>NaN</td>\n",
       "      <td>-0.038772</td>\n",
       "      <td>-0.249747</td>\n",
       "      <td>0.172415</td>\n",
       "    </tr>\n",
       "    <tr>\n",
       "      <th>arrival_date_month</th>\n",
       "      <td>0.051197</td>\n",
       "      <td>1.000000</td>\n",
       "      <td>-0.010208</td>\n",
       "      <td>-0.050413</td>\n",
       "      <td>0.047902</td>\n",
       "      <td>0.077075</td>\n",
       "      <td>-0.038801</td>\n",
       "      <td>0.015456</td>\n",
       "      <td>-0.029636</td>\n",
       "      <td>0.069886</td>\n",
       "      <td>...</td>\n",
       "      <td>-0.027666</td>\n",
       "      <td>-0.022334</td>\n",
       "      <td>0.029164</td>\n",
       "      <td>0.280913</td>\n",
       "      <td>-0.021910</td>\n",
       "      <td>0.002763</td>\n",
       "      <td>NaN</td>\n",
       "      <td>0.079088</td>\n",
       "      <td>0.045648</td>\n",
       "      <td>0.057361</td>\n",
       "    </tr>\n",
       "    <tr>\n",
       "      <th>meal</th>\n",
       "      <td>0.061782</td>\n",
       "      <td>-0.010208</td>\n",
       "      <td>1.000000</td>\n",
       "      <td>0.022425</td>\n",
       "      <td>-0.026007</td>\n",
       "      <td>-0.025486</td>\n",
       "      <td>0.010035</td>\n",
       "      <td>0.013913</td>\n",
       "      <td>0.105767</td>\n",
       "      <td>0.050584</td>\n",
       "      <td>...</td>\n",
       "      <td>-0.096816</td>\n",
       "      <td>-0.118572</td>\n",
       "      <td>-0.031562</td>\n",
       "      <td>-0.034308</td>\n",
       "      <td>0.003455</td>\n",
       "      <td>0.006875</td>\n",
       "      <td>NaN</td>\n",
       "      <td>-0.003449</td>\n",
       "      <td>-0.055689</td>\n",
       "      <td>0.047597</td>\n",
       "    </tr>\n",
       "    <tr>\n",
       "      <th>country</th>\n",
       "      <td>-0.035098</td>\n",
       "      <td>-0.050413</td>\n",
       "      <td>0.022425</td>\n",
       "      <td>1.000000</td>\n",
       "      <td>0.084743</td>\n",
       "      <td>-0.125226</td>\n",
       "      <td>0.153287</td>\n",
       "      <td>0.128403</td>\n",
       "      <td>-0.031092</td>\n",
       "      <td>0.360995</td>\n",
       "      <td>...</td>\n",
       "      <td>0.057877</td>\n",
       "      <td>-0.224507</td>\n",
       "      <td>0.068043</td>\n",
       "      <td>-0.130246</td>\n",
       "      <td>0.004774</td>\n",
       "      <td>-0.201682</td>\n",
       "      <td>NaN</td>\n",
       "      <td>-0.114925</td>\n",
       "      <td>-0.161204</td>\n",
       "      <td>0.398957</td>\n",
       "    </tr>\n",
       "    <tr>\n",
       "      <th>market_segment</th>\n",
       "      <td>0.102592</td>\n",
       "      <td>0.047902</td>\n",
       "      <td>-0.026007</td>\n",
       "      <td>0.084743</td>\n",
       "      <td>1.000000</td>\n",
       "      <td>0.540116</td>\n",
       "      <td>0.182813</td>\n",
       "      <td>0.209272</td>\n",
       "      <td>-0.265606</td>\n",
       "      <td>0.267006</td>\n",
       "      <td>...</td>\n",
       "      <td>-0.084879</td>\n",
       "      <td>0.285168</td>\n",
       "      <td>0.096385</td>\n",
       "      <td>-0.113251</td>\n",
       "      <td>-0.145726</td>\n",
       "      <td>-0.155463</td>\n",
       "      <td>NaN</td>\n",
       "      <td>-0.023939</td>\n",
       "      <td>-0.004546</td>\n",
       "      <td>0.397229</td>\n",
       "    </tr>\n",
       "    <tr>\n",
       "      <th>distribution_channel</th>\n",
       "      <td>0.182266</td>\n",
       "      <td>0.077075</td>\n",
       "      <td>-0.025486</td>\n",
       "      <td>-0.125226</td>\n",
       "      <td>0.540116</td>\n",
       "      <td>1.000000</td>\n",
       "      <td>0.070381</td>\n",
       "      <td>0.118970</td>\n",
       "      <td>-0.023234</td>\n",
       "      <td>0.177167</td>\n",
       "      <td>...</td>\n",
       "      <td>-0.134485</td>\n",
       "      <td>0.185883</td>\n",
       "      <td>0.048001</td>\n",
       "      <td>0.044939</td>\n",
       "      <td>-0.146562</td>\n",
       "      <td>0.075047</td>\n",
       "      <td>NaN</td>\n",
       "      <td>0.087748</td>\n",
       "      <td>0.084999</td>\n",
       "      <td>0.115160</td>\n",
       "    </tr>\n",
       "    <tr>\n",
       "      <th>reserved_room_type</th>\n",
       "      <td>0.198171</td>\n",
       "      <td>-0.038801</td>\n",
       "      <td>0.010035</td>\n",
       "      <td>0.153287</td>\n",
       "      <td>0.182813</td>\n",
       "      <td>0.070381</td>\n",
       "      <td>1.000000</td>\n",
       "      <td>0.722724</td>\n",
       "      <td>-0.143390</td>\n",
       "      <td>0.072769</td>\n",
       "      <td>...</td>\n",
       "      <td>-0.146356</td>\n",
       "      <td>-0.031010</td>\n",
       "      <td>0.068336</td>\n",
       "      <td>-0.301822</td>\n",
       "      <td>-0.093401</td>\n",
       "      <td>-0.161406</td>\n",
       "      <td>NaN</td>\n",
       "      <td>-0.246339</td>\n",
       "      <td>-0.188866</td>\n",
       "      <td>0.201923</td>\n",
       "    </tr>\n",
       "    <tr>\n",
       "      <th>assigned_room_type</th>\n",
       "      <td>0.280884</td>\n",
       "      <td>0.015456</td>\n",
       "      <td>0.013913</td>\n",
       "      <td>0.128403</td>\n",
       "      <td>0.209272</td>\n",
       "      <td>0.118970</td>\n",
       "      <td>0.722724</td>\n",
       "      <td>1.000000</td>\n",
       "      <td>-0.084025</td>\n",
       "      <td>0.201570</td>\n",
       "      <td>...</td>\n",
       "      <td>-0.196173</td>\n",
       "      <td>-0.101742</td>\n",
       "      <td>0.067129</td>\n",
       "      <td>-0.184677</td>\n",
       "      <td>-0.131035</td>\n",
       "      <td>-0.135337</td>\n",
       "      <td>NaN</td>\n",
       "      <td>-0.229073</td>\n",
       "      <td>-0.103571</td>\n",
       "      <td>0.263383</td>\n",
       "    </tr>\n",
       "    <tr>\n",
       "      <th>customer_type</th>\n",
       "      <td>-0.008378</td>\n",
       "      <td>-0.029636</td>\n",
       "      <td>0.105767</td>\n",
       "      <td>-0.031092</td>\n",
       "      <td>-0.265606</td>\n",
       "      <td>-0.023234</td>\n",
       "      <td>-0.143390</td>\n",
       "      <td>-0.084025</td>\n",
       "      <td>1.000000</td>\n",
       "      <td>0.136617</td>\n",
       "      <td>...</td>\n",
       "      <td>-0.008788</td>\n",
       "      <td>-0.282251</td>\n",
       "      <td>-0.101833</td>\n",
       "      <td>0.175360</td>\n",
       "      <td>0.061786</td>\n",
       "      <td>0.137114</td>\n",
       "      <td>NaN</td>\n",
       "      <td>0.124348</td>\n",
       "      <td>0.037720</td>\n",
       "      <td>0.121789</td>\n",
       "    </tr>\n",
       "    <tr>\n",
       "      <th>reservation_status</th>\n",
       "      <td>0.137082</td>\n",
       "      <td>0.069886</td>\n",
       "      <td>0.050584</td>\n",
       "      <td>0.360995</td>\n",
       "      <td>0.267006</td>\n",
       "      <td>0.177167</td>\n",
       "      <td>0.072769</td>\n",
       "      <td>0.201570</td>\n",
       "      <td>0.136617</td>\n",
       "      <td>1.000000</td>\n",
       "      <td>...</td>\n",
       "      <td>-0.083389</td>\n",
       "      <td>-0.023439</td>\n",
       "      <td>0.054301</td>\n",
       "      <td>0.046492</td>\n",
       "      <td>-0.195701</td>\n",
       "      <td>-0.234877</td>\n",
       "      <td>NaN</td>\n",
       "      <td>0.044811</td>\n",
       "      <td>0.018554</td>\n",
       "      <td>0.481507</td>\n",
       "    </tr>\n",
       "    <tr>\n",
       "      <th>reservation_status_date</th>\n",
       "      <td>0.107481</td>\n",
       "      <td>-0.089512</td>\n",
       "      <td>0.038298</td>\n",
       "      <td>0.342104</td>\n",
       "      <td>0.276512</td>\n",
       "      <td>0.081435</td>\n",
       "      <td>0.148830</td>\n",
       "      <td>0.191989</td>\n",
       "      <td>0.055937</td>\n",
       "      <td>0.488307</td>\n",
       "      <td>...</td>\n",
       "      <td>-0.090523</td>\n",
       "      <td>-0.059442</td>\n",
       "      <td>0.042947</td>\n",
       "      <td>-0.187607</td>\n",
       "      <td>-0.087884</td>\n",
       "      <td>-0.218839</td>\n",
       "      <td>NaN</td>\n",
       "      <td>-0.057492</td>\n",
       "      <td>-0.063224</td>\n",
       "      <td>0.555202</td>\n",
       "    </tr>\n",
       "    <tr>\n",
       "      <th>is_canceled</th>\n",
       "      <td>0.137082</td>\n",
       "      <td>0.069886</td>\n",
       "      <td>0.050584</td>\n",
       "      <td>0.360995</td>\n",
       "      <td>0.267006</td>\n",
       "      <td>0.177167</td>\n",
       "      <td>0.072769</td>\n",
       "      <td>0.201570</td>\n",
       "      <td>0.136617</td>\n",
       "      <td>1.000000</td>\n",
       "      <td>...</td>\n",
       "      <td>-0.083389</td>\n",
       "      <td>-0.023439</td>\n",
       "      <td>0.054301</td>\n",
       "      <td>0.046492</td>\n",
       "      <td>-0.195701</td>\n",
       "      <td>-0.234877</td>\n",
       "      <td>NaN</td>\n",
       "      <td>0.044811</td>\n",
       "      <td>0.018554</td>\n",
       "      <td>0.481507</td>\n",
       "    </tr>\n",
       "    <tr>\n",
       "      <th>lead_time</th>\n",
       "      <td>0.109869</td>\n",
       "      <td>0.241413</td>\n",
       "      <td>-0.040315</td>\n",
       "      <td>-0.066790</td>\n",
       "      <td>0.397346</td>\n",
       "      <td>0.332215</td>\n",
       "      <td>0.026146</td>\n",
       "      <td>0.142173</td>\n",
       "      <td>-0.135881</td>\n",
       "      <td>0.320075</td>\n",
       "      <td>...</td>\n",
       "      <td>-0.086253</td>\n",
       "      <td>0.222135</td>\n",
       "      <td>0.124403</td>\n",
       "      <td>0.042216</td>\n",
       "      <td>-0.148886</td>\n",
       "      <td>-0.029317</td>\n",
       "      <td>NaN</td>\n",
       "      <td>0.136870</td>\n",
       "      <td>0.277977</td>\n",
       "      <td>0.292830</td>\n",
       "    </tr>\n",
       "    <tr>\n",
       "      <th>arrival_date_year</th>\n",
       "      <td>0.035176</td>\n",
       "      <td>0.015509</td>\n",
       "      <td>-0.024568</td>\n",
       "      <td>-0.180118</td>\n",
       "      <td>-0.064498</td>\n",
       "      <td>0.013924</td>\n",
       "      <td>-0.092503</td>\n",
       "      <td>-0.025296</td>\n",
       "      <td>0.204725</td>\n",
       "      <td>0.016622</td>\n",
       "      <td>...</td>\n",
       "      <td>0.063408</td>\n",
       "      <td>0.258038</td>\n",
       "      <td>-0.056348</td>\n",
       "      <td>0.198429</td>\n",
       "      <td>-0.013812</td>\n",
       "      <td>0.108610</td>\n",
       "      <td>NaN</td>\n",
       "      <td>0.052804</td>\n",
       "      <td>0.031796</td>\n",
       "      <td>-0.065975</td>\n",
       "    </tr>\n",
       "    <tr>\n",
       "      <th>arrival_date_week_number</th>\n",
       "      <td>0.001241</td>\n",
       "      <td>0.155653</td>\n",
       "      <td>0.015308</td>\n",
       "      <td>0.017678</td>\n",
       "      <td>0.009895</td>\n",
       "      <td>0.010940</td>\n",
       "      <td>0.010119</td>\n",
       "      <td>0.005852</td>\n",
       "      <td>-0.067980</td>\n",
       "      <td>0.008315</td>\n",
       "      <td>...</td>\n",
       "      <td>-0.031190</td>\n",
       "      <td>-0.076623</td>\n",
       "      <td>0.022677</td>\n",
       "      <td>0.076281</td>\n",
       "      <td>0.001980</td>\n",
       "      <td>0.026202</td>\n",
       "      <td>NaN</td>\n",
       "      <td>0.025748</td>\n",
       "      <td>0.019279</td>\n",
       "      <td>0.007831</td>\n",
       "    </tr>\n",
       "    <tr>\n",
       "      <th>arrival_date_day_of_month</th>\n",
       "      <td>-0.001678</td>\n",
       "      <td>0.002248</td>\n",
       "      <td>-0.005737</td>\n",
       "      <td>0.002172</td>\n",
       "      <td>0.008062</td>\n",
       "      <td>-0.003948</td>\n",
       "      <td>-0.016947</td>\n",
       "      <td>-0.011957</td>\n",
       "      <td>-0.002012</td>\n",
       "      <td>-0.005948</td>\n",
       "      <td>...</td>\n",
       "      <td>0.001396</td>\n",
       "      <td>0.044159</td>\n",
       "      <td>0.022532</td>\n",
       "      <td>0.030291</td>\n",
       "      <td>0.008569</td>\n",
       "      <td>0.003026</td>\n",
       "      <td>NaN</td>\n",
       "      <td>0.006653</td>\n",
       "      <td>-0.027533</td>\n",
       "      <td>-0.008643</td>\n",
       "    </tr>\n",
       "    <tr>\n",
       "      <th>stays_in_weekend_nights</th>\n",
       "      <td>-0.187816</td>\n",
       "      <td>0.046618</td>\n",
       "      <td>-0.040114</td>\n",
       "      <td>-0.146360</td>\n",
       "      <td>0.001091</td>\n",
       "      <td>0.079220</td>\n",
       "      <td>-0.147017</td>\n",
       "      <td>-0.082287</td>\n",
       "      <td>0.037025</td>\n",
       "      <td>-0.001323</td>\n",
       "      <td>...</td>\n",
       "      <td>0.141407</td>\n",
       "      <td>0.068884</td>\n",
       "      <td>-0.054399</td>\n",
       "      <td>0.050670</td>\n",
       "      <td>-0.018520</td>\n",
       "      <td>0.073124</td>\n",
       "      <td>NaN</td>\n",
       "      <td>0.103951</td>\n",
       "      <td>0.760666</td>\n",
       "      <td>-0.114571</td>\n",
       "    </tr>\n",
       "    <tr>\n",
       "      <th>stays_in_week_nights</th>\n",
       "      <td>-0.235955</td>\n",
       "      <td>0.036681</td>\n",
       "      <td>-0.053540</td>\n",
       "      <td>-0.138840</td>\n",
       "      <td>-0.006660</td>\n",
       "      <td>0.072280</td>\n",
       "      <td>-0.175821</td>\n",
       "      <td>-0.095544</td>\n",
       "      <td>0.031095</td>\n",
       "      <td>0.025542</td>\n",
       "      <td>...</td>\n",
       "      <td>0.183430</td>\n",
       "      <td>0.191135</td>\n",
       "      <td>-0.002026</td>\n",
       "      <td>0.066847</td>\n",
       "      <td>-0.024933</td>\n",
       "      <td>0.068738</td>\n",
       "      <td>NaN</td>\n",
       "      <td>0.104525</td>\n",
       "      <td>0.940243</td>\n",
       "      <td>-0.080321</td>\n",
       "    </tr>\n",
       "    <tr>\n",
       "      <th>is_repeated_guest</th>\n",
       "      <td>-0.052526</td>\n",
       "      <td>-0.057691</td>\n",
       "      <td>0.009827</td>\n",
       "      <td>0.154620</td>\n",
       "      <td>-0.169328</td>\n",
       "      <td>-0.206695</td>\n",
       "      <td>0.032507</td>\n",
       "      <td>-0.028268</td>\n",
       "      <td>0.002727</td>\n",
       "      <td>-0.083745</td>\n",
       "      <td>...</td>\n",
       "      <td>0.033668</td>\n",
       "      <td>-0.243619</td>\n",
       "      <td>-0.022057</td>\n",
       "      <td>-0.130807</td>\n",
       "      <td>0.077928</td>\n",
       "      <td>0.012963</td>\n",
       "      <td>NaN</td>\n",
       "      <td>-0.132007</td>\n",
       "      <td>-0.104848</td>\n",
       "      <td>-0.057960</td>\n",
       "    </tr>\n",
       "    <tr>\n",
       "      <th>previous_cancellations</th>\n",
       "      <td>-0.012261</td>\n",
       "      <td>0.008800</td>\n",
       "      <td>0.103606</td>\n",
       "      <td>0.093710</td>\n",
       "      <td>0.074710</td>\n",
       "      <td>-0.003868</td>\n",
       "      <td>0.049290</td>\n",
       "      <td>0.063309</td>\n",
       "      <td>-0.021358</td>\n",
       "      <td>0.110139</td>\n",
       "      <td>...</td>\n",
       "      <td>-0.012520</td>\n",
       "      <td>-0.184485</td>\n",
       "      <td>0.005941</td>\n",
       "      <td>-0.065974</td>\n",
       "      <td>-0.018540</td>\n",
       "      <td>-0.048488</td>\n",
       "      <td>NaN</td>\n",
       "      <td>-0.020408</td>\n",
       "      <td>-0.015437</td>\n",
       "      <td>0.143306</td>\n",
       "    </tr>\n",
       "    <tr>\n",
       "      <th>previous_bookings_not_canceled</th>\n",
       "      <td>-0.004467</td>\n",
       "      <td>-0.021971</td>\n",
       "      <td>0.011109</td>\n",
       "      <td>0.089033</td>\n",
       "      <td>-0.117519</td>\n",
       "      <td>-0.142650</td>\n",
       "      <td>0.022533</td>\n",
       "      <td>-0.003205</td>\n",
       "      <td>0.024716</td>\n",
       "      <td>-0.057365</td>\n",
       "      <td>...</td>\n",
       "      <td>0.023296</td>\n",
       "      <td>-0.208453</td>\n",
       "      <td>-0.009416</td>\n",
       "      <td>-0.072335</td>\n",
       "      <td>0.047506</td>\n",
       "      <td>0.037775</td>\n",
       "      <td>NaN</td>\n",
       "      <td>-0.099680</td>\n",
       "      <td>-0.053279</td>\n",
       "      <td>-0.031521</td>\n",
       "    </tr>\n",
       "    <tr>\n",
       "      <th>booking_changes</th>\n",
       "      <td>-0.076598</td>\n",
       "      <td>-0.011049</td>\n",
       "      <td>-0.027189</td>\n",
       "      <td>-0.061834</td>\n",
       "      <td>-0.057578</td>\n",
       "      <td>-0.118461</td>\n",
       "      <td>-0.040134</td>\n",
       "      <td>-0.096277</td>\n",
       "      <td>-0.095486</td>\n",
       "      <td>-0.144832</td>\n",
       "      <td>...</td>\n",
       "      <td>0.068014</td>\n",
       "      <td>0.141901</td>\n",
       "      <td>-0.011916</td>\n",
       "      <td>0.026601</td>\n",
       "      <td>0.067490</td>\n",
       "      <td>0.055003</td>\n",
       "      <td>NaN</td>\n",
       "      <td>0.006728</td>\n",
       "      <td>0.079407</td>\n",
       "      <td>-0.120657</td>\n",
       "    </tr>\n",
       "    <tr>\n",
       "      <th>agent</th>\n",
       "      <td>-0.790482</td>\n",
       "      <td>-0.027666</td>\n",
       "      <td>-0.096816</td>\n",
       "      <td>0.057877</td>\n",
       "      <td>-0.084879</td>\n",
       "      <td>-0.134485</td>\n",
       "      <td>-0.146356</td>\n",
       "      <td>-0.196173</td>\n",
       "      <td>-0.008788</td>\n",
       "      <td>-0.083389</td>\n",
       "      <td>...</td>\n",
       "      <td>1.000000</td>\n",
       "      <td>0.350746</td>\n",
       "      <td>-0.055458</td>\n",
       "      <td>-0.025386</td>\n",
       "      <td>0.177479</td>\n",
       "      <td>0.034369</td>\n",
       "      <td>NaN</td>\n",
       "      <td>0.003389</td>\n",
       "      <td>0.192972</td>\n",
       "      <td>-0.105834</td>\n",
       "    </tr>\n",
       "    <tr>\n",
       "      <th>company</th>\n",
       "      <td>-0.364682</td>\n",
       "      <td>-0.022334</td>\n",
       "      <td>-0.118572</td>\n",
       "      <td>-0.224507</td>\n",
       "      <td>0.285168</td>\n",
       "      <td>0.185883</td>\n",
       "      <td>-0.031010</td>\n",
       "      <td>-0.101742</td>\n",
       "      <td>-0.282251</td>\n",
       "      <td>-0.023439</td>\n",
       "      <td>...</td>\n",
       "      <td>0.350746</td>\n",
       "      <td>1.000000</td>\n",
       "      <td>0.000359</td>\n",
       "      <td>0.090017</td>\n",
       "      <td>-0.011960</td>\n",
       "      <td>-0.098072</td>\n",
       "      <td>NaN</td>\n",
       "      <td>0.206148</td>\n",
       "      <td>0.173966</td>\n",
       "      <td>-0.021390</td>\n",
       "    </tr>\n",
       "    <tr>\n",
       "      <th>days_in_waiting_list</th>\n",
       "      <td>0.072725</td>\n",
       "      <td>0.029164</td>\n",
       "      <td>-0.031562</td>\n",
       "      <td>0.068043</td>\n",
       "      <td>0.096385</td>\n",
       "      <td>0.048001</td>\n",
       "      <td>0.068336</td>\n",
       "      <td>0.067129</td>\n",
       "      <td>-0.101833</td>\n",
       "      <td>0.054301</td>\n",
       "      <td>...</td>\n",
       "      <td>-0.055458</td>\n",
       "      <td>0.000359</td>\n",
       "      <td>1.000000</td>\n",
       "      <td>-0.040859</td>\n",
       "      <td>-0.030601</td>\n",
       "      <td>-0.082755</td>\n",
       "      <td>NaN</td>\n",
       "      <td>-0.026604</td>\n",
       "      <td>-0.022819</td>\n",
       "      <td>0.120329</td>\n",
       "    </tr>\n",
       "    <tr>\n",
       "      <th>adr</th>\n",
       "      <td>0.098522</td>\n",
       "      <td>0.280913</td>\n",
       "      <td>-0.034308</td>\n",
       "      <td>-0.130246</td>\n",
       "      <td>-0.113251</td>\n",
       "      <td>0.044939</td>\n",
       "      <td>-0.301822</td>\n",
       "      <td>-0.184677</td>\n",
       "      <td>0.175360</td>\n",
       "      <td>0.046492</td>\n",
       "      <td>...</td>\n",
       "      <td>-0.025386</td>\n",
       "      <td>0.090017</td>\n",
       "      <td>-0.040859</td>\n",
       "      <td>1.000000</td>\n",
       "      <td>0.056510</td>\n",
       "      <td>0.172308</td>\n",
       "      <td>NaN</td>\n",
       "      <td>0.363750</td>\n",
       "      <td>0.069760</td>\n",
       "      <td>-0.088882</td>\n",
       "    </tr>\n",
       "    <tr>\n",
       "      <th>required_car_parking_spaces</th>\n",
       "      <td>-0.218961</td>\n",
       "      <td>-0.021910</td>\n",
       "      <td>0.003455</td>\n",
       "      <td>0.004774</td>\n",
       "      <td>-0.145726</td>\n",
       "      <td>-0.146562</td>\n",
       "      <td>-0.093401</td>\n",
       "      <td>-0.131035</td>\n",
       "      <td>0.061786</td>\n",
       "      <td>-0.195701</td>\n",
       "      <td>...</td>\n",
       "      <td>0.177479</td>\n",
       "      <td>-0.011960</td>\n",
       "      <td>-0.030601</td>\n",
       "      <td>0.056510</td>\n",
       "      <td>1.000000</td>\n",
       "      <td>0.082718</td>\n",
       "      <td>NaN</td>\n",
       "      <td>0.047833</td>\n",
       "      <td>-0.025871</td>\n",
       "      <td>-0.095092</td>\n",
       "    </tr>\n",
       "    <tr>\n",
       "      <th>total_of_special_requests</th>\n",
       "      <td>-0.043478</td>\n",
       "      <td>0.002763</td>\n",
       "      <td>0.006875</td>\n",
       "      <td>-0.201682</td>\n",
       "      <td>-0.155463</td>\n",
       "      <td>0.075047</td>\n",
       "      <td>-0.161406</td>\n",
       "      <td>-0.135337</td>\n",
       "      <td>0.137114</td>\n",
       "      <td>-0.234877</td>\n",
       "      <td>...</td>\n",
       "      <td>0.034369</td>\n",
       "      <td>-0.098072</td>\n",
       "      <td>-0.082755</td>\n",
       "      <td>0.172308</td>\n",
       "      <td>0.082718</td>\n",
       "      <td>1.000000</td>\n",
       "      <td>NaN</td>\n",
       "      <td>0.157317</td>\n",
       "      <td>0.079966</td>\n",
       "      <td>-0.268305</td>\n",
       "    </tr>\n",
       "    <tr>\n",
       "      <th>is_family</th>\n",
       "      <td>NaN</td>\n",
       "      <td>NaN</td>\n",
       "      <td>NaN</td>\n",
       "      <td>NaN</td>\n",
       "      <td>NaN</td>\n",
       "      <td>NaN</td>\n",
       "      <td>NaN</td>\n",
       "      <td>NaN</td>\n",
       "      <td>NaN</td>\n",
       "      <td>NaN</td>\n",
       "      <td>...</td>\n",
       "      <td>NaN</td>\n",
       "      <td>NaN</td>\n",
       "      <td>NaN</td>\n",
       "      <td>NaN</td>\n",
       "      <td>NaN</td>\n",
       "      <td>NaN</td>\n",
       "      <td>NaN</td>\n",
       "      <td>NaN</td>\n",
       "      <td>NaN</td>\n",
       "      <td>NaN</td>\n",
       "    </tr>\n",
       "    <tr>\n",
       "      <th>total_customer</th>\n",
       "      <td>-0.038772</td>\n",
       "      <td>0.079088</td>\n",
       "      <td>-0.003449</td>\n",
       "      <td>-0.114925</td>\n",
       "      <td>-0.023939</td>\n",
       "      <td>0.087748</td>\n",
       "      <td>-0.246339</td>\n",
       "      <td>-0.229073</td>\n",
       "      <td>0.124348</td>\n",
       "      <td>0.044811</td>\n",
       "      <td>...</td>\n",
       "      <td>0.003389</td>\n",
       "      <td>0.206148</td>\n",
       "      <td>-0.026604</td>\n",
       "      <td>0.363750</td>\n",
       "      <td>0.047833</td>\n",
       "      <td>0.157317</td>\n",
       "      <td>NaN</td>\n",
       "      <td>1.000000</td>\n",
       "      <td>0.118762</td>\n",
       "      <td>-0.082680</td>\n",
       "    </tr>\n",
       "    <tr>\n",
       "      <th>total_nights</th>\n",
       "      <td>-0.249747</td>\n",
       "      <td>0.045648</td>\n",
       "      <td>-0.055689</td>\n",
       "      <td>-0.161204</td>\n",
       "      <td>-0.004546</td>\n",
       "      <td>0.084999</td>\n",
       "      <td>-0.188866</td>\n",
       "      <td>-0.103571</td>\n",
       "      <td>0.037720</td>\n",
       "      <td>0.018554</td>\n",
       "      <td>...</td>\n",
       "      <td>0.192972</td>\n",
       "      <td>0.173966</td>\n",
       "      <td>-0.022819</td>\n",
       "      <td>0.069760</td>\n",
       "      <td>-0.025871</td>\n",
       "      <td>0.079966</td>\n",
       "      <td>NaN</td>\n",
       "      <td>0.118762</td>\n",
       "      <td>1.000000</td>\n",
       "      <td>-0.104849</td>\n",
       "    </tr>\n",
       "    <tr>\n",
       "      <th>deposit_given</th>\n",
       "      <td>0.172415</td>\n",
       "      <td>0.057361</td>\n",
       "      <td>0.047597</td>\n",
       "      <td>0.398957</td>\n",
       "      <td>0.397229</td>\n",
       "      <td>0.115160</td>\n",
       "      <td>0.201923</td>\n",
       "      <td>0.263383</td>\n",
       "      <td>0.121789</td>\n",
       "      <td>0.481507</td>\n",
       "      <td>...</td>\n",
       "      <td>-0.105834</td>\n",
       "      <td>-0.021390</td>\n",
       "      <td>0.120329</td>\n",
       "      <td>-0.088882</td>\n",
       "      <td>-0.095092</td>\n",
       "      <td>-0.268305</td>\n",
       "      <td>NaN</td>\n",
       "      <td>-0.082680</td>\n",
       "      <td>-0.104849</td>\n",
       "      <td>1.000000</td>\n",
       "    </tr>\n",
       "  </tbody>\n",
       "</table>\n",
       "<p>32 rows × 32 columns</p>\n",
       "</div>"
      ],
      "text/plain": [
       "                                   hotel  arrival_date_month      meal  \\\n",
       "hotel                           1.000000            0.051197  0.061782   \n",
       "arrival_date_month              0.051197            1.000000 -0.010208   \n",
       "meal                            0.061782           -0.010208  1.000000   \n",
       "country                        -0.035098           -0.050413  0.022425   \n",
       "market_segment                  0.102592            0.047902 -0.026007   \n",
       "distribution_channel            0.182266            0.077075 -0.025486   \n",
       "reserved_room_type              0.198171           -0.038801  0.010035   \n",
       "assigned_room_type              0.280884            0.015456  0.013913   \n",
       "customer_type                  -0.008378           -0.029636  0.105767   \n",
       "reservation_status              0.137082            0.069886  0.050584   \n",
       "reservation_status_date         0.107481           -0.089512  0.038298   \n",
       "is_canceled                     0.137082            0.069886  0.050584   \n",
       "lead_time                       0.109869            0.241413 -0.040315   \n",
       "arrival_date_year               0.035176            0.015509 -0.024568   \n",
       "arrival_date_week_number        0.001241            0.155653  0.015308   \n",
       "arrival_date_day_of_month      -0.001678            0.002248 -0.005737   \n",
       "stays_in_weekend_nights        -0.187816            0.046618 -0.040114   \n",
       "stays_in_week_nights           -0.235955            0.036681 -0.053540   \n",
       "is_repeated_guest              -0.052526           -0.057691  0.009827   \n",
       "previous_cancellations         -0.012261            0.008800  0.103606   \n",
       "previous_bookings_not_canceled -0.004467           -0.021971  0.011109   \n",
       "booking_changes                -0.076598           -0.011049 -0.027189   \n",
       "agent                          -0.790482           -0.027666 -0.096816   \n",
       "company                        -0.364682           -0.022334 -0.118572   \n",
       "days_in_waiting_list            0.072725            0.029164 -0.031562   \n",
       "adr                             0.098522            0.280913 -0.034308   \n",
       "required_car_parking_spaces    -0.218961           -0.021910  0.003455   \n",
       "total_of_special_requests      -0.043478            0.002763  0.006875   \n",
       "is_family                            NaN                 NaN       NaN   \n",
       "total_customer                 -0.038772            0.079088 -0.003449   \n",
       "total_nights                   -0.249747            0.045648 -0.055689   \n",
       "deposit_given                   0.172415            0.057361  0.047597   \n",
       "\n",
       "                                 country  market_segment  \\\n",
       "hotel                          -0.035098        0.102592   \n",
       "arrival_date_month             -0.050413        0.047902   \n",
       "meal                            0.022425       -0.026007   \n",
       "country                         1.000000        0.084743   \n",
       "market_segment                  0.084743        1.000000   \n",
       "distribution_channel           -0.125226        0.540116   \n",
       "reserved_room_type              0.153287        0.182813   \n",
       "assigned_room_type              0.128403        0.209272   \n",
       "customer_type                  -0.031092       -0.265606   \n",
       "reservation_status              0.360995        0.267006   \n",
       "reservation_status_date         0.342104        0.276512   \n",
       "is_canceled                     0.360995        0.267006   \n",
       "lead_time                      -0.066790        0.397346   \n",
       "arrival_date_year              -0.180118       -0.064498   \n",
       "arrival_date_week_number        0.017678        0.009895   \n",
       "arrival_date_day_of_month       0.002172        0.008062   \n",
       "stays_in_weekend_nights        -0.146360        0.001091   \n",
       "stays_in_week_nights           -0.138840       -0.006660   \n",
       "is_repeated_guest               0.154620       -0.169328   \n",
       "previous_cancellations          0.093710        0.074710   \n",
       "previous_bookings_not_canceled  0.089033       -0.117519   \n",
       "booking_changes                -0.061834       -0.057578   \n",
       "agent                           0.057877       -0.084879   \n",
       "company                        -0.224507        0.285168   \n",
       "days_in_waiting_list            0.068043        0.096385   \n",
       "adr                            -0.130246       -0.113251   \n",
       "required_car_parking_spaces     0.004774       -0.145726   \n",
       "total_of_special_requests      -0.201682       -0.155463   \n",
       "is_family                            NaN             NaN   \n",
       "total_customer                 -0.114925       -0.023939   \n",
       "total_nights                   -0.161204       -0.004546   \n",
       "deposit_given                   0.398957        0.397229   \n",
       "\n",
       "                                distribution_channel  reserved_room_type  \\\n",
       "hotel                                       0.182266            0.198171   \n",
       "arrival_date_month                          0.077075           -0.038801   \n",
       "meal                                       -0.025486            0.010035   \n",
       "country                                    -0.125226            0.153287   \n",
       "market_segment                              0.540116            0.182813   \n",
       "distribution_channel                        1.000000            0.070381   \n",
       "reserved_room_type                          0.070381            1.000000   \n",
       "assigned_room_type                          0.118970            0.722724   \n",
       "customer_type                              -0.023234           -0.143390   \n",
       "reservation_status                          0.177167            0.072769   \n",
       "reservation_status_date                     0.081435            0.148830   \n",
       "is_canceled                                 0.177167            0.072769   \n",
       "lead_time                                   0.332215            0.026146   \n",
       "arrival_date_year                           0.013924           -0.092503   \n",
       "arrival_date_week_number                    0.010940            0.010119   \n",
       "arrival_date_day_of_month                  -0.003948           -0.016947   \n",
       "stays_in_weekend_nights                     0.079220           -0.147017   \n",
       "stays_in_week_nights                        0.072280           -0.175821   \n",
       "is_repeated_guest                          -0.206695            0.032507   \n",
       "previous_cancellations                     -0.003868            0.049290   \n",
       "previous_bookings_not_canceled             -0.142650            0.022533   \n",
       "booking_changes                            -0.118461           -0.040134   \n",
       "agent                                      -0.134485           -0.146356   \n",
       "company                                     0.185883           -0.031010   \n",
       "days_in_waiting_list                        0.048001            0.068336   \n",
       "adr                                         0.044939           -0.301822   \n",
       "required_car_parking_spaces                -0.146562           -0.093401   \n",
       "total_of_special_requests                   0.075047           -0.161406   \n",
       "is_family                                        NaN                 NaN   \n",
       "total_customer                              0.087748           -0.246339   \n",
       "total_nights                                0.084999           -0.188866   \n",
       "deposit_given                               0.115160            0.201923   \n",
       "\n",
       "                                assigned_room_type  customer_type  \\\n",
       "hotel                                     0.280884      -0.008378   \n",
       "arrival_date_month                        0.015456      -0.029636   \n",
       "meal                                      0.013913       0.105767   \n",
       "country                                   0.128403      -0.031092   \n",
       "market_segment                            0.209272      -0.265606   \n",
       "distribution_channel                      0.118970      -0.023234   \n",
       "reserved_room_type                        0.722724      -0.143390   \n",
       "assigned_room_type                        1.000000      -0.084025   \n",
       "customer_type                            -0.084025       1.000000   \n",
       "reservation_status                        0.201570       0.136617   \n",
       "reservation_status_date                   0.191989       0.055937   \n",
       "is_canceled                               0.201570       0.136617   \n",
       "lead_time                                 0.142173      -0.135881   \n",
       "arrival_date_year                        -0.025296       0.204725   \n",
       "arrival_date_week_number                  0.005852      -0.067980   \n",
       "arrival_date_day_of_month                -0.011957      -0.002012   \n",
       "stays_in_weekend_nights                  -0.082287       0.037025   \n",
       "stays_in_week_nights                     -0.095544       0.031095   \n",
       "is_repeated_guest                        -0.028268       0.002727   \n",
       "previous_cancellations                    0.063309      -0.021358   \n",
       "previous_bookings_not_canceled           -0.003205       0.024716   \n",
       "booking_changes                          -0.096277      -0.095486   \n",
       "agent                                    -0.196173      -0.008788   \n",
       "company                                  -0.101742      -0.282251   \n",
       "days_in_waiting_list                      0.067129      -0.101833   \n",
       "adr                                      -0.184677       0.175360   \n",
       "required_car_parking_spaces              -0.131035       0.061786   \n",
       "total_of_special_requests                -0.135337       0.137114   \n",
       "is_family                                      NaN            NaN   \n",
       "total_customer                           -0.229073       0.124348   \n",
       "total_nights                             -0.103571       0.037720   \n",
       "deposit_given                             0.263383       0.121789   \n",
       "\n",
       "                                reservation_status  ...     agent   company  \\\n",
       "hotel                                     0.137082  ... -0.790482 -0.364682   \n",
       "arrival_date_month                        0.069886  ... -0.027666 -0.022334   \n",
       "meal                                      0.050584  ... -0.096816 -0.118572   \n",
       "country                                   0.360995  ...  0.057877 -0.224507   \n",
       "market_segment                            0.267006  ... -0.084879  0.285168   \n",
       "distribution_channel                      0.177167  ... -0.134485  0.185883   \n",
       "reserved_room_type                        0.072769  ... -0.146356 -0.031010   \n",
       "assigned_room_type                        0.201570  ... -0.196173 -0.101742   \n",
       "customer_type                             0.136617  ... -0.008788 -0.282251   \n",
       "reservation_status                        1.000000  ... -0.083389 -0.023439   \n",
       "reservation_status_date                   0.488307  ... -0.090523 -0.059442   \n",
       "is_canceled                               1.000000  ... -0.083389 -0.023439   \n",
       "lead_time                                 0.320075  ... -0.086253  0.222135   \n",
       "arrival_date_year                         0.016622  ...  0.063408  0.258038   \n",
       "arrival_date_week_number                  0.008315  ... -0.031190 -0.076623   \n",
       "arrival_date_day_of_month                -0.005948  ...  0.001396  0.044159   \n",
       "stays_in_weekend_nights                  -0.001323  ...  0.141407  0.068884   \n",
       "stays_in_week_nights                      0.025542  ...  0.183430  0.191135   \n",
       "is_repeated_guest                        -0.083745  ...  0.033668 -0.243619   \n",
       "previous_cancellations                    0.110139  ... -0.012520 -0.184485   \n",
       "previous_bookings_not_canceled           -0.057365  ...  0.023296 -0.208453   \n",
       "booking_changes                          -0.144832  ...  0.068014  0.141901   \n",
       "agent                                    -0.083389  ...  1.000000  0.350746   \n",
       "company                                  -0.023439  ...  0.350746  1.000000   \n",
       "days_in_waiting_list                      0.054301  ... -0.055458  0.000359   \n",
       "adr                                       0.046492  ... -0.025386  0.090017   \n",
       "required_car_parking_spaces              -0.195701  ...  0.177479 -0.011960   \n",
       "total_of_special_requests                -0.234877  ...  0.034369 -0.098072   \n",
       "is_family                                      NaN  ...       NaN       NaN   \n",
       "total_customer                            0.044811  ...  0.003389  0.206148   \n",
       "total_nights                              0.018554  ...  0.192972  0.173966   \n",
       "deposit_given                             0.481507  ... -0.105834 -0.021390   \n",
       "\n",
       "                                days_in_waiting_list       adr  \\\n",
       "hotel                                       0.072725  0.098522   \n",
       "arrival_date_month                          0.029164  0.280913   \n",
       "meal                                       -0.031562 -0.034308   \n",
       "country                                     0.068043 -0.130246   \n",
       "market_segment                              0.096385 -0.113251   \n",
       "distribution_channel                        0.048001  0.044939   \n",
       "reserved_room_type                          0.068336 -0.301822   \n",
       "assigned_room_type                          0.067129 -0.184677   \n",
       "customer_type                              -0.101833  0.175360   \n",
       "reservation_status                          0.054301  0.046492   \n",
       "reservation_status_date                     0.042947 -0.187607   \n",
       "is_canceled                                 0.054301  0.046492   \n",
       "lead_time                                   0.124403  0.042216   \n",
       "arrival_date_year                          -0.056348  0.198429   \n",
       "arrival_date_week_number                    0.022677  0.076281   \n",
       "arrival_date_day_of_month                   0.022532  0.030291   \n",
       "stays_in_weekend_nights                    -0.054399  0.050670   \n",
       "stays_in_week_nights                       -0.002026  0.066847   \n",
       "is_repeated_guest                          -0.022057 -0.130807   \n",
       "previous_cancellations                      0.005941 -0.065974   \n",
       "previous_bookings_not_canceled             -0.009416 -0.072335   \n",
       "booking_changes                            -0.011916  0.026601   \n",
       "agent                                      -0.055458 -0.025386   \n",
       "company                                     0.000359  0.090017   \n",
       "days_in_waiting_list                        1.000000 -0.040859   \n",
       "adr                                        -0.040859  1.000000   \n",
       "required_car_parking_spaces                -0.030601  0.056510   \n",
       "total_of_special_requests                  -0.082755  0.172308   \n",
       "is_family                                        NaN       NaN   \n",
       "total_customer                             -0.026604  0.363750   \n",
       "total_nights                               -0.022819  0.069760   \n",
       "deposit_given                               0.120329 -0.088882   \n",
       "\n",
       "                                required_car_parking_spaces  \\\n",
       "hotel                                             -0.218961   \n",
       "arrival_date_month                                -0.021910   \n",
       "meal                                               0.003455   \n",
       "country                                            0.004774   \n",
       "market_segment                                    -0.145726   \n",
       "distribution_channel                              -0.146562   \n",
       "reserved_room_type                                -0.093401   \n",
       "assigned_room_type                                -0.131035   \n",
       "customer_type                                      0.061786   \n",
       "reservation_status                                -0.195701   \n",
       "reservation_status_date                           -0.087884   \n",
       "is_canceled                                       -0.195701   \n",
       "lead_time                                         -0.148886   \n",
       "arrival_date_year                                 -0.013812   \n",
       "arrival_date_week_number                           0.001980   \n",
       "arrival_date_day_of_month                          0.008569   \n",
       "stays_in_weekend_nights                           -0.018520   \n",
       "stays_in_week_nights                              -0.024933   \n",
       "is_repeated_guest                                  0.077928   \n",
       "previous_cancellations                            -0.018540   \n",
       "previous_bookings_not_canceled                     0.047506   \n",
       "booking_changes                                    0.067490   \n",
       "agent                                              0.177479   \n",
       "company                                           -0.011960   \n",
       "days_in_waiting_list                              -0.030601   \n",
       "adr                                                0.056510   \n",
       "required_car_parking_spaces                        1.000000   \n",
       "total_of_special_requests                          0.082718   \n",
       "is_family                                               NaN   \n",
       "total_customer                                     0.047833   \n",
       "total_nights                                      -0.025871   \n",
       "deposit_given                                     -0.095092   \n",
       "\n",
       "                                total_of_special_requests  is_family  \\\n",
       "hotel                                           -0.043478        NaN   \n",
       "arrival_date_month                               0.002763        NaN   \n",
       "meal                                             0.006875        NaN   \n",
       "country                                         -0.201682        NaN   \n",
       "market_segment                                  -0.155463        NaN   \n",
       "distribution_channel                             0.075047        NaN   \n",
       "reserved_room_type                              -0.161406        NaN   \n",
       "assigned_room_type                              -0.135337        NaN   \n",
       "customer_type                                    0.137114        NaN   \n",
       "reservation_status                              -0.234877        NaN   \n",
       "reservation_status_date                         -0.218839        NaN   \n",
       "is_canceled                                     -0.234877        NaN   \n",
       "lead_time                                       -0.029317        NaN   \n",
       "arrival_date_year                                0.108610        NaN   \n",
       "arrival_date_week_number                         0.026202        NaN   \n",
       "arrival_date_day_of_month                        0.003026        NaN   \n",
       "stays_in_weekend_nights                          0.073124        NaN   \n",
       "stays_in_week_nights                             0.068738        NaN   \n",
       "is_repeated_guest                                0.012963        NaN   \n",
       "previous_cancellations                          -0.048488        NaN   \n",
       "previous_bookings_not_canceled                   0.037775        NaN   \n",
       "booking_changes                                  0.055003        NaN   \n",
       "agent                                            0.034369        NaN   \n",
       "company                                         -0.098072        NaN   \n",
       "days_in_waiting_list                            -0.082755        NaN   \n",
       "adr                                              0.172308        NaN   \n",
       "required_car_parking_spaces                      0.082718        NaN   \n",
       "total_of_special_requests                        1.000000        NaN   \n",
       "is_family                                             NaN        NaN   \n",
       "total_customer                                   0.157317        NaN   \n",
       "total_nights                                     0.079966        NaN   \n",
       "deposit_given                                   -0.268305        NaN   \n",
       "\n",
       "                                total_customer  total_nights  deposit_given  \n",
       "hotel                                -0.038772     -0.249747       0.172415  \n",
       "arrival_date_month                    0.079088      0.045648       0.057361  \n",
       "meal                                 -0.003449     -0.055689       0.047597  \n",
       "country                              -0.114925     -0.161204       0.398957  \n",
       "market_segment                       -0.023939     -0.004546       0.397229  \n",
       "distribution_channel                  0.087748      0.084999       0.115160  \n",
       "reserved_room_type                   -0.246339     -0.188866       0.201923  \n",
       "assigned_room_type                   -0.229073     -0.103571       0.263383  \n",
       "customer_type                         0.124348      0.037720       0.121789  \n",
       "reservation_status                    0.044811      0.018554       0.481507  \n",
       "reservation_status_date              -0.057492     -0.063224       0.555202  \n",
       "is_canceled                           0.044811      0.018554       0.481507  \n",
       "lead_time                             0.136870      0.277977       0.292830  \n",
       "arrival_date_year                     0.052804      0.031796      -0.065975  \n",
       "arrival_date_week_number              0.025748      0.019279       0.007831  \n",
       "arrival_date_day_of_month             0.006653     -0.027533      -0.008643  \n",
       "stays_in_weekend_nights               0.103951      0.760666      -0.114571  \n",
       "stays_in_week_nights                  0.104525      0.940243      -0.080321  \n",
       "is_repeated_guest                    -0.132007     -0.104848      -0.057960  \n",
       "previous_cancellations               -0.020408     -0.015437       0.143306  \n",
       "previous_bookings_not_canceled       -0.099680     -0.053279      -0.031521  \n",
       "booking_changes                       0.006728      0.079407      -0.120657  \n",
       "agent                                 0.003389      0.192972      -0.105834  \n",
       "company                               0.206148      0.173966      -0.021390  \n",
       "days_in_waiting_list                 -0.026604     -0.022819       0.120329  \n",
       "adr                                   0.363750      0.069760      -0.088882  \n",
       "required_car_parking_spaces           0.047833     -0.025871      -0.095092  \n",
       "total_of_special_requests             0.157317      0.079966      -0.268305  \n",
       "is_family                                  NaN           NaN            NaN  \n",
       "total_customer                        1.000000      0.118762      -0.082680  \n",
       "total_nights                          0.118762      1.000000      -0.104849  \n",
       "deposit_given                        -0.082680     -0.104849       1.000000  \n",
       "\n",
       "[32 rows x 32 columns]"
      ]
     },
     "execution_count": 354,
     "metadata": {},
     "output_type": "execute_result"
    }
   ],
   "source": [
    "corr= dataframe.corr()\n",
    "corr"
   ]
  },
  {
   "cell_type": "code",
   "execution_count": 355,
   "id": "d162d11d",
   "metadata": {},
   "outputs": [
    {
     "data": {
      "text/plain": [
       "total_of_special_requests        -0.234877\n",
       "required_car_parking_spaces      -0.195701\n",
       "booking_changes                  -0.144832\n",
       "is_repeated_guest                -0.083745\n",
       "agent                            -0.083389\n",
       "previous_bookings_not_canceled   -0.057365\n",
       "company                          -0.023439\n",
       "arrival_date_day_of_month        -0.005948\n",
       "stays_in_weekend_nights          -0.001323\n",
       "arrival_date_week_number          0.008315\n",
       "arrival_date_year                 0.016622\n",
       "total_nights                      0.018554\n",
       "stays_in_week_nights              0.025542\n",
       "total_customer                    0.044811\n",
       "adr                               0.046492\n",
       "meal                              0.050584\n",
       "days_in_waiting_list              0.054301\n",
       "arrival_date_month                0.069886\n",
       "reserved_room_type                0.072769\n",
       "previous_cancellations            0.110139\n",
       "customer_type                     0.136617\n",
       "hotel                             0.137082\n",
       "distribution_channel              0.177167\n",
       "assigned_room_type                0.201570\n",
       "market_segment                    0.267006\n",
       "lead_time                         0.320075\n",
       "country                           0.360995\n",
       "deposit_given                     0.481507\n",
       "reservation_status_date           0.488307\n",
       "is_canceled                       1.000000\n",
       "reservation_status                1.000000\n",
       "is_family                              NaN\n",
       "Name: is_canceled, dtype: float64"
      ]
     },
     "execution_count": 355,
     "metadata": {},
     "output_type": "execute_result"
    }
   ],
   "source": [
    "corr['is_canceled'].sort_values(ascending=True)    # need to drop the higher and lower corelation due to overfitting"
   ]
  },
  {
   "cell_type": "code",
   "execution_count": 356,
   "id": "5567b183",
   "metadata": {},
   "outputs": [
    {
     "data": {
      "text/plain": [
       "Index(['total_of_special_requests', 'required_car_parking_spaces',\n",
       "       'booking_changes', 'is_repeated_guest', 'agent',\n",
       "       'previous_bookings_not_canceled', 'company',\n",
       "       'arrival_date_day_of_month', 'stays_in_weekend_nights',\n",
       "       'arrival_date_week_number', 'arrival_date_year', 'total_nights',\n",
       "       'stays_in_week_nights', 'total_customer', 'adr', 'meal',\n",
       "       'days_in_waiting_list', 'arrival_date_month', 'reserved_room_type',\n",
       "       'previous_cancellations', 'customer_type', 'hotel',\n",
       "       'distribution_channel', 'assigned_room_type', 'market_segment',\n",
       "       'lead_time', 'country', 'deposit_given', 'reservation_status_date',\n",
       "       'is_canceled', 'reservation_status', 'is_family'],\n",
       "      dtype='object')"
      ]
     },
     "execution_count": 356,
     "metadata": {},
     "output_type": "execute_result"
    }
   ],
   "source": [
    "corr['is_canceled'].sort_values(ascending=True).index"
   ]
  },
  {
   "cell_type": "code",
   "execution_count": 358,
   "id": "b986e5a8",
   "metadata": {},
   "outputs": [],
   "source": [
    "features_to_drop= ['reservation_status','reservation_status_date','stays_in_weekend_nights','arrival_date_year',\n",
    "                   'arrival_date_day_of_month','arrival_date_week_number']"
   ]
  },
  {
   "cell_type": "code",
   "execution_count": 359,
   "id": "7e4efac4",
   "metadata": {},
   "outputs": [],
   "source": [
    "dataframe.drop(features_to_drop, axis=1, inplace=True)"
   ]
  },
  {
   "cell_type": "code",
   "execution_count": 360,
   "id": "bb4bd509",
   "metadata": {},
   "outputs": [
    {
     "data": {
      "text/plain": [
       "(119210, 26)"
      ]
     },
     "execution_count": 360,
     "metadata": {},
     "output_type": "execute_result"
    }
   ],
   "source": [
    "dataframe.shape"
   ]
  },
  {
   "cell_type": "code",
   "execution_count": 375,
   "id": "79e7cacb",
   "metadata": {},
   "outputs": [],
   "source": [
    "dataframe.dropna(inplace=True)"
   ]
  },
  {
   "cell_type": "markdown",
   "id": "16433c1a",
   "metadata": {},
   "source": [
    "### Splitting the datasets depends upon independent and dependent data"
   ]
  },
  {
   "cell_type": "code",
   "execution_count": 376,
   "id": "bd9a70c9",
   "metadata": {},
   "outputs": [],
   "source": [
    "x= dataframe.drop('is_canceled', axis=1)"
   ]
  },
  {
   "cell_type": "code",
   "execution_count": 377,
   "id": "5e8f52c0",
   "metadata": {},
   "outputs": [],
   "source": [
    "y= dataframe['is_canceled']"
   ]
  },
  {
   "cell_type": "code",
   "execution_count": 378,
   "id": "2b7c710d",
   "metadata": {},
   "outputs": [],
   "source": [
    "from sklearn.linear_model import Lasso\n",
    "from sklearn.feature_selection import SelectFromModel"
   ]
  },
  {
   "cell_type": "code",
   "execution_count": 379,
   "id": "b51ec843",
   "metadata": {},
   "outputs": [],
   "source": [
    "feature_select_model= SelectFromModel(Lasso(alpha=0.05))"
   ]
  },
  {
   "cell_type": "code",
   "execution_count": 380,
   "id": "1639c760",
   "metadata": {},
   "outputs": [
    {
     "data": {
      "text/html": [
       "<style>#sk-container-id-1 {color: black;}#sk-container-id-1 pre{padding: 0;}#sk-container-id-1 div.sk-toggleable {background-color: white;}#sk-container-id-1 label.sk-toggleable__label {cursor: pointer;display: block;width: 100%;margin-bottom: 0;padding: 0.3em;box-sizing: border-box;text-align: center;}#sk-container-id-1 label.sk-toggleable__label-arrow:before {content: \"▸\";float: left;margin-right: 0.25em;color: #696969;}#sk-container-id-1 label.sk-toggleable__label-arrow:hover:before {color: black;}#sk-container-id-1 div.sk-estimator:hover label.sk-toggleable__label-arrow:before {color: black;}#sk-container-id-1 div.sk-toggleable__content {max-height: 0;max-width: 0;overflow: hidden;text-align: left;background-color: #f0f8ff;}#sk-container-id-1 div.sk-toggleable__content pre {margin: 0.2em;color: black;border-radius: 0.25em;background-color: #f0f8ff;}#sk-container-id-1 input.sk-toggleable__control:checked~div.sk-toggleable__content {max-height: 200px;max-width: 100%;overflow: auto;}#sk-container-id-1 input.sk-toggleable__control:checked~label.sk-toggleable__label-arrow:before {content: \"▾\";}#sk-container-id-1 div.sk-estimator input.sk-toggleable__control:checked~label.sk-toggleable__label {background-color: #d4ebff;}#sk-container-id-1 div.sk-label input.sk-toggleable__control:checked~label.sk-toggleable__label {background-color: #d4ebff;}#sk-container-id-1 input.sk-hidden--visually {border: 0;clip: rect(1px 1px 1px 1px);clip: rect(1px, 1px, 1px, 1px);height: 1px;margin: -1px;overflow: hidden;padding: 0;position: absolute;width: 1px;}#sk-container-id-1 div.sk-estimator {font-family: monospace;background-color: #f0f8ff;border: 1px dotted black;border-radius: 0.25em;box-sizing: border-box;margin-bottom: 0.5em;}#sk-container-id-1 div.sk-estimator:hover {background-color: #d4ebff;}#sk-container-id-1 div.sk-parallel-item::after {content: \"\";width: 100%;border-bottom: 1px solid gray;flex-grow: 1;}#sk-container-id-1 div.sk-label:hover label.sk-toggleable__label {background-color: #d4ebff;}#sk-container-id-1 div.sk-serial::before {content: \"\";position: absolute;border-left: 1px solid gray;box-sizing: border-box;top: 0;bottom: 0;left: 50%;z-index: 0;}#sk-container-id-1 div.sk-serial {display: flex;flex-direction: column;align-items: center;background-color: white;padding-right: 0.2em;padding-left: 0.2em;position: relative;}#sk-container-id-1 div.sk-item {position: relative;z-index: 1;}#sk-container-id-1 div.sk-parallel {display: flex;align-items: stretch;justify-content: center;background-color: white;position: relative;}#sk-container-id-1 div.sk-item::before, #sk-container-id-1 div.sk-parallel-item::before {content: \"\";position: absolute;border-left: 1px solid gray;box-sizing: border-box;top: 0;bottom: 0;left: 50%;z-index: -1;}#sk-container-id-1 div.sk-parallel-item {display: flex;flex-direction: column;z-index: 1;position: relative;background-color: white;}#sk-container-id-1 div.sk-parallel-item:first-child::after {align-self: flex-end;width: 50%;}#sk-container-id-1 div.sk-parallel-item:last-child::after {align-self: flex-start;width: 50%;}#sk-container-id-1 div.sk-parallel-item:only-child::after {width: 0;}#sk-container-id-1 div.sk-dashed-wrapped {border: 1px dashed gray;margin: 0 0.4em 0.5em 0.4em;box-sizing: border-box;padding-bottom: 0.4em;background-color: white;}#sk-container-id-1 div.sk-label label {font-family: monospace;font-weight: bold;display: inline-block;line-height: 1.2em;}#sk-container-id-1 div.sk-label-container {text-align: center;}#sk-container-id-1 div.sk-container {/* jupyter's `normalize.less` sets `[hidden] { display: none; }` but bootstrap.min.css set `[hidden] { display: none !important; }` so we also need the `!important` here to be able to override the default hidden behavior on the sphinx rendered scikit-learn.org. See: https://github.com/scikit-learn/scikit-learn/issues/21755 */display: inline-block !important;position: relative;}#sk-container-id-1 div.sk-text-repr-fallback {display: none;}</style><div id=\"sk-container-id-1\" class=\"sk-top-container\"><div class=\"sk-text-repr-fallback\"><pre>SelectFromModel(estimator=Lasso(alpha=0.05))</pre><b>In a Jupyter environment, please rerun this cell to show the HTML representation or trust the notebook. <br />On GitHub, the HTML representation is unable to render, please try loading this page with nbviewer.org.</b></div><div class=\"sk-container\" hidden><div class=\"sk-item sk-dashed-wrapped\"><div class=\"sk-label-container\"><div class=\"sk-label sk-toggleable\"><input class=\"sk-toggleable__control sk-hidden--visually\" id=\"sk-estimator-id-1\" type=\"checkbox\" ><label for=\"sk-estimator-id-1\" class=\"sk-toggleable__label sk-toggleable__label-arrow\">SelectFromModel</label><div class=\"sk-toggleable__content\"><pre>SelectFromModel(estimator=Lasso(alpha=0.05))</pre></div></div></div><div class=\"sk-parallel\"><div class=\"sk-parallel-item\"><div class=\"sk-item\"><div class=\"sk-label-container\"><div class=\"sk-label sk-toggleable\"><input class=\"sk-toggleable__control sk-hidden--visually\" id=\"sk-estimator-id-2\" type=\"checkbox\" ><label for=\"sk-estimator-id-2\" class=\"sk-toggleable__label sk-toggleable__label-arrow\">estimator: Lasso</label><div class=\"sk-toggleable__content\"><pre>Lasso(alpha=0.05)</pre></div></div></div><div class=\"sk-serial\"><div class=\"sk-item\"><div class=\"sk-estimator sk-toggleable\"><input class=\"sk-toggleable__control sk-hidden--visually\" id=\"sk-estimator-id-3\" type=\"checkbox\" ><label for=\"sk-estimator-id-3\" class=\"sk-toggleable__label sk-toggleable__label-arrow\">Lasso</label><div class=\"sk-toggleable__content\"><pre>Lasso(alpha=0.05)</pre></div></div></div></div></div></div></div></div></div></div>"
      ],
      "text/plain": [
       "SelectFromModel(estimator=Lasso(alpha=0.05))"
      ]
     },
     "execution_count": 380,
     "metadata": {},
     "output_type": "execute_result"
    }
   ],
   "source": [
    "feature_select_model.fit(x,y)"
   ]
  },
  {
   "cell_type": "code",
   "execution_count": 381,
   "id": "ffbf4ece",
   "metadata": {},
   "outputs": [
    {
     "data": {
      "text/plain": [
       "array([False, False, False, False, False, False, False, False, False,\n",
       "       False, False, False, False, False, False,  True,  True, False,\n",
       "        True, False, False, False, False,  True, False])"
      ]
     },
     "execution_count": 381,
     "metadata": {},
     "output_type": "execute_result"
    }
   ],
   "source": [
    "feature_select_model.get_support()"
   ]
  },
  {
   "cell_type": "code",
   "execution_count": 383,
   "id": "74a4efbd",
   "metadata": {},
   "outputs": [
    {
     "data": {
      "text/plain": [
       "Index(['hotel', 'arrival_date_month', 'meal', 'country', 'market_segment',\n",
       "       'distribution_channel', 'reserved_room_type', 'assigned_room_type',\n",
       "       'customer_type', 'lead_time', 'stays_in_week_nights',\n",
       "       'is_repeated_guest', 'previous_cancellations',\n",
       "       'previous_bookings_not_canceled', 'booking_changes', 'agent', 'company',\n",
       "       'days_in_waiting_list', 'adr', 'required_car_parking_spaces',\n",
       "       'total_of_special_requests', 'is_family', 'total_customer',\n",
       "       'total_nights', 'deposit_given'],\n",
       "      dtype='object')"
      ]
     },
     "execution_count": 383,
     "metadata": {},
     "output_type": "execute_result"
    }
   ],
   "source": [
    "cols= x.columns\n",
    "cols"
   ]
  },
  {
   "cell_type": "code",
   "execution_count": 386,
   "id": "47acec4b",
   "metadata": {},
   "outputs": [],
   "source": [
    "selected_feature_list= cols[feature_select_model.get_support()]"
   ]
  },
  {
   "cell_type": "code",
   "execution_count": 387,
   "id": "3a8f384c",
   "metadata": {},
   "outputs": [
    {
     "data": {
      "text/html": [
       "<div>\n",
       "<style scoped>\n",
       "    .dataframe tbody tr th:only-of-type {\n",
       "        vertical-align: middle;\n",
       "    }\n",
       "\n",
       "    .dataframe tbody tr th {\n",
       "        vertical-align: top;\n",
       "    }\n",
       "\n",
       "    .dataframe thead th {\n",
       "        text-align: right;\n",
       "    }\n",
       "</style>\n",
       "<table border=\"1\" class=\"dataframe\">\n",
       "  <thead>\n",
       "    <tr style=\"text-align: right;\">\n",
       "      <th></th>\n",
       "      <th>agent</th>\n",
       "      <th>company</th>\n",
       "      <th>adr</th>\n",
       "      <th>total_nights</th>\n",
       "    </tr>\n",
       "  </thead>\n",
       "  <tbody>\n",
       "    <tr>\n",
       "      <th>2392</th>\n",
       "      <td>240.0</td>\n",
       "      <td>113.0</td>\n",
       "      <td>82.0</td>\n",
       "      <td>2</td>\n",
       "    </tr>\n",
       "    <tr>\n",
       "      <th>2697</th>\n",
       "      <td>185.0</td>\n",
       "      <td>281.0</td>\n",
       "      <td>52.2</td>\n",
       "      <td>22</td>\n",
       "    </tr>\n",
       "    <tr>\n",
       "      <th>2867</th>\n",
       "      <td>334.0</td>\n",
       "      <td>281.0</td>\n",
       "      <td>48.0</td>\n",
       "      <td>3</td>\n",
       "    </tr>\n",
       "    <tr>\n",
       "      <th>2877</th>\n",
       "      <td>328.0</td>\n",
       "      <td>281.0</td>\n",
       "      <td>40.0</td>\n",
       "      <td>12</td>\n",
       "    </tr>\n",
       "    <tr>\n",
       "      <th>2878</th>\n",
       "      <td>326.0</td>\n",
       "      <td>281.0</td>\n",
       "      <td>48.0</td>\n",
       "      <td>13</td>\n",
       "    </tr>\n",
       "    <tr>\n",
       "      <th>...</th>\n",
       "      <td>...</td>\n",
       "      <td>...</td>\n",
       "      <td>...</td>\n",
       "      <td>...</td>\n",
       "    </tr>\n",
       "    <tr>\n",
       "      <th>112499</th>\n",
       "      <td>9.0</td>\n",
       "      <td>478.0</td>\n",
       "      <td>150.0</td>\n",
       "      <td>1</td>\n",
       "    </tr>\n",
       "    <tr>\n",
       "      <th>113046</th>\n",
       "      <td>290.0</td>\n",
       "      <td>148.0</td>\n",
       "      <td>95.0</td>\n",
       "      <td>4</td>\n",
       "    </tr>\n",
       "    <tr>\n",
       "      <th>113082</th>\n",
       "      <td>290.0</td>\n",
       "      <td>148.0</td>\n",
       "      <td>110.0</td>\n",
       "      <td>4</td>\n",
       "    </tr>\n",
       "    <tr>\n",
       "      <th>113627</th>\n",
       "      <td>14.0</td>\n",
       "      <td>229.0</td>\n",
       "      <td>135.0</td>\n",
       "      <td>1</td>\n",
       "    </tr>\n",
       "    <tr>\n",
       "      <th>116451</th>\n",
       "      <td>9.0</td>\n",
       "      <td>421.0</td>\n",
       "      <td>120.6</td>\n",
       "      <td>4</td>\n",
       "    </tr>\n",
       "  </tbody>\n",
       "</table>\n",
       "<p>217 rows × 4 columns</p>\n",
       "</div>"
      ],
      "text/plain": [
       "        agent  company    adr  total_nights\n",
       "2392    240.0    113.0   82.0             2\n",
       "2697    185.0    281.0   52.2            22\n",
       "2867    334.0    281.0   48.0             3\n",
       "2877    328.0    281.0   40.0            12\n",
       "2878    326.0    281.0   48.0            13\n",
       "...       ...      ...    ...           ...\n",
       "112499    9.0    478.0  150.0             1\n",
       "113046  290.0    148.0   95.0             4\n",
       "113082  290.0    148.0  110.0             4\n",
       "113627   14.0    229.0  135.0             1\n",
       "116451    9.0    421.0  120.6             4\n",
       "\n",
       "[217 rows x 4 columns]"
      ]
     },
     "execution_count": 387,
     "metadata": {},
     "output_type": "execute_result"
    }
   ],
   "source": [
    "x[selected_feature_list]"
   ]
  },
  {
   "cell_type": "code",
   "execution_count": 388,
   "id": "8aa672ef",
   "metadata": {},
   "outputs": [
    {
     "data": {
      "text/plain": [
       "2392      0\n",
       "2697      0\n",
       "2867      0\n",
       "2877      0\n",
       "2878      0\n",
       "         ..\n",
       "112499    0\n",
       "113046    0\n",
       "113082    0\n",
       "113627    0\n",
       "116451    0\n",
       "Name: is_canceled, Length: 217, dtype: int64"
      ]
     },
     "execution_count": 388,
     "metadata": {},
     "output_type": "execute_result"
    }
   ],
   "source": [
    "y"
   ]
  },
  {
   "cell_type": "markdown",
   "id": "46245d6b",
   "metadata": {},
   "source": [
    "### Building ML model"
   ]
  },
  {
   "cell_type": "code",
   "execution_count": 389,
   "id": "54f81021",
   "metadata": {},
   "outputs": [],
   "source": [
    "from sklearn.model_selection import train_test_split"
   ]
  },
  {
   "cell_type": "code",
   "execution_count": 390,
   "id": "231fd12d",
   "metadata": {},
   "outputs": [],
   "source": [
    "x_train, x_test, y_train, y_test = train_test_split(x, y, test_size=0.2)"
   ]
  },
  {
   "cell_type": "code",
   "execution_count": 391,
   "id": "40cdb562",
   "metadata": {},
   "outputs": [
    {
     "data": {
      "text/html": [
       "<div>\n",
       "<style scoped>\n",
       "    .dataframe tbody tr th:only-of-type {\n",
       "        vertical-align: middle;\n",
       "    }\n",
       "\n",
       "    .dataframe tbody tr th {\n",
       "        vertical-align: top;\n",
       "    }\n",
       "\n",
       "    .dataframe thead th {\n",
       "        text-align: right;\n",
       "    }\n",
       "</style>\n",
       "<table border=\"1\" class=\"dataframe\">\n",
       "  <thead>\n",
       "    <tr style=\"text-align: right;\">\n",
       "      <th></th>\n",
       "      <th>hotel</th>\n",
       "      <th>arrival_date_month</th>\n",
       "      <th>meal</th>\n",
       "      <th>country</th>\n",
       "      <th>market_segment</th>\n",
       "      <th>distribution_channel</th>\n",
       "      <th>reserved_room_type</th>\n",
       "      <th>assigned_room_type</th>\n",
       "      <th>customer_type</th>\n",
       "      <th>lead_time</th>\n",
       "      <th>...</th>\n",
       "      <th>agent</th>\n",
       "      <th>company</th>\n",
       "      <th>days_in_waiting_list</th>\n",
       "      <th>adr</th>\n",
       "      <th>required_car_parking_spaces</th>\n",
       "      <th>total_of_special_requests</th>\n",
       "      <th>is_family</th>\n",
       "      <th>total_customer</th>\n",
       "      <th>total_nights</th>\n",
       "      <th>deposit_given</th>\n",
       "    </tr>\n",
       "  </thead>\n",
       "  <tbody>\n",
       "    <tr>\n",
       "      <th>18208</th>\n",
       "      <td>0.277674</td>\n",
       "      <td>0.313100</td>\n",
       "      <td>0.374106</td>\n",
       "      <td>0.202310</td>\n",
       "      <td>0.187618</td>\n",
       "      <td>0.220568</td>\n",
       "      <td>0.292683</td>\n",
       "      <td>0.251603</td>\n",
       "      <td>0.254504</td>\n",
       "      <td>3.610918</td>\n",
       "      <td>...</td>\n",
       "      <td>185.0</td>\n",
       "      <td>281.0</td>\n",
       "      <td>0</td>\n",
       "      <td>52.20</td>\n",
       "      <td>0</td>\n",
       "      <td>0</td>\n",
       "      <td>0</td>\n",
       "      <td>1.0</td>\n",
       "      <td>8</td>\n",
       "      <td>0</td>\n",
       "    </tr>\n",
       "    <tr>\n",
       "      <th>25635</th>\n",
       "      <td>0.277674</td>\n",
       "      <td>0.374644</td>\n",
       "      <td>0.374106</td>\n",
       "      <td>0.202310</td>\n",
       "      <td>0.367590</td>\n",
       "      <td>0.410598</td>\n",
       "      <td>0.292683</td>\n",
       "      <td>0.247134</td>\n",
       "      <td>0.254504</td>\n",
       "      <td>2.302585</td>\n",
       "      <td>...</td>\n",
       "      <td>240.0</td>\n",
       "      <td>360.0</td>\n",
       "      <td>0</td>\n",
       "      <td>189.00</td>\n",
       "      <td>0</td>\n",
       "      <td>0</td>\n",
       "      <td>0</td>\n",
       "      <td>2.0</td>\n",
       "      <td>1</td>\n",
       "      <td>0</td>\n",
       "    </tr>\n",
       "    <tr>\n",
       "      <th>18247</th>\n",
       "      <td>0.277674</td>\n",
       "      <td>0.313100</td>\n",
       "      <td>0.374106</td>\n",
       "      <td>0.182106</td>\n",
       "      <td>0.187618</td>\n",
       "      <td>0.220568</td>\n",
       "      <td>0.391567</td>\n",
       "      <td>0.445055</td>\n",
       "      <td>0.254504</td>\n",
       "      <td>3.610918</td>\n",
       "      <td>...</td>\n",
       "      <td>185.0</td>\n",
       "      <td>281.0</td>\n",
       "      <td>0</td>\n",
       "      <td>36.00</td>\n",
       "      <td>0</td>\n",
       "      <td>0</td>\n",
       "      <td>0</td>\n",
       "      <td>1.0</td>\n",
       "      <td>8</td>\n",
       "      <td>0</td>\n",
       "    </tr>\n",
       "    <tr>\n",
       "      <th>2954</th>\n",
       "      <td>0.277674</td>\n",
       "      <td>0.313100</td>\n",
       "      <td>0.374106</td>\n",
       "      <td>0.182106</td>\n",
       "      <td>0.187618</td>\n",
       "      <td>0.220568</td>\n",
       "      <td>0.391567</td>\n",
       "      <td>0.445055</td>\n",
       "      <td>0.254504</td>\n",
       "      <td>3.610918</td>\n",
       "      <td>...</td>\n",
       "      <td>185.0</td>\n",
       "      <td>281.0</td>\n",
       "      <td>0</td>\n",
       "      <td>36.75</td>\n",
       "      <td>1</td>\n",
       "      <td>0</td>\n",
       "      <td>0</td>\n",
       "      <td>1.0</td>\n",
       "      <td>8</td>\n",
       "      <td>0</td>\n",
       "    </tr>\n",
       "    <tr>\n",
       "      <th>46695</th>\n",
       "      <td>0.417859</td>\n",
       "      <td>0.305016</td>\n",
       "      <td>0.374106</td>\n",
       "      <td>0.567333</td>\n",
       "      <td>0.153712</td>\n",
       "      <td>0.174868</td>\n",
       "      <td>0.391567</td>\n",
       "      <td>0.251373</td>\n",
       "      <td>0.407864</td>\n",
       "      <td>0.693147</td>\n",
       "      <td>...</td>\n",
       "      <td>14.0</td>\n",
       "      <td>14.0</td>\n",
       "      <td>0</td>\n",
       "      <td>108.00</td>\n",
       "      <td>0</td>\n",
       "      <td>0</td>\n",
       "      <td>0</td>\n",
       "      <td>3.0</td>\n",
       "      <td>1</td>\n",
       "      <td>0</td>\n",
       "    </tr>\n",
       "  </tbody>\n",
       "</table>\n",
       "<p>5 rows × 25 columns</p>\n",
       "</div>"
      ],
      "text/plain": [
       "          hotel  arrival_date_month      meal   country  market_segment  \\\n",
       "18208  0.277674            0.313100  0.374106  0.202310        0.187618   \n",
       "25635  0.277674            0.374644  0.374106  0.202310        0.367590   \n",
       "18247  0.277674            0.313100  0.374106  0.182106        0.187618   \n",
       "2954   0.277674            0.313100  0.374106  0.182106        0.187618   \n",
       "46695  0.417859            0.305016  0.374106  0.567333        0.153712   \n",
       "\n",
       "       distribution_channel  reserved_room_type  assigned_room_type  \\\n",
       "18208              0.220568            0.292683            0.251603   \n",
       "25635              0.410598            0.292683            0.247134   \n",
       "18247              0.220568            0.391567            0.445055   \n",
       "2954               0.220568            0.391567            0.445055   \n",
       "46695              0.174868            0.391567            0.251373   \n",
       "\n",
       "       customer_type  lead_time  ...  agent  company  days_in_waiting_list  \\\n",
       "18208       0.254504   3.610918  ...  185.0    281.0                     0   \n",
       "25635       0.254504   2.302585  ...  240.0    360.0                     0   \n",
       "18247       0.254504   3.610918  ...  185.0    281.0                     0   \n",
       "2954        0.254504   3.610918  ...  185.0    281.0                     0   \n",
       "46695       0.407864   0.693147  ...   14.0     14.0                     0   \n",
       "\n",
       "          adr  required_car_parking_spaces  total_of_special_requests  \\\n",
       "18208   52.20                            0                          0   \n",
       "25635  189.00                            0                          0   \n",
       "18247   36.00                            0                          0   \n",
       "2954    36.75                            1                          0   \n",
       "46695  108.00                            0                          0   \n",
       "\n",
       "       is_family  total_customer  total_nights  deposit_given  \n",
       "18208          0             1.0             8              0  \n",
       "25635          0             2.0             1              0  \n",
       "18247          0             1.0             8              0  \n",
       "2954           0             1.0             8              0  \n",
       "46695          0             3.0             1              0  \n",
       "\n",
       "[5 rows x 25 columns]"
      ]
     },
     "execution_count": 391,
     "metadata": {},
     "output_type": "execute_result"
    }
   ],
   "source": [
    "x_train.head()"
   ]
  },
  {
   "cell_type": "code",
   "execution_count": 392,
   "id": "92634692",
   "metadata": {},
   "outputs": [],
   "source": [
    "from sklearn.linear_model import LogisticRegression"
   ]
  },
  {
   "cell_type": "code",
   "execution_count": 393,
   "id": "d0c18b29",
   "metadata": {},
   "outputs": [],
   "source": [
    "lr= LogisticRegression()"
   ]
  },
  {
   "cell_type": "code",
   "execution_count": 394,
   "id": "da25f054",
   "metadata": {},
   "outputs": [
    {
     "data": {
      "text/html": [
       "<style>#sk-container-id-2 {color: black;}#sk-container-id-2 pre{padding: 0;}#sk-container-id-2 div.sk-toggleable {background-color: white;}#sk-container-id-2 label.sk-toggleable__label {cursor: pointer;display: block;width: 100%;margin-bottom: 0;padding: 0.3em;box-sizing: border-box;text-align: center;}#sk-container-id-2 label.sk-toggleable__label-arrow:before {content: \"▸\";float: left;margin-right: 0.25em;color: #696969;}#sk-container-id-2 label.sk-toggleable__label-arrow:hover:before {color: black;}#sk-container-id-2 div.sk-estimator:hover label.sk-toggleable__label-arrow:before {color: black;}#sk-container-id-2 div.sk-toggleable__content {max-height: 0;max-width: 0;overflow: hidden;text-align: left;background-color: #f0f8ff;}#sk-container-id-2 div.sk-toggleable__content pre {margin: 0.2em;color: black;border-radius: 0.25em;background-color: #f0f8ff;}#sk-container-id-2 input.sk-toggleable__control:checked~div.sk-toggleable__content {max-height: 200px;max-width: 100%;overflow: auto;}#sk-container-id-2 input.sk-toggleable__control:checked~label.sk-toggleable__label-arrow:before {content: \"▾\";}#sk-container-id-2 div.sk-estimator input.sk-toggleable__control:checked~label.sk-toggleable__label {background-color: #d4ebff;}#sk-container-id-2 div.sk-label input.sk-toggleable__control:checked~label.sk-toggleable__label {background-color: #d4ebff;}#sk-container-id-2 input.sk-hidden--visually {border: 0;clip: rect(1px 1px 1px 1px);clip: rect(1px, 1px, 1px, 1px);height: 1px;margin: -1px;overflow: hidden;padding: 0;position: absolute;width: 1px;}#sk-container-id-2 div.sk-estimator {font-family: monospace;background-color: #f0f8ff;border: 1px dotted black;border-radius: 0.25em;box-sizing: border-box;margin-bottom: 0.5em;}#sk-container-id-2 div.sk-estimator:hover {background-color: #d4ebff;}#sk-container-id-2 div.sk-parallel-item::after {content: \"\";width: 100%;border-bottom: 1px solid gray;flex-grow: 1;}#sk-container-id-2 div.sk-label:hover label.sk-toggleable__label {background-color: #d4ebff;}#sk-container-id-2 div.sk-serial::before {content: \"\";position: absolute;border-left: 1px solid gray;box-sizing: border-box;top: 0;bottom: 0;left: 50%;z-index: 0;}#sk-container-id-2 div.sk-serial {display: flex;flex-direction: column;align-items: center;background-color: white;padding-right: 0.2em;padding-left: 0.2em;position: relative;}#sk-container-id-2 div.sk-item {position: relative;z-index: 1;}#sk-container-id-2 div.sk-parallel {display: flex;align-items: stretch;justify-content: center;background-color: white;position: relative;}#sk-container-id-2 div.sk-item::before, #sk-container-id-2 div.sk-parallel-item::before {content: \"\";position: absolute;border-left: 1px solid gray;box-sizing: border-box;top: 0;bottom: 0;left: 50%;z-index: -1;}#sk-container-id-2 div.sk-parallel-item {display: flex;flex-direction: column;z-index: 1;position: relative;background-color: white;}#sk-container-id-2 div.sk-parallel-item:first-child::after {align-self: flex-end;width: 50%;}#sk-container-id-2 div.sk-parallel-item:last-child::after {align-self: flex-start;width: 50%;}#sk-container-id-2 div.sk-parallel-item:only-child::after {width: 0;}#sk-container-id-2 div.sk-dashed-wrapped {border: 1px dashed gray;margin: 0 0.4em 0.5em 0.4em;box-sizing: border-box;padding-bottom: 0.4em;background-color: white;}#sk-container-id-2 div.sk-label label {font-family: monospace;font-weight: bold;display: inline-block;line-height: 1.2em;}#sk-container-id-2 div.sk-label-container {text-align: center;}#sk-container-id-2 div.sk-container {/* jupyter's `normalize.less` sets `[hidden] { display: none; }` but bootstrap.min.css set `[hidden] { display: none !important; }` so we also need the `!important` here to be able to override the default hidden behavior on the sphinx rendered scikit-learn.org. See: https://github.com/scikit-learn/scikit-learn/issues/21755 */display: inline-block !important;position: relative;}#sk-container-id-2 div.sk-text-repr-fallback {display: none;}</style><div id=\"sk-container-id-2\" class=\"sk-top-container\"><div class=\"sk-text-repr-fallback\"><pre>LogisticRegression()</pre><b>In a Jupyter environment, please rerun this cell to show the HTML representation or trust the notebook. <br />On GitHub, the HTML representation is unable to render, please try loading this page with nbviewer.org.</b></div><div class=\"sk-container\" hidden><div class=\"sk-item\"><div class=\"sk-estimator sk-toggleable\"><input class=\"sk-toggleable__control sk-hidden--visually\" id=\"sk-estimator-id-4\" type=\"checkbox\" checked><label for=\"sk-estimator-id-4\" class=\"sk-toggleable__label sk-toggleable__label-arrow\">LogisticRegression</label><div class=\"sk-toggleable__content\"><pre>LogisticRegression()</pre></div></div></div></div></div>"
      ],
      "text/plain": [
       "LogisticRegression()"
      ]
     },
     "execution_count": 394,
     "metadata": {},
     "output_type": "execute_result"
    }
   ],
   "source": [
    "lr.fit(x_train, y_train)"
   ]
  },
  {
   "cell_type": "code",
   "execution_count": 397,
   "id": "62061769",
   "metadata": {},
   "outputs": [
    {
     "data": {
      "text/plain": [
       "array([0, 0, 0, 0, 0, 0, 0, 0, 0, 0, 0, 0, 0, 0, 0, 0, 0, 0, 0, 0, 0, 0,\n",
       "       0, 0, 0, 0, 0, 0, 0, 0, 0, 0, 0, 0, 0, 0, 0, 0, 0, 0, 0, 0, 0, 0],\n",
       "      dtype=int64)"
      ]
     },
     "execution_count": 397,
     "metadata": {},
     "output_type": "execute_result"
    }
   ],
   "source": [
    "pred= lr.predict(x_test)\n",
    "pred"
   ]
  },
  {
   "cell_type": "code",
   "execution_count": 398,
   "id": "c2f2c9ea",
   "metadata": {},
   "outputs": [],
   "source": [
    "from sklearn.metrics import confusion_matrix, accuracy_score"
   ]
  },
  {
   "cell_type": "code",
   "execution_count": 399,
   "id": "49f23621",
   "metadata": {},
   "outputs": [
    {
     "data": {
      "text/plain": [
       "array([[38,  0],\n",
       "       [ 6,  0]], dtype=int64)"
      ]
     },
     "execution_count": 399,
     "metadata": {},
     "output_type": "execute_result"
    }
   ],
   "source": [
    "confusion_matrix(y_test, pred)"
   ]
  },
  {
   "cell_type": "code",
   "execution_count": 400,
   "id": "4b73d68c",
   "metadata": {},
   "outputs": [
    {
     "data": {
      "text/plain": [
       "0.8636363636363636"
      ]
     },
     "execution_count": 400,
     "metadata": {},
     "output_type": "execute_result"
    }
   ],
   "source": [
    "accuracy_score(y_test, pred)"
   ]
  },
  {
   "cell_type": "markdown",
   "id": "8147389a",
   "metadata": {},
   "source": [
    "### How to do cross validation"
   ]
  },
  {
   "cell_type": "code",
   "execution_count": 401,
   "id": "ee616df5",
   "metadata": {},
   "outputs": [],
   "source": [
    "from sklearn.model_selection import cross_val_score"
   ]
  },
  {
   "cell_type": "code",
   "execution_count": 402,
   "id": "4866495f",
   "metadata": {},
   "outputs": [],
   "source": [
    "score= cross_val_score(lr, x,y, cv=10)"
   ]
  },
  {
   "cell_type": "code",
   "execution_count": 403,
   "id": "debbf892",
   "metadata": {},
   "outputs": [
    {
     "data": {
      "text/plain": [
       "0.9173160173160173"
      ]
     },
     "execution_count": 403,
     "metadata": {},
     "output_type": "execute_result"
    }
   ],
   "source": [
    "score.mean()"
   ]
  },
  {
   "cell_type": "code",
   "execution_count": null,
   "id": "d0819640",
   "metadata": {},
   "outputs": [],
   "source": []
  }
 ],
 "metadata": {
  "kernelspec": {
   "display_name": "Python 3 (ipykernel)",
   "language": "python",
   "name": "python3"
  },
  "language_info": {
   "codemirror_mode": {
    "name": "ipython",
    "version": 3
   },
   "file_extension": ".py",
   "mimetype": "text/x-python",
   "name": "python",
   "nbconvert_exporter": "python",
   "pygments_lexer": "ipython3",
   "version": "3.11.4"
  }
 },
 "nbformat": 4,
 "nbformat_minor": 5
}
